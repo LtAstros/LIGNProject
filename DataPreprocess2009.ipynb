{
 "cells": [
  {
   "cell_type": "code",
   "execution_count": 1,
   "id": "df71510c",
   "metadata": {},
   "outputs": [],
   "source": [
    "import pandas as pd\n",
    "import re\n",
    "import datetime\n",
    "import numpy as np"
   ]
  },
  {
   "cell_type": "markdown",
   "id": "a0f964cc",
   "metadata": {},
   "source": [
    "# 2009 Data Preprocess"
   ]
  },
  {
   "cell_type": "code",
   "execution_count": 22,
   "id": "6f93a20e",
   "metadata": {
    "scrolled": true
   },
   "outputs": [
    {
     "name": "stderr",
     "output_type": "stream",
     "text": [
      "/var/folders/08/6rx4zjtn10557fvbrhbl5ykw0000gn/T/ipykernel_92231/488309357.py:1: DtypeWarning: Columns (42,167,168,175,176,179,180,183,184,189,190,191,192,204,205,206,232,233,234,239,241,242) have mixed types. Specify dtype option on import or set low_memory=False.\n",
      "  pbp_data_09 = pd.read_csv(\"./pbp_data/regular_season/reg_pbp_2009.csv\")\n",
      "/var/folders/08/6rx4zjtn10557fvbrhbl5ykw0000gn/T/ipykernel_92231/488309357.py:2: DtypeWarning: Columns (42,167,168,169,170,175,176,179,180,183,184,189,190,191,192,195,196,204,205,206,219,220,221,232,233,234,239,241,242) have mixed types. Specify dtype option on import or set low_memory=False.\n",
      "  pbp_data_10 = pd.read_csv(\"./pbp_data/regular_season/reg_pbp_2010.csv\")\n"
     ]
    }
   ],
   "source": [
    "pbp_data_09 = pd.read_csv(\"./pbp_data/regular_season/reg_pbp_2009.csv\")\n",
    "pbp_data_10 = pd.read_csv(\"./pbp_data/regular_season/reg_pbp_2010.csv\")\n",
    "pbp_data_09 = pd.concat([pbp_data_09,pbp_data_10,pbp_data_10_post,pbp_data_10_pre])"
   ]
  },
  {
   "cell_type": "code",
   "execution_count": null,
   "id": "ad5bd4f8",
   "metadata": {},
   "outputs": [],
   "source": []
  },
  {
   "cell_type": "code",
   "execution_count": 23,
   "id": "f0bc71b7",
   "metadata": {},
   "outputs": [],
   "source": [
    "highlights09 = pd.read_csv(\"./NFLGameData - 2009.csv\")"
   ]
  },
  {
   "cell_type": "code",
   "execution_count": 24,
   "id": "25b80d69",
   "metadata": {},
   "outputs": [],
   "source": [
    "relevant_cols = pbp_data_09.drop(columns=(list(pbp_data_09.iloc[:,58:110].columns) + [\"desc\",\"home_timeouts_remaining\",\"home_timeouts_remaining\",\"timeout\",\"timeout_team\",\"play_id\",\"game_id\",\"game_date\"])).columns"
   ]
  },
  {
   "cell_type": "code",
   "execution_count": 25,
   "id": "3406f2e9",
   "metadata": {
    "scrolled": true
   },
   "outputs": [],
   "source": [
    "highlights09[\"intervals\"] = highlights09.apply(lambda x: pd.Interval(x[\"Play Time End\"],x[\"Play Time Start\"],closed=\"both\"),axis=1)\n",
    "highlights09[\"Date\"] = pd.to_datetime(highlights09[\"Date\"])\n",
    "pbp_data_09[\"game_date\"] = pd.to_datetime(pbp_data_09[\"game_date\"])"
   ]
  },
  {
   "cell_type": "code",
   "execution_count": 26,
   "id": "2f76cc71",
   "metadata": {},
   "outputs": [],
   "source": [
    "merged09 = pbp_data_09.merge(highlights09,left_on=[\"home_team\",\"away_team\"], right_on=[\"Home\",\"Away\"])"
   ]
  },
  {
   "cell_type": "code",
   "execution_count": 27,
   "id": "7fc4c8d9",
   "metadata": {
    "scrolled": true
   },
   "outputs": [
    {
     "data": {
      "text/html": [
       "<div>\n",
       "<style scoped>\n",
       "    .dataframe tbody tr th:only-of-type {\n",
       "        vertical-align: middle;\n",
       "    }\n",
       "\n",
       "    .dataframe tbody tr th {\n",
       "        vertical-align: top;\n",
       "    }\n",
       "\n",
       "    .dataframe thead th {\n",
       "        text-align: right;\n",
       "    }\n",
       "</style>\n",
       "<table border=\"1\" class=\"dataframe\">\n",
       "  <thead>\n",
       "    <tr style=\"text-align: right;\">\n",
       "      <th></th>\n",
       "      <th>home_team</th>\n",
       "      <th>away_team</th>\n",
       "      <th>game_date</th>\n",
       "      <th>Transcript</th>\n",
       "    </tr>\n",
       "  </thead>\n",
       "  <tbody>\n",
       "    <tr>\n",
       "      <th>0</th>\n",
       "      <td>MIN</td>\n",
       "      <td>SF</td>\n",
       "      <td>2009-09-27</td>\n",
       "      <td>Everybody out. Favre rolls. Watch the throw de...</td>\n",
       "    </tr>\n",
       "    <tr>\n",
       "      <th>1</th>\n",
       "      <td>MIN</td>\n",
       "      <td>SF</td>\n",
       "      <td>2009-09-27</td>\n",
       "      <td>And it's blocked! And it's picked up by the 49...</td>\n",
       "    </tr>\n",
       "    <tr>\n",
       "      <th>2</th>\n",
       "      <td>MIN</td>\n",
       "      <td>SF</td>\n",
       "      <td>2009-09-27</td>\n",
       "      <td>Percy Harvin brings it back from the goal line...</td>\n",
       "    </tr>\n",
       "    <tr>\n",
       "      <th>549</th>\n",
       "      <td>CHI</td>\n",
       "      <td>GB</td>\n",
       "      <td>2009-12-13</td>\n",
       "      <td>It's first and goal from inside the one. Hando...</td>\n",
       "    </tr>\n",
       "    <tr>\n",
       "      <th>715</th>\n",
       "      <td>CHI</td>\n",
       "      <td>GB</td>\n",
       "      <td>2010-09-27</td>\n",
       "      <td>It's first and goal from inside the one. Hando...</td>\n",
       "    </tr>\n",
       "    <tr>\n",
       "      <th>874</th>\n",
       "      <td>CHI</td>\n",
       "      <td>GB</td>\n",
       "      <td>2011-01-23</td>\n",
       "      <td>It's first and goal from inside the one. Hando...</td>\n",
       "    </tr>\n",
       "    <tr>\n",
       "      <th>1053</th>\n",
       "      <td>PIT</td>\n",
       "      <td>GB</td>\n",
       "      <td>2009-12-20</td>\n",
       "      <td>Here is one aired out for Mike Wallace. What a...</td>\n",
       "    </tr>\n",
       "    <tr>\n",
       "      <th>1054</th>\n",
       "      <td>PIT</td>\n",
       "      <td>GB</td>\n",
       "      <td>2009-12-20</td>\n",
       "      <td>Down the middle for Jennings, what a perfect t...</td>\n",
       "    </tr>\n",
       "    <tr>\n",
       "      <th>1439</th>\n",
       "      <td>ARI</td>\n",
       "      <td>GB</td>\n",
       "      <td>2010-01-03</td>\n",
       "      <td>On first and goal, Hightower slams it in for t...</td>\n",
       "    </tr>\n",
       "    <tr>\n",
       "      <th>1587</th>\n",
       "      <td>NO</td>\n",
       "      <td>MIN</td>\n",
       "      <td>2010-09-09</td>\n",
       "      <td>Peterson again! How about Adrian Peterson and ...</td>\n",
       "    </tr>\n",
       "  </tbody>\n",
       "</table>\n",
       "</div>"
      ],
      "text/plain": [
       "     home_team away_team  game_date  \\\n",
       "0          MIN        SF 2009-09-27   \n",
       "1          MIN        SF 2009-09-27   \n",
       "2          MIN        SF 2009-09-27   \n",
       "549        CHI        GB 2009-12-13   \n",
       "715        CHI        GB 2010-09-27   \n",
       "874        CHI        GB 2011-01-23   \n",
       "1053       PIT        GB 2009-12-20   \n",
       "1054       PIT        GB 2009-12-20   \n",
       "1439       ARI        GB 2010-01-03   \n",
       "1587        NO       MIN 2010-09-09   \n",
       "\n",
       "                                             Transcript  \n",
       "0     Everybody out. Favre rolls. Watch the throw de...  \n",
       "1     And it's blocked! And it's picked up by the 49...  \n",
       "2     Percy Harvin brings it back from the goal line...  \n",
       "549   It's first and goal from inside the one. Hando...  \n",
       "715   It's first and goal from inside the one. Hando...  \n",
       "874   It's first and goal from inside the one. Hando...  \n",
       "1053  Here is one aired out for Mike Wallace. What a...  \n",
       "1054  Down the middle for Jennings, what a perfect t...  \n",
       "1439  On first and goal, Hightower slams it in for t...  \n",
       "1587  Peterson again! How about Adrian Peterson and ...  "
      ]
     },
     "execution_count": 27,
     "metadata": {},
     "output_type": "execute_result"
    }
   ],
   "source": [
    "merged09[[\"home_team\",\"away_team\",\"game_date\",\"Transcript\"]].drop_duplicates()"
   ]
  },
  {
   "cell_type": "code",
   "execution_count": 28,
   "id": "605dd072",
   "metadata": {},
   "outputs": [
    {
     "data": {
      "text/html": [
       "<div>\n",
       "<style scoped>\n",
       "    .dataframe tbody tr th:only-of-type {\n",
       "        vertical-align: middle;\n",
       "    }\n",
       "\n",
       "    .dataframe tbody tr th {\n",
       "        vertical-align: top;\n",
       "    }\n",
       "\n",
       "    .dataframe thead th {\n",
       "        text-align: right;\n",
       "    }\n",
       "</style>\n",
       "<table border=\"1\" class=\"dataframe\">\n",
       "  <thead>\n",
       "    <tr style=\"text-align: right;\">\n",
       "      <th></th>\n",
       "      <th>Home</th>\n",
       "      <th>Away</th>\n",
       "      <th>Date</th>\n",
       "      <th>URL</th>\n",
       "      <th>Transcript</th>\n",
       "      <th>Play Time Start</th>\n",
       "      <th>Play Time End</th>\n",
       "      <th>intervals</th>\n",
       "    </tr>\n",
       "  </thead>\n",
       "  <tbody>\n",
       "    <tr>\n",
       "      <th>0</th>\n",
       "      <td>PIT</td>\n",
       "      <td>GB</td>\n",
       "      <td>2009-12-20</td>\n",
       "      <td>https://www.youtube.com/watch?v=5mgHYywK1jM&amp;li...</td>\n",
       "      <td>Here is one aired out for Mike Wallace. What a...</td>\n",
       "      <td>3568</td>\n",
       "      <td>3558</td>\n",
       "      <td>[3558, 3568]</td>\n",
       "    </tr>\n",
       "    <tr>\n",
       "      <th>1</th>\n",
       "      <td>PIT</td>\n",
       "      <td>GB</td>\n",
       "      <td>2009-12-20</td>\n",
       "      <td>https://www.youtube.com/watch?v=5mgHYywK1jM&amp;li...</td>\n",
       "      <td>Down the middle for Jennings, what a perfect t...</td>\n",
       "      <td>3248</td>\n",
       "      <td>3232</td>\n",
       "      <td>[3232, 3248]</td>\n",
       "    </tr>\n",
       "    <tr>\n",
       "      <th>2</th>\n",
       "      <td>ARI</td>\n",
       "      <td>GB</td>\n",
       "      <td>2010-01-10</td>\n",
       "      <td>https://www.youtube.com/watch?v=IMhGuBvyp5E&amp;li...</td>\n",
       "      <td>On first and goal, Hightower slams it in for t...</td>\n",
       "      <td>3368</td>\n",
       "      <td>3364</td>\n",
       "      <td>[3364, 3368]</td>\n",
       "    </tr>\n",
       "    <tr>\n",
       "      <th>3</th>\n",
       "      <td>NO</td>\n",
       "      <td>MIN</td>\n",
       "      <td>2010-01-24</td>\n",
       "      <td>https://www.youtube.com/watch?v=-rUp-t386sU&amp;li...</td>\n",
       "      <td>Peterson again! How about Adrian Peterson and ...</td>\n",
       "      <td>3282</td>\n",
       "      <td>3275</td>\n",
       "      <td>[3275, 3282]</td>\n",
       "    </tr>\n",
       "    <tr>\n",
       "      <th>4</th>\n",
       "      <td>MIN</td>\n",
       "      <td>SF</td>\n",
       "      <td>2009-09-27</td>\n",
       "      <td>https://www.youtube.com/watch?v=fKcYHlWhO9w&amp;li...</td>\n",
       "      <td>Everybody out. Favre rolls. Watch the throw de...</td>\n",
       "      <td>12</td>\n",
       "      <td>10</td>\n",
       "      <td>[10, 12]</td>\n",
       "    </tr>\n",
       "    <tr>\n",
       "      <th>5</th>\n",
       "      <td>MIN</td>\n",
       "      <td>SF</td>\n",
       "      <td>2009-09-27</td>\n",
       "      <td>https://www.youtube.com/watch?v=fKcYHlWhO9w&amp;li...</td>\n",
       "      <td>And it's blocked! And it's picked up by the 49...</td>\n",
       "      <td>1806</td>\n",
       "      <td>1800</td>\n",
       "      <td>[1800, 1806]</td>\n",
       "    </tr>\n",
       "    <tr>\n",
       "      <th>6</th>\n",
       "      <td>MIN</td>\n",
       "      <td>SF</td>\n",
       "      <td>2009-09-27</td>\n",
       "      <td>https://www.youtube.com/watch?v=fKcYHlWhO9w&amp;li...</td>\n",
       "      <td>Percy Harvin brings it back from the goal line...</td>\n",
       "      <td>1187</td>\n",
       "      <td>1173</td>\n",
       "      <td>[1173, 1187]</td>\n",
       "    </tr>\n",
       "    <tr>\n",
       "      <th>7</th>\n",
       "      <td>CHI</td>\n",
       "      <td>GB</td>\n",
       "      <td>2010-09-27</td>\n",
       "      <td>https://www.youtube.com/watch?v=PnhyDkQiD6w&amp;li...</td>\n",
       "      <td>It's first and goal from inside the one. Hando...</td>\n",
       "      <td>726</td>\n",
       "      <td>722</td>\n",
       "      <td>[722, 726]</td>\n",
       "    </tr>\n",
       "    <tr>\n",
       "      <th>8</th>\n",
       "      <td>NYG</td>\n",
       "      <td>GB</td>\n",
       "      <td>2010-12-26</td>\n",
       "      <td>https://www.youtube.com/watch?v=YORmPyLcRZM&amp;li...</td>\n",
       "      <td>From the 15 down by 7, Eli airs it out for Man...</td>\n",
       "      <td>2125</td>\n",
       "      <td>2113</td>\n",
       "      <td>[2113, 2125]</td>\n",
       "    </tr>\n",
       "  </tbody>\n",
       "</table>\n",
       "</div>"
      ],
      "text/plain": [
       "  Home Away       Date                                                URL  \\\n",
       "0  PIT   GB 2009-12-20  https://www.youtube.com/watch?v=5mgHYywK1jM&li...   \n",
       "1  PIT   GB 2009-12-20  https://www.youtube.com/watch?v=5mgHYywK1jM&li...   \n",
       "2  ARI   GB 2010-01-10  https://www.youtube.com/watch?v=IMhGuBvyp5E&li...   \n",
       "3   NO  MIN 2010-01-24  https://www.youtube.com/watch?v=-rUp-t386sU&li...   \n",
       "4  MIN   SF 2009-09-27  https://www.youtube.com/watch?v=fKcYHlWhO9w&li...   \n",
       "5  MIN   SF 2009-09-27  https://www.youtube.com/watch?v=fKcYHlWhO9w&li...   \n",
       "6  MIN   SF 2009-09-27  https://www.youtube.com/watch?v=fKcYHlWhO9w&li...   \n",
       "7  CHI   GB 2010-09-27  https://www.youtube.com/watch?v=PnhyDkQiD6w&li...   \n",
       "8  NYG   GB 2010-12-26  https://www.youtube.com/watch?v=YORmPyLcRZM&li...   \n",
       "\n",
       "                                          Transcript  Play Time Start  \\\n",
       "0  Here is one aired out for Mike Wallace. What a...             3568   \n",
       "1  Down the middle for Jennings, what a perfect t...             3248   \n",
       "2  On first and goal, Hightower slams it in for t...             3368   \n",
       "3  Peterson again! How about Adrian Peterson and ...             3282   \n",
       "4  Everybody out. Favre rolls. Watch the throw de...               12   \n",
       "5  And it's blocked! And it's picked up by the 49...             1806   \n",
       "6  Percy Harvin brings it back from the goal line...             1187   \n",
       "7  It's first and goal from inside the one. Hando...              726   \n",
       "8  From the 15 down by 7, Eli airs it out for Man...             2125   \n",
       "\n",
       "   Play Time End     intervals  \n",
       "0           3558  [3558, 3568]  \n",
       "1           3232  [3232, 3248]  \n",
       "2           3364  [3364, 3368]  \n",
       "3           3275  [3275, 3282]  \n",
       "4             10      [10, 12]  \n",
       "5           1800  [1800, 1806]  \n",
       "6           1173  [1173, 1187]  \n",
       "7            722    [722, 726]  \n",
       "8           2113  [2113, 2125]  "
      ]
     },
     "execution_count": 28,
     "metadata": {},
     "output_type": "execute_result"
    }
   ],
   "source": [
    "highlights09"
   ]
  },
  {
   "cell_type": "code",
   "execution_count": 29,
   "id": "1a807935",
   "metadata": {},
   "outputs": [],
   "source": [
    "def in_interval(row):\n",
    "    return row[\"game_seconds_remaining\"] in row[\"intervals\"]"
   ]
  },
  {
   "cell_type": "code",
   "execution_count": 30,
   "id": "30af3cd2",
   "metadata": {},
   "outputs": [],
   "source": [
    "plays09 = merged09[merged09.apply(lambda x: x[\"game_seconds_remaining\"] in x[\"intervals\"],axis=1)]"
   ]
  },
  {
   "cell_type": "code",
   "execution_count": 31,
   "id": "f117cb5e",
   "metadata": {},
   "outputs": [],
   "source": [
    "touches = plays09[plays09[\"touchdown\"] == 1].groupby(\"intervals\")['touchdown'].sum()"
   ]
  },
  {
   "cell_type": "code",
   "execution_count": 32,
   "id": "37db5ac7",
   "metadata": {},
   "outputs": [],
   "source": [
    "mi_index = touches[touches == 1].index"
   ]
  },
  {
   "cell_type": "code",
   "execution_count": 33,
   "id": "872c7998",
   "metadata": {},
   "outputs": [],
   "source": [
    "plays09 = plays09[(plays09[\"touchdown\"] == 1) & (plays09[\"intervals\"].isin(mi_index))]"
   ]
  },
  {
   "cell_type": "code",
   "execution_count": 34,
   "id": "c33ce192",
   "metadata": {},
   "outputs": [],
   "source": [
    "X = plays09[relevant_cols.to_list()+[\"Transcript\"]]"
   ]
  },
  {
   "cell_type": "code",
   "execution_count": 35,
   "id": "8a5fcca5",
   "metadata": {
    "scrolled": true
   },
   "outputs": [],
   "source": [
    "ret_list = []\n",
    "for i in range(X.shape[0]):\n",
    "    ret_list += [{\"json\":X[relevant_cols].iloc[i].replace(0,np.nan).dropna().to_json(),\n",
    "                  \"transcript\":X[\"Transcript\"].iloc[i]}]"
   ]
  },
  {
   "cell_type": "code",
   "execution_count": 36,
   "id": "39d8777e",
   "metadata": {},
   "outputs": [
    {
     "data": {
      "text/html": [
       "<div>\n",
       "<style scoped>\n",
       "    .dataframe tbody tr th:only-of-type {\n",
       "        vertical-align: middle;\n",
       "    }\n",
       "\n",
       "    .dataframe tbody tr th {\n",
       "        vertical-align: top;\n",
       "    }\n",
       "\n",
       "    .dataframe thead th {\n",
       "        text-align: right;\n",
       "    }\n",
       "</style>\n",
       "<table border=\"1\" class=\"dataframe\">\n",
       "  <thead>\n",
       "    <tr style=\"text-align: right;\">\n",
       "      <th></th>\n",
       "      <th>Home</th>\n",
       "      <th>Away</th>\n",
       "      <th>Date</th>\n",
       "      <th>URL</th>\n",
       "      <th>Transcript</th>\n",
       "      <th>Play Time Start</th>\n",
       "      <th>Play Time End</th>\n",
       "      <th>intervals</th>\n",
       "    </tr>\n",
       "  </thead>\n",
       "  <tbody>\n",
       "    <tr>\n",
       "      <th>1</th>\n",
       "      <td>PIT</td>\n",
       "      <td>GB</td>\n",
       "      <td>2009-12-20</td>\n",
       "      <td>https://www.youtube.com/watch?v=5mgHYywK1jM&amp;li...</td>\n",
       "      <td>Down the middle for Jennings, what a perfect t...</td>\n",
       "      <td>3248</td>\n",
       "      <td>3232</td>\n",
       "      <td>[3232, 3248]</td>\n",
       "    </tr>\n",
       "    <tr>\n",
       "      <th>2</th>\n",
       "      <td>ARI</td>\n",
       "      <td>GB</td>\n",
       "      <td>2010-01-10</td>\n",
       "      <td>https://www.youtube.com/watch?v=IMhGuBvyp5E&amp;li...</td>\n",
       "      <td>On first and goal, Hightower slams it in for t...</td>\n",
       "      <td>3368</td>\n",
       "      <td>3364</td>\n",
       "      <td>[3364, 3368]</td>\n",
       "    </tr>\n",
       "    <tr>\n",
       "      <th>3</th>\n",
       "      <td>NO</td>\n",
       "      <td>MIN</td>\n",
       "      <td>2010-01-24</td>\n",
       "      <td>https://www.youtube.com/watch?v=-rUp-t386sU&amp;li...</td>\n",
       "      <td>Peterson again! How about Adrian Peterson and ...</td>\n",
       "      <td>3282</td>\n",
       "      <td>3275</td>\n",
       "      <td>[3275, 3282]</td>\n",
       "    </tr>\n",
       "    <tr>\n",
       "      <th>8</th>\n",
       "      <td>NYG</td>\n",
       "      <td>GB</td>\n",
       "      <td>2010-12-26</td>\n",
       "      <td>https://www.youtube.com/watch?v=YORmPyLcRZM&amp;li...</td>\n",
       "      <td>From the 15 down by 7, Eli airs it out for Man...</td>\n",
       "      <td>2125</td>\n",
       "      <td>2113</td>\n",
       "      <td>[2113, 2125]</td>\n",
       "    </tr>\n",
       "  </tbody>\n",
       "</table>\n",
       "</div>"
      ],
      "text/plain": [
       "  Home Away       Date                                                URL  \\\n",
       "1  PIT   GB 2009-12-20  https://www.youtube.com/watch?v=5mgHYywK1jM&li...   \n",
       "2  ARI   GB 2010-01-10  https://www.youtube.com/watch?v=IMhGuBvyp5E&li...   \n",
       "3   NO  MIN 2010-01-24  https://www.youtube.com/watch?v=-rUp-t386sU&li...   \n",
       "8  NYG   GB 2010-12-26  https://www.youtube.com/watch?v=YORmPyLcRZM&li...   \n",
       "\n",
       "                                          Transcript  Play Time Start  \\\n",
       "1  Down the middle for Jennings, what a perfect t...             3248   \n",
       "2  On first and goal, Hightower slams it in for t...             3368   \n",
       "3  Peterson again! How about Adrian Peterson and ...             3282   \n",
       "8  From the 15 down by 7, Eli airs it out for Man...             2125   \n",
       "\n",
       "   Play Time End     intervals  \n",
       "1           3232  [3232, 3248]  \n",
       "2           3364  [3364, 3368]  \n",
       "3           3275  [3275, 3282]  \n",
       "8           2113  [2113, 2125]  "
      ]
     },
     "execution_count": 36,
     "metadata": {},
     "output_type": "execute_result"
    }
   ],
   "source": [
    "highlights09[~highlights09[\"Transcript\"].isin(X.Transcript)]"
   ]
  },
  {
   "cell_type": "code",
   "execution_count": 37,
   "id": "713b0f02",
   "metadata": {
    "scrolled": true
   },
   "outputs": [
    {
     "data": {
      "text/plain": [
       "array(['Everybody out. Favre rolls. Watch the throw deep it goes. To the end zone for Greg Lewis. Touchdown! Touchdown! Favre did it!',\n",
       "       \"And it's blocked! And it's picked up by the 49ers! Nate Clements goes in for a touchdown! What a play! I believe Ray McDonald blocked it, Nate Clements picked it up and the 49ers have a chance to take the lead!\",\n",
       "       \"Percy Harvin brings it back from the goal line. He's got some room watch out! Percy's going! Percy Harvin is gone! Touchdown Vikings!\",\n",
       "       \"It's first and goal from inside the one. Handoff. Touchdown Chester Taylor!\",\n",
       "       'Here is one aired out for Mike Wallace. What a start. Touch down Pittsburgh! ',\n",
       "       'Down the middle for Jennings, what a perfect throw. Jennings still going. Inside the 20. And the Packers have an answer. 83 yards for Greg Jennings, his 4th touchdown catch of the season.',\n",
       "       'On first and goal, Hightower slams it in for the touchdown. ',\n",
       "       'Peterson again! How about Adrian Peterson and the Vikings win an opening drive touchdown. He went around Sharper and takes it in for the first points of the evening.'],\n",
       "      dtype=object)"
      ]
     },
     "execution_count": 37,
     "metadata": {},
     "output_type": "execute_result"
    }
   ],
   "source": [
    "merged09[\"Transcript\"].unique()"
   ]
  },
  {
   "cell_type": "code",
   "execution_count": 40,
   "id": "e2075cd1",
   "metadata": {},
   "outputs": [
    {
     "data": {
      "text/plain": [
       "[{'json': '{\"home_team\":\"MIN\",\"away_team\":\"SF\",\"posteam\":\"MIN\",\"posteam_type\":\"home\",\"defteam\":\"SF\",\"side_of_field\":\"SF\",\"yardline_100\":26.0,\"quarter_seconds_remaining\":6.0,\"half_seconds_remaining\":6.0,\"game_seconds_remaining\":1806.0,\"game_half\":\"Half1\",\"drive\":14,\"sp\":1,\"qtr\":2,\"down\":2.0,\"time\":\"00:06\",\"yrdln\":\"SF 26\",\"ydstogo\":20,\"ydsnet\":54,\"play_type\":\"field_goal\",\"field_goal_result\":\"blocked\",\"kick_distance\":44.0,\"away_timeouts_remaining\":1,\"td_team\":\"SF\",\"posteam_timeouts_remaining\":1.0,\"defteam_timeouts_remaining\":1.0,\"total_home_score\":13,\"total_away_score\":13,\"posteam_score\":13.0,\"defteam_score\":7.0,\"score_differential\":6.0,\"posteam_score_post\":13.0,\"defteam_score_post\":13.0,\"touchdown\":1.0,\"field_goal_attempt\":1.0,\"kicker_player_name\":\"R.Longwell\",\"kicker_player_id\":\"00-0010072\",\"blocked_player_id\":\"00-0025484\",\"blocked_player_name\":\"R.McDonald\"}',\n",
       "  'transcript': \"And it's blocked! And it's picked up by the 49ers! Nate Clements goes in for a touchdown! What a play! I believe Ray McDonald blocked it, Nate Clements picked it up and the 49ers have a chance to take the lead!\"},\n",
       " {'json': '{\"home_team\":\"MIN\",\"away_team\":\"SF\",\"posteam\":\"MIN\",\"posteam_type\":\"home\",\"defteam\":\"SF\",\"side_of_field\":\"SF\",\"yardline_100\":30.0,\"quarter_seconds_remaining\":287.0,\"half_seconds_remaining\":1187.0,\"game_seconds_remaining\":1187.0,\"game_half\":\"Half2\",\"drive\":19,\"sp\":1,\"qtr\":3,\"time\":\"04:47\",\"yrdln\":\"SF 30\",\"play_type\":\"kickoff\",\"away_timeouts_remaining\":2,\"td_team\":\"MIN\",\"posteam_timeouts_remaining\":3.0,\"defteam_timeouts_remaining\":2.0,\"total_home_score\":19,\"total_away_score\":16,\"posteam_score\":13.0,\"defteam_score\":16.0,\"score_differential\":-3.0,\"posteam_score_post\":19.0,\"defteam_score_post\":16.0,\"score_differential_post\":3.0,\"kickoff_in_endzone\":1.0,\"touchdown\":1.0,\"return_touchdown\":1.0,\"kickoff_attempt\":1.0,\"kickoff_returner_player_name\":\"P.Harvin\",\"kickoff_returner_player_id\":\"00-0026998\",\"kicker_player_name\":\"J.Nedney\",\"kicker_player_id\":\"00-0011970\",\"return_team\":\"MIN\",\"return_yards\":101}',\n",
       "  'transcript': \"Percy Harvin brings it back from the goal line. He's got some room watch out! Percy's going! Percy Harvin is gone! Touchdown Vikings!\"},\n",
       " {'json': '{\"home_team\":\"MIN\",\"away_team\":\"SF\",\"posteam\":\"MIN\",\"posteam_type\":\"home\",\"defteam\":\"SF\",\"side_of_field\":\"SF\",\"yardline_100\":32.0,\"quarter_seconds_remaining\":12.0,\"half_seconds_remaining\":12.0,\"game_seconds_remaining\":12.0,\"game_half\":\"Half2\",\"drive\":27,\"sp\":1,\"qtr\":4,\"down\":3.0,\"time\":\"00:12\",\"yrdln\":\"SF 32\",\"ydstogo\":3,\"ydsnet\":80,\"play_type\":\"pass\",\"yards_gained\":32,\"shotgun\":1,\"qb_dropback\":1.0,\"pass_length\":\"deep\",\"pass_location\":\"right\",\"air_yards\":32.0,\"away_timeouts_remaining\":1,\"td_team\":\"MIN\",\"posteam_timeouts_remaining\":1.0,\"defteam_timeouts_remaining\":1.0,\"total_home_score\":26,\"total_away_score\":23,\"posteam_score\":20.0,\"defteam_score\":23.0,\"score_differential\":-3.0,\"posteam_score_post\":26.0,\"defteam_score_post\":23.0,\"score_differential_post\":3.0,\"first_down_pass\":1.0,\"third_down_converted\":1.0,\"qb_hit\":1.0,\"pass_attempt\":1.0,\"touchdown\":1.0,\"pass_touchdown\":1.0,\"complete_pass\":1.0,\"passer_player_id\":\"00-0005106\",\"passer_player_name\":\"B.Favre\",\"receiver_player_id\":\"00-0021508\",\"receiver_player_name\":\"G.Lewis\",\"qb_hit_1_player_id\":\"00-0024237\",\"qb_hit_1_player_name\":\"M.Lawson\",\"replay_or_challenge\":1,\"replay_or_challenge_result\":\"upheld\"}',\n",
       "  'transcript': 'Everybody out. Favre rolls. Watch the throw deep it goes. To the end zone for Greg Lewis. Touchdown! Touchdown! Favre did it!'},\n",
       " {'json': '{\"home_team\":\"CHI\",\"away_team\":\"GB\",\"posteam\":\"CHI\",\"posteam_type\":\"home\",\"defteam\":\"GB\",\"side_of_field\":\"GB\",\"yardline_100\":1.0,\"quarter_seconds_remaining\":725.0,\"half_seconds_remaining\":725.0,\"game_seconds_remaining\":725.0,\"game_half\":\"Half2\",\"drive\":20,\"sp\":1,\"qtr\":4,\"down\":1.0,\"goal_to_go\":1.0,\"time\":\"12:05\",\"yrdln\":\"GB 1\",\"ydstogo\":1,\"ydsnet\":67,\"play_type\":\"run\",\"yards_gained\":1,\"run_location\":\"right\",\"run_gap\":\"tackle\",\"away_timeouts_remaining\":3,\"td_team\":\"CHI\",\"posteam_timeouts_remaining\":3.0,\"defteam_timeouts_remaining\":3.0,\"total_home_score\":6,\"total_away_score\":14,\"defteam_score\":14.0,\"score_differential\":-14.0,\"posteam_score_post\":6.0,\"defteam_score_post\":14.0,\"score_differential_post\":-8.0,\"first_down_rush\":1.0,\"rush_attempt\":1.0,\"touchdown\":1.0,\"rush_touchdown\":1.0,\"rusher_player_id\":\"00-0021314\",\"rusher_player_name\":\"C.Taylor\"}',\n",
       "  'transcript': \"It's first and goal from inside the one. Handoff. Touchdown Chester Taylor!\"},\n",
       " {'json': '{\"home_team\":\"PIT\",\"away_team\":\"GB\",\"posteam\":\"PIT\",\"posteam_type\":\"home\",\"defteam\":\"GB\",\"side_of_field\":\"PIT\",\"yardline_100\":60.0,\"quarter_seconds_remaining\":868.0,\"half_seconds_remaining\":1768.0,\"game_seconds_remaining\":3568.0,\"game_half\":\"Half1\",\"drive\":2,\"sp\":1,\"qtr\":1,\"down\":1.0,\"time\":\"14:28\",\"yrdln\":\"PIT 40\",\"ydstogo\":10,\"ydsnet\":60,\"play_type\":\"pass\",\"yards_gained\":60,\"qb_dropback\":1.0,\"pass_length\":\"deep\",\"pass_location\":\"right\",\"air_yards\":51.0,\"yards_after_catch\":9.0,\"away_timeouts_remaining\":3,\"td_team\":\"PIT\",\"posteam_timeouts_remaining\":3.0,\"defteam_timeouts_remaining\":3.0,\"total_home_score\":6,\"posteam_score_post\":6.0,\"score_differential_post\":6.0,\"first_down_pass\":1.0,\"pass_attempt\":1.0,\"touchdown\":1.0,\"pass_touchdown\":1.0,\"complete_pass\":1.0,\"passer_player_id\":\"00-0022924\",\"passer_player_name\":\"B.Roethlisberger\",\"receiver_player_id\":\"00-0026901\",\"receiver_player_name\":\"M.Wallace\"}',\n",
       "  'transcript': 'Here is one aired out for Mike Wallace. What a start. Touch down Pittsburgh! '}]"
      ]
     },
     "execution_count": 40,
     "metadata": {},
     "output_type": "execute_result"
    }
   ],
   "source": [
    "ret_list"
   ]
  },
  {
   "cell_type": "code",
   "execution_count": null,
   "id": "6a3ccef8",
   "metadata": {},
   "outputs": [],
   "source": []
  }
 ],
 "metadata": {
  "kernelspec": {
   "display_name": "Python 3 (ipykernel)",
   "language": "python",
   "name": "python3"
  },
  "language_info": {
   "codemirror_mode": {
    "name": "ipython",
    "version": 3
   },
   "file_extension": ".py",
   "mimetype": "text/x-python",
   "name": "python",
   "nbconvert_exporter": "python",
   "pygments_lexer": "ipython3",
   "version": "3.9.13"
  }
 },
 "nbformat": 4,
 "nbformat_minor": 5
}
