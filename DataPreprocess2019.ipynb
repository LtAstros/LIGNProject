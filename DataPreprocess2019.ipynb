{
 "cells": [
  {
   "cell_type": "code",
   "execution_count": 1,
   "id": "df71510c",
   "metadata": {},
   "outputs": [],
   "source": [
    "import pandas as pd\n",
    "import re\n",
    "import datetime\n",
    "import numpy as np"
   ]
  },
  {
   "cell_type": "markdown",
   "id": "a0f964cc",
   "metadata": {},
   "source": [
    "# 2019 Data Preprocess"
   ]
  },
  {
   "cell_type": "code",
   "execution_count": 98,
   "id": "6f93a20e",
   "metadata": {
    "scrolled": true
   },
   "outputs": [
    {
     "name": "stderr",
     "output_type": "stream",
     "text": [
      "/var/folders/08/6rx4zjtn10557fvbrhbl5ykw0000gn/T/ipykernel_89607/20673864.py:1: DtypeWarning: Columns (167,168,169,170,175,176,179,180,183,184,189,190,191,192,195,196,204,205,206,219,220,221,222,223,224,227,228,232,233,234,239,241,242) have mixed types. Specify dtype option on import or set low_memory=False.\n",
      "  pbp_data_19 = pd.read_csv(\"./pbp_data/regular_season/reg_pbp_2019.csv\")\n"
     ]
    }
   ],
   "source": [
    "pbp_data_19 = pd.read_csv(\"./pbp_data/regular_season/reg_pbp_2019.csv\")"
   ]
  },
  {
   "cell_type": "code",
   "execution_count": 74,
   "id": "f0bc71b7",
   "metadata": {},
   "outputs": [],
   "source": [
    "highlights19 = pd.read_csv(\"./2019_NFL_highlight_transcript - Sheet1.csv\")\n",
    "highlights19 = highlights19[~highlights19[\"inning\"].isna()]"
   ]
  },
  {
   "cell_type": "code",
   "execution_count": 75,
   "id": "25b80d69",
   "metadata": {},
   "outputs": [],
   "source": [
    "relevant_cols = pbp_data_19.drop(columns=(list(pbp_data_19.iloc[:,58:110].columns) + [\"desc\",\"home_timeouts_remaining\",\"home_timeouts_remaining\",\"timeout\",\"timeout_team\",\"play_id\",\"game_id\",\"game_date\"])).columns"
   ]
  },
  {
   "cell_type": "code",
   "execution_count": 76,
   "id": "0145de38",
   "metadata": {},
   "outputs": [
    {
     "data": {
      "text/plain": [
       "Index(['play_id', 'game_id', 'home_team', 'away_team', 'posteam',\n",
       "       'posteam_type', 'defteam', 'side_of_field', 'yardline_100', 'game_date',\n",
       "       ...\n",
       "       'penalty_player_id', 'penalty_player_name', 'penalty_yards',\n",
       "       'replay_or_challenge', 'replay_or_challenge_result', 'penalty_type',\n",
       "       'defensive_two_point_attempt', 'defensive_two_point_conv',\n",
       "       'defensive_extra_point_attempt', 'defensive_extra_point_conv'],\n",
       "      dtype='object', length=256)"
      ]
     },
     "execution_count": 76,
     "metadata": {},
     "output_type": "execute_result"
    }
   ],
   "source": [
    "pbp_data_19.columns"
   ]
  },
  {
   "cell_type": "code",
   "execution_count": 77,
   "id": "79f8da40",
   "metadata": {},
   "outputs": [],
   "source": [
    "def process_inning_time(time_str):\n",
    "    quarter = time_str[0]\n",
    "    if quarter == \"O\":\n",
    "        time_remaining = 0\n",
    "    else:\n",
    "        time_remaining = (4 - int(quarter)) * 900\n",
    "    times = re.findall(\"\\d?\\d:\\d\\d\",time_str)\n",
    "    timedeltas = pd.to_timedelta(pd.to_datetime(times,format='%M:%S').strftime('%H:%M:%S').values)\n",
    "    timelists = (timedeltas + datetime.timedelta(seconds=time_remaining)).seconds\n",
    "    return pd.Interval(timelists[1],timelists[0],closed=\"both\")"
   ]
  },
  {
   "cell_type": "code",
   "execution_count": 78,
   "id": "3406f2e9",
   "metadata": {
    "scrolled": true
   },
   "outputs": [],
   "source": [
    "highlights19[\"intervals\"] = highlights19[\"inning\"].apply(process_inning_time)\n",
    "highlights19[\"date\"] = pd.to_datetime(highlights19[\"date\"])\n",
    "pbp_data_19[\"game_date\"] = pd.to_datetime(pbp_data_19[\"game_date\"])"
   ]
  },
  {
   "cell_type": "code",
   "execution_count": 79,
   "id": "2f76cc71",
   "metadata": {},
   "outputs": [],
   "source": [
    "merged19 = pbp_data_19.merge(highlights19,left_on=[\"home_team\",\"away_team\",\"game_date\"], right_on=[\"home\",\"away\",\"date\"])"
   ]
  },
  {
   "cell_type": "code",
   "execution_count": 80,
   "id": "1a807935",
   "metadata": {},
   "outputs": [],
   "source": [
    "def in_interval(row):\n",
    "    return row[\"game_seconds_remaining\"] in row[\"intervals\"]"
   ]
  },
  {
   "cell_type": "code",
   "execution_count": 81,
   "id": "30af3cd2",
   "metadata": {},
   "outputs": [],
   "source": [
    "plays19 = merged19[merged19.apply(lambda x: x[\"game_seconds_remaining\"] in x[\"intervals\"],axis=1)]"
   ]
  },
  {
   "cell_type": "code",
   "execution_count": 82,
   "id": "c665f846",
   "metadata": {},
   "outputs": [],
   "source": [
    "touches = plays19[plays19[\"touchdown\"] == 1].groupby(\"intervals\")['touchdown'].sum()"
   ]
  },
  {
   "cell_type": "code",
   "execution_count": 83,
   "id": "2a67f688",
   "metadata": {},
   "outputs": [],
   "source": [
    "mi_index = touches[touches == 1].index"
   ]
  },
  {
   "cell_type": "code",
   "execution_count": 84,
   "id": "63a1e57b",
   "metadata": {},
   "outputs": [],
   "source": [
    "plays19 = plays19[(plays19[\"touchdown\"] == 1) & (plays19[\"intervals\"].isin(mi_index))]"
   ]
  },
  {
   "cell_type": "code",
   "execution_count": 85,
   "id": "c33ce192",
   "metadata": {},
   "outputs": [],
   "source": [
    "X = plays19[relevant_cols.to_list()+[\"transcript\"]]"
   ]
  },
  {
   "cell_type": "code",
   "execution_count": 86,
   "id": "ddd21e6d",
   "metadata": {},
   "outputs": [],
   "source": [
    "# transcript_grouped = X.groupby(\"transcript\").groups\n",
    "# transcript_groups = list(transcript_grouped.keys())"
   ]
  },
  {
   "cell_type": "code",
   "execution_count": 94,
   "id": "8a5fcca5",
   "metadata": {
    "scrolled": true
   },
   "outputs": [],
   "source": [
    "ret_list = []\n",
    "for i in range(X.shape[0]):\n",
    "    ret_list += [{\"json\":X[relevant_cols].iloc[i].replace(0,np.nan).dropna().to_json(),\n",
    "                  \"transcript\":X[\"transcript\"].iloc[i]}]"
   ]
  },
  {
   "cell_type": "code",
   "execution_count": 95,
   "id": "5c98bef2",
   "metadata": {},
   "outputs": [
    {
     "data": {
      "text/plain": [
       "[{'json': '{\"home_team\":\"TB\",\"away_team\":\"NYG\",\"posteam\":\"TB\",\"posteam_type\":\"home\",\"defteam\":\"NYG\",\"side_of_field\":\"NYG\",\"yardline_100\":21.0,\"quarter_seconds_remaining\":594.0,\"half_seconds_remaining\":1494.0,\"game_seconds_remaining\":3294.0,\"game_half\":\"Half1\",\"drive\":1,\"sp\":1,\"qtr\":1,\"down\":3.0,\"time\":\"09:54\",\"yrdln\":\"NYG 21\",\"ydstogo\":6,\"ydsnet\":75,\"play_type\":\"pass\",\"yards_gained\":21,\"shotgun\":1,\"qb_dropback\":1.0,\"pass_length\":\"deep\",\"pass_location\":\"right\",\"air_yards\":21.0,\"away_timeouts_remaining\":3,\"td_team\":\"TB\",\"posteam_timeouts_remaining\":3.0,\"defteam_timeouts_remaining\":3.0,\"total_home_score\":6,\"posteam_score_post\":6.0,\"score_differential_post\":6.0,\"first_down_pass\":1.0,\"third_down_converted\":1.0,\"qb_hit\":1.0,\"pass_attempt\":1.0,\"touchdown\":1.0,\"pass_touchdown\":1.0,\"complete_pass\":1.0,\"passer_player_id\":\"00-0031503\",\"passer_player_name\":\"J.Winston\",\"receiver_player_id\":\"00-0031408\",\"receiver_player_name\":\"M.Evans\",\"qb_hit_1_player_id\":\"00-0033883\",\"qb_hit_1_player_name\":\"J.Peppers\"}',\n",
       "  'transcript': 'Pauline plays the offensive coordinator, third down and sixth. Winston! End zone! Evans! touchdown! what a throw.'},\n",
       " {'json': '{\"home_team\":\"TB\",\"away_team\":\"NYG\",\"posteam\":\"TB\",\"posteam_type\":\"home\",\"defteam\":\"NYG\",\"side_of_field\":\"NYG\",\"yardline_100\":3.0,\"quarter_seconds_remaining\":23.0,\"half_seconds_remaining\":923.0,\"game_seconds_remaining\":2723.0,\"game_half\":\"Half1\",\"drive\":3,\"sp\":1,\"qtr\":1,\"down\":2.0,\"goal_to_go\":1.0,\"time\":\"00:23\",\"yrdln\":\"NYG 3\",\"ydstogo\":3,\"ydsnet\":75,\"play_type\":\"pass\",\"yards_gained\":3,\"qb_dropback\":1.0,\"pass_length\":\"short\",\"pass_location\":\"left\",\"air_yards\":1.0,\"yards_after_catch\":2.0,\"away_timeouts_remaining\":3,\"td_team\":\"TB\",\"posteam_timeouts_remaining\":3.0,\"defteam_timeouts_remaining\":3.0,\"total_home_score\":12,\"total_away_score\":3,\"posteam_score\":6.0,\"defteam_score\":3.0,\"score_differential\":3.0,\"posteam_score_post\":12.0,\"defteam_score_post\":3.0,\"score_differential_post\":9.0,\"first_down_pass\":1.0,\"pass_attempt\":1.0,\"touchdown\":1.0,\"pass_touchdown\":1.0,\"complete_pass\":1.0,\"passer_player_id\":\"00-0031503\",\"passer_player_name\":\"J.Winston\",\"receiver_player_id\":\"00-0031408\",\"receiver_player_name\":\"M.Evans\"}',\n",
       "  'transcript': 'the second and goal, Jones in the backfield. Winston, quick release! Taking it in for his second touchdown in this quarter is Mike Evans!'},\n",
       " {'json': '{\"home_team\":\"TB\",\"away_team\":\"NYG\",\"posteam\":\"NYG\",\"posteam_type\":\"away\",\"defteam\":\"TB\",\"side_of_field\":\"TB\",\"yardline_100\":7.0,\"quarter_seconds_remaining\":606.0,\"half_seconds_remaining\":606.0,\"game_seconds_remaining\":2406.0,\"game_half\":\"Half1\",\"drive\":4,\"sp\":1,\"qtr\":2,\"down\":2.0,\"goal_to_go\":1.0,\"time\":\"10:06\",\"yrdln\":\"TB 7\",\"ydstogo\":7,\"ydsnet\":75,\"play_type\":\"run\",\"yards_gained\":7,\"shotgun\":1,\"run_location\":\"right\",\"run_gap\":\"end\",\"away_timeouts_remaining\":3,\"td_team\":\"NYG\",\"posteam_timeouts_remaining\":3.0,\"defteam_timeouts_remaining\":3.0,\"total_home_score\":12,\"total_away_score\":9,\"posteam_score\":3.0,\"defteam_score\":12.0,\"score_differential\":-9.0,\"posteam_score_post\":9.0,\"defteam_score_post\":12.0,\"score_differential_post\":-3.0,\"first_down_rush\":1.0,\"rush_attempt\":1.0,\"touchdown\":1.0,\"rush_touchdown\":1.0,\"rusher_player_id\":\"00-0035710\",\"rusher_player_name\":\"D.Jones\"}',\n",
       "  'transcript': 'the second and goal this is Jones. in side the 5, to the end zone! Touchdown! He knew that was coming eventually.'},\n",
       " {'json': '{\"home_team\":\"TB\",\"away_team\":\"NYG\",\"posteam\":\"TB\",\"posteam_type\":\"home\",\"defteam\":\"NYG\",\"side_of_field\":\"NYG\",\"yardline_100\":20.0,\"quarter_seconds_remaining\":91.0,\"half_seconds_remaining\":91.0,\"game_seconds_remaining\":1891.0,\"game_half\":\"Half1\",\"drive\":9,\"sp\":1,\"qtr\":2,\"down\":1.0,\"time\":\"01:31\",\"yrdln\":\"NYG 20\",\"ydstogo\":10,\"ydsnet\":41,\"play_type\":\"pass\",\"yards_gained\":20,\"qb_dropback\":1.0,\"pass_length\":\"deep\",\"pass_location\":\"middle\",\"air_yards\":16.0,\"yards_after_catch\":4.0,\"away_timeouts_remaining\":1,\"td_team\":\"TB\",\"posteam_timeouts_remaining\":3.0,\"defteam_timeouts_remaining\":1.0,\"total_home_score\":24,\"total_away_score\":10,\"posteam_score\":18.0,\"defteam_score\":10.0,\"score_differential\":8.0,\"posteam_score_post\":24.0,\"defteam_score_post\":10.0,\"score_differential_post\":14.0,\"first_down_pass\":1.0,\"pass_attempt\":1.0,\"touchdown\":1.0,\"pass_touchdown\":1.0,\"complete_pass\":1.0,\"passer_player_id\":\"00-0031503\",\"passer_player_name\":\"J.Winston\",\"receiver_player_id\":\"00-0031408\",\"receiver_player_name\":\"M.Evans\"}',\n",
       "  'transcript': \"thirteen is mike evans first and ten from the giants 20 yard line. Play action as Winston throws it's evans! his third touchdown here in the first half!\"},\n",
       " {'json': '{\"home_team\":\"TB\",\"away_team\":\"NYG\",\"posteam\":\"NYG\",\"posteam_type\":\"away\",\"defteam\":\"TB\",\"side_of_field\":\"NYG\",\"yardline_100\":75.0,\"quarter_seconds_remaining\":900.0,\"half_seconds_remaining\":1800.0,\"game_seconds_remaining\":1800.0,\"game_half\":\"Half2\",\"drive\":12,\"sp\":1,\"qtr\":3,\"down\":1.0,\"time\":\"15:00\",\"yrdln\":\"NYG 25\",\"ydstogo\":10,\"ydsnet\":75,\"play_type\":\"pass\",\"yards_gained\":75,\"shotgun\":1,\"qb_dropback\":1.0,\"pass_length\":\"short\",\"pass_location\":\"left\",\"air_yards\":13.0,\"yards_after_catch\":62.0,\"away_timeouts_remaining\":3,\"td_team\":\"NYG\",\"posteam_timeouts_remaining\":3.0,\"defteam_timeouts_remaining\":3.0,\"total_home_score\":28,\"total_away_score\":16,\"posteam_score\":10.0,\"defteam_score\":28.0,\"score_differential\":-18.0,\"posteam_score_post\":16.0,\"defteam_score_post\":28.0,\"score_differential_post\":-12.0,\"first_down_pass\":1.0,\"pass_attempt\":1.0,\"touchdown\":1.0,\"pass_touchdown\":1.0,\"complete_pass\":1.0,\"passer_player_id\":\"00-0035710\",\"passer_player_name\":\"D.Jones\",\"receiver_player_id\":\"00-0033881\",\"receiver_player_name\":\"E.Engram\"}',\n",
       "  'transcript': 'first and 10 25 yard line off the fake to goldman! Jones pass is caught by Evan Engram still going! Down the sideline! Evan Edward will take this all the way! What a great read by Daniel Jones! More importantly, what a great read by Evan Engram!'},\n",
       " {'json': '{\"home_team\":\"TB\",\"away_team\":\"NYG\",\"posteam\":\"NYG\",\"posteam_type\":\"away\",\"defteam\":\"TB\",\"side_of_field\":\"TB\",\"yardline_100\":7.0,\"quarter_seconds_remaining\":501.0,\"half_seconds_remaining\":1401.0,\"game_seconds_remaining\":1401.0,\"game_half\":\"Half2\",\"drive\":14,\"sp\":1,\"qtr\":3,\"down\":3.0,\"goal_to_go\":1.0,\"time\":\"08:21\",\"yrdln\":\"TB 7\",\"ydstogo\":7,\"ydsnet\":80,\"play_type\":\"pass\",\"yards_gained\":7,\"shotgun\":1,\"qb_dropback\":1.0,\"pass_length\":\"short\",\"pass_location\":\"right\",\"air_yards\":7.0,\"away_timeouts_remaining\":3,\"td_team\":\"NYG\",\"posteam_timeouts_remaining\":3.0,\"defteam_timeouts_remaining\":2.0,\"total_home_score\":28,\"total_away_score\":24,\"posteam_score\":18.0,\"defteam_score\":28.0,\"score_differential\":-10.0,\"posteam_score_post\":24.0,\"defteam_score_post\":28.0,\"score_differential_post\":-4.0,\"first_down_pass\":1.0,\"third_down_converted\":1.0,\"pass_attempt\":1.0,\"touchdown\":1.0,\"pass_touchdown\":1.0,\"complete_pass\":1.0,\"passer_player_id\":\"00-0035710\",\"passer_player_name\":\"D.Jones\",\"receiver_player_id\":\"00-0032385\",\"receiver_player_name\":\"S.Shepard\"}',\n",
       "  'transcript': \"third and goal from the seven. Daniel Jones on third down, lobs one up! There's a flag, and it is a catch by Sterling Shepherd for a giants touchdown! Looks like you're gonna get a legal hands to the face here.\"},\n",
       " {'json': '{\"home_team\":\"TB\",\"away_team\":\"NYG\",\"posteam\":\"NYG\",\"posteam_type\":\"away\",\"defteam\":\"TB\",\"side_of_field\":\"TB\",\"yardline_100\":7.0,\"quarter_seconds_remaining\":81.0,\"half_seconds_remaining\":81.0,\"game_seconds_remaining\":81.0,\"game_half\":\"Half2\",\"drive\":24,\"sp\":1,\"qtr\":4,\"down\":4.0,\"time\":\"01:21\",\"yrdln\":\"TB 7\",\"ydstogo\":5,\"ydsnet\":75,\"play_type\":\"run\",\"yards_gained\":7,\"shotgun\":1,\"qb_dropback\":1.0,\"qb_scramble\":1,\"run_location\":\"middle\",\"td_team\":\"NYG\",\"defteam_timeouts_remaining\":1.0,\"total_home_score\":31,\"total_away_score\":31,\"posteam_score\":25.0,\"defteam_score\":31.0,\"score_differential\":-6.0,\"posteam_score_post\":31.0,\"defteam_score_post\":31.0,\"first_down_rush\":1.0,\"fourth_down_converted\":1.0,\"rush_attempt\":1.0,\"touchdown\":1.0,\"rush_touchdown\":1.0,\"rusher_player_id\":\"00-0035710\",\"rusher_player_name\":\"D.Jones\"}',\n",
       "  'transcript': \"On fourth and five. Jones steps up! Takes off! He's in touchdown! That's the danger of a running quarterback.\"},\n",
       " {'json': '{\"home_team\":\"BAL\",\"away_team\":\"CLE\",\"posteam\":\"CLE\",\"posteam_type\":\"away\",\"defteam\":\"BAL\",\"side_of_field\":\"BAL\",\"yardline_100\":9.0,\"quarter_seconds_remaining\":177.0,\"half_seconds_remaining\":1077.0,\"game_seconds_remaining\":2877.0,\"game_half\":\"Half1\",\"drive\":3,\"sp\":1,\"qtr\":1,\"down\":3.0,\"time\":\"02:57\",\"yrdln\":\"BAL 09\",\"ydstogo\":3,\"ydsnet\":84,\"play_type\":\"pass\",\"yards_gained\":9,\"shotgun\":1,\"qb_dropback\":1.0,\"pass_length\":\"short\",\"pass_location\":\"left\",\"yards_after_catch\":9.0,\"away_timeouts_remaining\":3,\"td_team\":\"CLE\",\"posteam_timeouts_remaining\":3.0,\"defteam_timeouts_remaining\":3.0,\"total_away_score\":6,\"posteam_score_post\":6.0,\"score_differential_post\":6.0,\"first_down_pass\":1.0,\"third_down_converted\":1.0,\"pass_attempt\":1.0,\"touchdown\":1.0,\"pass_touchdown\":1.0,\"complete_pass\":1.0,\"passer_player_id\":\"00-0034855\",\"passer_player_name\":\"B.Mayfield\",\"receiver_player_id\":\"00-0033611\",\"receiver_player_name\":\"R.Seals-Jones\"}',\n",
       "  'transcript': 'mayfield throws wide open! to the five! to the end zone! ricky seals jones with the touchdown!'},\n",
       " {'json': '{\"home_team\":\"BAL\",\"away_team\":\"CLE\",\"posteam\":\"BAL\",\"posteam_type\":\"home\",\"defteam\":\"CLE\",\"side_of_field\":\"CLE\",\"yardline_100\":9.0,\"quarter_seconds_remaining\":120.0,\"half_seconds_remaining\":120.0,\"game_seconds_remaining\":1920.0,\"game_half\":\"Half1\",\"drive\":8,\"sp\":1,\"qtr\":2,\"down\":2.0,\"goal_to_go\":1.0,\"time\":\"02:00\",\"yrdln\":\"CLE 09\",\"ydstogo\":9,\"ydsnet\":58,\"play_type\":\"pass\",\"yards_gained\":9,\"shotgun\":1,\"qb_dropback\":1.0,\"pass_length\":\"short\",\"pass_location\":\"middle\",\"air_yards\":9.0,\"away_timeouts_remaining\":3,\"td_team\":\"BAL\",\"posteam_timeouts_remaining\":3.0,\"defteam_timeouts_remaining\":3.0,\"total_home_score\":6,\"total_away_score\":7,\"defteam_score\":7.0,\"score_differential\":-7.0,\"posteam_score_post\":6.0,\"defteam_score_post\":7.0,\"score_differential_post\":-1.0,\"first_down_pass\":1.0,\"pass_attempt\":1.0,\"touchdown\":1.0,\"pass_touchdown\":1.0,\"complete_pass\":1.0,\"passer_player_id\":\"00-0034796\",\"passer_player_name\":\"L.Jackson\",\"receiver_player_id\":\"00-0035703\",\"receiver_player_name\":\"M.Boykin\"}',\n",
       "  'transcript': 'for the ravens. Jackson. Throwing over the middle! Touchdown! Miles boykin, the rookie wide out from notre dame!'},\n",
       " {'json': '{\"home_team\":\"BAL\",\"away_team\":\"CLE\",\"posteam\":\"CLE\",\"posteam_type\":\"away\",\"defteam\":\"BAL\",\"side_of_field\":\"BAL\",\"yardline_100\":14.0,\"quarter_seconds_remaining\":589.0,\"half_seconds_remaining\":1489.0,\"game_seconds_remaining\":1489.0,\"game_half\":\"Half2\",\"drive\":12,\"sp\":1,\"qtr\":3,\"down\":1.0,\"time\":\"09:49\",\"yrdln\":\"BAL 14\",\"ydstogo\":10,\"ydsnet\":75,\"play_type\":\"run\",\"yards_gained\":14,\"run_location\":\"right\",\"run_gap\":\"guard\",\"away_timeouts_remaining\":3,\"td_team\":\"CLE\",\"posteam_timeouts_remaining\":3.0,\"defteam_timeouts_remaining\":3.0,\"total_home_score\":10,\"total_away_score\":16,\"posteam_score\":10.0,\"defteam_score\":10.0,\"posteam_score_post\":16.0,\"defteam_score_post\":10.0,\"score_differential_post\":6.0,\"first_down_rush\":1.0,\"rush_attempt\":1.0,\"touchdown\":1.0,\"rush_touchdown\":1.0,\"rusher_player_id\":\"00-0034791\",\"rusher_player_name\":\"N.Chubb\"}',\n",
       "  'transcript': \"And here are the browns at the baltimore 14. This is Chubb. Chubb to the 10. breaks it to the near side! looking for the end zone and he'll get there!\"},\n",
       " {'json': '{\"home_team\":\"BAL\",\"away_team\":\"CLE\",\"posteam\":\"CLE\",\"posteam_type\":\"away\",\"defteam\":\"BAL\",\"side_of_field\":\"BAL\",\"yardline_100\":2.0,\"quarter_seconds_remaining\":58.0,\"half_seconds_remaining\":958.0,\"game_seconds_remaining\":958.0,\"game_half\":\"Half2\",\"drive\":14,\"sp\":1,\"qtr\":3,\"down\":1.0,\"goal_to_go\":1.0,\"time\":\"00:58\",\"yrdln\":\"BAL 02\",\"ydstogo\":2,\"ydsnet\":74,\"play_type\":\"run\",\"yards_gained\":2,\"run_location\":\"left\",\"run_gap\":\"tackle\",\"away_timeouts_remaining\":3,\"td_team\":\"CLE\",\"posteam_timeouts_remaining\":3.0,\"defteam_timeouts_remaining\":3.0,\"total_home_score\":10,\"total_away_score\":23,\"posteam_score\":17.0,\"defteam_score\":10.0,\"score_differential\":7.0,\"posteam_score_post\":23.0,\"defteam_score_post\":10.0,\"score_differential_post\":13.0,\"first_down_rush\":1.0,\"rush_attempt\":1.0,\"touchdown\":1.0,\"rush_touchdown\":1.0,\"rusher_player_id\":\"00-0034791\",\"rusher_player_name\":\"N.Chubb\"}',\n",
       "  'transcript': 'Nick Chubb trying ot find the endzone and he does! Touchdown Cleveland.'},\n",
       " {'json': '{\"home_team\":\"BAL\",\"away_team\":\"CLE\",\"posteam\":\"CLE\",\"posteam_type\":\"away\",\"defteam\":\"BAL\",\"side_of_field\":\"CLE\",\"yardline_100\":88.0,\"quarter_seconds_remaining\":587.0,\"half_seconds_remaining\":587.0,\"game_seconds_remaining\":587.0,\"game_half\":\"Half2\",\"drive\":16,\"sp\":1,\"qtr\":4,\"down\":1.0,\"time\":\"09:47\",\"yrdln\":\"CLE 12\",\"ydstogo\":15,\"ydsnet\":83,\"play_type\":\"run\",\"yards_gained\":88,\"run_location\":\"right\",\"run_gap\":\"tackle\",\"away_timeouts_remaining\":3,\"td_team\":\"CLE\",\"posteam_timeouts_remaining\":3.0,\"defteam_timeouts_remaining\":3.0,\"total_home_score\":18,\"total_away_score\":30,\"posteam_score\":24.0,\"defteam_score\":18.0,\"score_differential\":6.0,\"posteam_score_post\":30.0,\"defteam_score_post\":18.0,\"score_differential_post\":12.0,\"first_down_rush\":1.0,\"rush_attempt\":1.0,\"touchdown\":1.0,\"rush_touchdown\":1.0,\"rusher_player_id\":\"00-0034791\",\"rusher_player_name\":\"N.Chubb\"}',\n",
       "  'transcript': 'First and 15. Chubb. Chubb with running room to the 40! On his way to the end zone!'},\n",
       " {'json': '{\"home_team\":\"BAL\",\"away_team\":\"CLE\",\"posteam\":\"BAL\",\"posteam_type\":\"home\",\"defteam\":\"CLE\",\"side_of_field\":\"MID\",\"yardline_100\":50.0,\"quarter_seconds_remaining\":40.0,\"half_seconds_remaining\":40.0,\"game_seconds_remaining\":40.0,\"game_half\":\"Half2\",\"drive\":23,\"sp\":1,\"qtr\":4,\"down\":1.0,\"time\":\"00:40\",\"yrdln\":\"MID 50\",\"ydstogo\":15,\"ydsnet\":79,\"play_type\":\"pass\",\"yards_gained\":50,\"shotgun\":1,\"no_huddle\":1,\"qb_dropback\":1.0,\"pass_length\":\"short\",\"pass_location\":\"left\",\"air_yards\":6.0,\"yards_after_catch\":44.0,\"away_timeouts_remaining\":2,\"td_team\":\"BAL\",\"defteam_timeouts_remaining\":2.0,\"total_home_score\":24,\"total_away_score\":40,\"posteam_score\":18.0,\"defteam_score\":40.0,\"score_differential\":-22.0,\"posteam_score_post\":24.0,\"defteam_score_post\":40.0,\"score_differential_post\":-16.0,\"first_down_pass\":1.0,\"pass_attempt\":1.0,\"touchdown\":1.0,\"pass_touchdown\":1.0,\"complete_pass\":1.0,\"passer_player_id\":\"00-0034796\",\"passer_player_name\":\"L.Jackson\",\"receiver_player_id\":\"00-0030663\",\"receiver_player_name\":\"W.Snead\"}',\n",
       "  'transcript': \"First and 15. Jackson completes that ball to Willie Sneed and Sneed! Up the sideline! Sneed looking for the end zone and he'll get there!\"},\n",
       " {'json': '{\"home_team\":\"SEA\",\"away_team\":\"LA\",\"posteam\":\"SEA\",\"posteam_type\":\"home\",\"defteam\":\"LA\",\"side_of_field\":\"LA\",\"yardline_100\":13.0,\"quarter_seconds_remaining\":59.0,\"half_seconds_remaining\":959.0,\"game_seconds_remaining\":2759.0,\"game_half\":\"Half1\",\"drive\":5,\"sp\":1,\"qtr\":1,\"down\":1.0,\"time\":\"00:59\",\"yrdln\":\"LA 13\",\"ydstogo\":10,\"ydsnet\":75,\"play_type\":\"pass\",\"yards_gained\":13,\"qb_dropback\":1.0,\"pass_length\":\"short\",\"pass_location\":\"left\",\"air_yards\":13.0,\"away_timeouts_remaining\":3,\"td_team\":\"SEA\",\"posteam_timeouts_remaining\":3.0,\"defteam_timeouts_remaining\":3.0,\"total_home_score\":6,\"total_away_score\":6,\"defteam_score\":6.0,\"score_differential\":-6.0,\"posteam_score_post\":6.0,\"defteam_score_post\":6.0,\"first_down_pass\":1.0,\"pass_attempt\":1.0,\"touchdown\":1.0,\"pass_touchdown\":1.0,\"complete_pass\":1.0,\"passer_player_id\":\"00-0029263\",\"passer_player_name\":\"R.Wilson\",\"receiver_player_id\":\"00-0032211\",\"receiver_player_name\":\"T.Lockett\"}',\n",
       "  'transcript': 'On first down Wilson keeps, surveys, nowhere to go and back of the end zone touchdown! What a catch by Tyler lockett!'},\n",
       " {'json': '{\"home_team\":\"SEA\",\"away_team\":\"LA\",\"posteam\":\"SEA\",\"posteam_type\":\"home\",\"defteam\":\"LA\",\"side_of_field\":\"LA\",\"yardline_100\":40.0,\"quarter_seconds_remaining\":495.0,\"half_seconds_remaining\":495.0,\"game_seconds_remaining\":2295.0,\"game_half\":\"Half1\",\"drive\":9,\"sp\":1,\"qtr\":2,\"down\":2.0,\"time\":\"08:15\",\"yrdln\":\"LA 40\",\"ydstogo\":7,\"ydsnet\":73,\"play_type\":\"pass\",\"yards_gained\":40,\"qb_dropback\":1.0,\"pass_length\":\"deep\",\"pass_location\":\"right\",\"air_yards\":40.0,\"away_timeouts_remaining\":3,\"td_team\":\"SEA\",\"posteam_timeouts_remaining\":3.0,\"defteam_timeouts_remaining\":3.0,\"total_home_score\":13,\"total_away_score\":6,\"posteam_score\":7.0,\"defteam_score\":6.0,\"score_differential\":1.0,\"posteam_score_post\":13.0,\"defteam_score_post\":6.0,\"score_differential_post\":7.0,\"first_down_pass\":1.0,\"pass_attempt\":1.0,\"touchdown\":1.0,\"pass_touchdown\":1.0,\"complete_pass\":1.0,\"passer_player_id\":\"00-0029263\",\"passer_player_name\":\"R.Wilson\",\"receiver_player_id\":\"00-0035640\",\"receiver_player_name\":\"DK.Metcalf\"}',\n",
       "  'transcript': 'This would be a great time for seattle to take advantage of those two big pass rushers not in the lineup. Wilson keeps, airs it out downfield, the rookie! touchdown dk metcalf! 40 yards!'},\n",
       " {'json': '{\"home_team\":\"SEA\",\"away_team\":\"LA\",\"posteam\":\"LA\",\"posteam_type\":\"away\",\"defteam\":\"SEA\",\"side_of_field\":\"SEA\",\"yardline_100\":9.0,\"quarter_seconds_remaining\":13.0,\"half_seconds_remaining\":13.0,\"game_seconds_remaining\":1813.0,\"game_half\":\"Half1\",\"drive\":12,\"sp\":1,\"qtr\":2,\"down\":2.0,\"time\":\"00:13\",\"yrdln\":\"SEA 9\",\"ydstogo\":7,\"ydsnet\":62,\"play_type\":\"pass\",\"yards_gained\":9,\"shotgun\":1,\"qb_dropback\":1.0,\"pass_length\":\"short\",\"pass_location\":\"middle\",\"air_yards\":9.0,\"away_timeouts_remaining\":1,\"td_team\":\"LA\",\"posteam_timeouts_remaining\":1.0,\"defteam_timeouts_remaining\":1.0,\"total_home_score\":14,\"total_away_score\":12,\"posteam_score\":6.0,\"defteam_score\":14.0,\"score_differential\":-8.0,\"posteam_score_post\":12.0,\"defteam_score_post\":14.0,\"score_differential_post\":-2.0,\"first_down_pass\":1.0,\"pass_attempt\":1.0,\"touchdown\":1.0,\"pass_touchdown\":1.0,\"complete_pass\":1.0,\"passer_player_id\":\"00-0033106\",\"passer_player_name\":\"J.Goff\",\"receiver_player_id\":\"00-0033908\",\"receiver_player_name\":\"C.Kupp\"}',\n",
       "  'transcript': 'jut a three-man rush! Goff fires it! pass is caught for the touchdown! Cooper Cup!'},\n",
       " {'json': '{\"home_team\":\"SEA\",\"away_team\":\"LA\",\"posteam\":\"SEA\",\"posteam_type\":\"home\",\"defteam\":\"LA\",\"side_of_field\":\"LA\",\"yardline_100\":10.0,\"quarter_seconds_remaining\":350.0,\"half_seconds_remaining\":1250.0,\"game_seconds_remaining\":1250.0,\"game_half\":\"Half2\",\"drive\":17,\"sp\":1,\"qtr\":3,\"down\":1.0,\"goal_to_go\":1.0,\"time\":\"05:50\",\"yrdln\":\"LA 10\",\"ydstogo\":10,\"ydsnet\":47,\"play_type\":\"pass\",\"yards_gained\":10,\"shotgun\":1,\"qb_dropback\":1.0,\"pass_length\":\"short\",\"pass_location\":\"left\",\"air_yards\":-2.0,\"yards_after_catch\":12.0,\"away_timeouts_remaining\":3,\"td_team\":\"SEA\",\"posteam_timeouts_remaining\":3.0,\"defteam_timeouts_remaining\":3.0,\"total_home_score\":20,\"total_away_score\":20,\"posteam_score\":14.0,\"defteam_score\":20.0,\"score_differential\":-6.0,\"posteam_score_post\":20.0,\"defteam_score_post\":20.0,\"first_down_pass\":1.0,\"pass_attempt\":1.0,\"touchdown\":1.0,\"pass_touchdown\":1.0,\"complete_pass\":1.0,\"passer_player_id\":\"00-0029263\",\"passer_player_name\":\"R.Wilson\",\"receiver_player_id\":\"00-0033589\",\"receiver_player_name\":\"D.Moore\"}',\n",
       "  'transcript': \"It's the ram's offense it's awfully good down here in this end of the field. Here's a throw to moore!  Sidesteps for the touchdown! David Moore!\"},\n",
       " {'json': '{\"home_team\":\"SEA\",\"away_team\":\"LA\",\"posteam\":\"SEA\",\"posteam_type\":\"home\",\"defteam\":\"LA\",\"side_of_field\":\"LA\",\"yardline_100\":5.0,\"quarter_seconds_remaining\":154.0,\"half_seconds_remaining\":154.0,\"game_seconds_remaining\":154.0,\"game_half\":\"Half2\",\"drive\":21,\"sp\":1,\"qtr\":4,\"down\":4.0,\"goal_to_go\":1.0,\"time\":\"02:34\",\"yrdln\":\"LA 5\",\"ydstogo\":5,\"ydsnet\":75,\"play_type\":\"pass\",\"yards_gained\":5,\"shotgun\":1,\"qb_dropback\":1.0,\"pass_length\":\"short\",\"pass_location\":\"right\",\"air_yards\":5.0,\"away_timeouts_remaining\":2,\"td_team\":\"SEA\",\"posteam_timeouts_remaining\":2.0,\"defteam_timeouts_remaining\":2.0,\"total_home_score\":30,\"total_away_score\":29,\"posteam_score\":24.0,\"defteam_score\":29.0,\"score_differential\":-5.0,\"posteam_score_post\":30.0,\"defteam_score_post\":29.0,\"score_differential_post\":1.0,\"first_down_pass\":1.0,\"fourth_down_converted\":1.0,\"pass_attempt\":1.0,\"touchdown\":1.0,\"pass_touchdown\":1.0,\"complete_pass\":1.0,\"passer_player_id\":\"00-0029263\",\"passer_player_name\":\"R.Wilson\",\"receiver_player_id\":\"00-0033594\",\"receiver_player_name\":\"C.Carson\"}',\n",
       "  'transcript': 'Wilson steps through, flips wide open and caught! After a juggle for the touchdown!  Carson!'},\n",
       " {'json': '{\"home_team\":\"TEN\",\"away_team\":\"LAC\",\"posteam\":\"LAC\",\"posteam_type\":\"away\",\"defteam\":\"TEN\",\"side_of_field\":\"TEN\",\"yardline_100\":1.0,\"quarter_seconds_remaining\":223.0,\"half_seconds_remaining\":223.0,\"game_seconds_remaining\":2023.0,\"game_half\":\"Half1\",\"drive\":5,\"sp\":1,\"qtr\":2,\"down\":3.0,\"goal_to_go\":1.0,\"time\":\"03:43\",\"yrdln\":\"TEN 1\",\"ydstogo\":1,\"ydsnet\":94,\"play_type\":\"pass\",\"yards_gained\":1,\"qb_dropback\":1.0,\"pass_length\":\"short\",\"pass_location\":\"left\",\"air_yards\":1.0,\"away_timeouts_remaining\":3,\"td_team\":\"LAC\",\"posteam_timeouts_remaining\":3.0,\"defteam_timeouts_remaining\":1.0,\"total_home_score\":3,\"total_away_score\":9,\"posteam_score\":3.0,\"defteam_score\":3.0,\"posteam_score_post\":9.0,\"defteam_score_post\":3.0,\"score_differential_post\":6.0,\"first_down_pass\":1.0,\"third_down_converted\":1.0,\"pass_attempt\":1.0,\"touchdown\":1.0,\"pass_touchdown\":1.0,\"complete_pass\":1.0,\"passer_player_id\":\"00-0022942\",\"passer_player_name\":\"P.Rivers\",\"receiver_player_id\":\"00-0032144\",\"receiver_player_name\":\"M.Gordon\"}',\n",
       "  'transcript': \"Rivers. he'll flip it to the wide open Gordon for the touchdown! The Chargers cash in!\"},\n",
       " {'json': '{\"home_team\":\"TEN\",\"away_team\":\"LAC\",\"posteam\":\"TEN\",\"posteam_type\":\"home\",\"defteam\":\"LAC\",\"side_of_field\":\"LAC\",\"yardline_100\":8.0,\"quarter_seconds_remaining\":27.0,\"half_seconds_remaining\":27.0,\"game_seconds_remaining\":1827.0,\"game_half\":\"Half1\",\"drive\":6,\"sp\":1,\"qtr\":2,\"down\":1.0,\"goal_to_go\":1.0,\"time\":\"00:27\",\"yrdln\":\"LAC 8\",\"ydstogo\":8,\"ydsnet\":86,\"play_type\":\"pass\",\"yards_gained\":8,\"shotgun\":1,\"qb_dropback\":1.0,\"pass_length\":\"short\",\"pass_location\":\"middle\",\"air_yards\":8.0,\"away_timeouts_remaining\":2,\"td_team\":\"TEN\",\"posteam_timeouts_remaining\":1.0,\"defteam_timeouts_remaining\":2.0,\"total_home_score\":9,\"total_away_score\":10,\"posteam_score\":3.0,\"defteam_score\":10.0,\"score_differential\":-7.0,\"posteam_score_post\":9.0,\"defteam_score_post\":10.0,\"score_differential_post\":-1.0,\"first_down_pass\":1.0,\"penalty\":1.0,\"pass_attempt\":1.0,\"touchdown\":1.0,\"pass_touchdown\":1.0,\"complete_pass\":1.0,\"passer_player_id\":\"00-0029701\",\"passer_player_name\":\"R.Tannehill\",\"receiver_player_id\":\"00-0033871\",\"receiver_player_name\":\"C.Davis\",\"penalty_team\":\"LAC\",\"penalty_player_id\":\"00-0032103\",\"penalty_player_name\":\"D.Perryman\",\"penalty_yards\":15.0,\"penalty_type\":\"Unnecessary Roughness\"}',\n",
       "  'transcript': 'eight play of the drive. Tannehill hooks a pass, Touchdown! he hummed it in there eto corey deavis and flags on the play!'},\n",
       " {'json': '{\"home_team\":\"TEN\",\"away_team\":\"LAC\",\"posteam\":\"TEN\",\"posteam_type\":\"home\",\"defteam\":\"LAC\",\"side_of_field\":\"LAC\",\"yardline_100\":5.0,\"quarter_seconds_remaining\":796.0,\"half_seconds_remaining\":796.0,\"game_seconds_remaining\":796.0,\"game_half\":\"Half2\",\"drive\":12,\"sp\":1,\"qtr\":4,\"down\":3.0,\"goal_to_go\":1.0,\"time\":\"13:16\",\"yrdln\":\"LAC 5\",\"ydstogo\":5,\"ydsnet\":85,\"play_type\":\"pass\",\"yards_gained\":5,\"shotgun\":1,\"qb_dropback\":1.0,\"pass_length\":\"short\",\"pass_location\":\"middle\",\"air_yards\":5.0,\"away_timeouts_remaining\":3,\"td_team\":\"TEN\",\"posteam_timeouts_remaining\":3.0,\"defteam_timeouts_remaining\":3.0,\"total_home_score\":16,\"total_away_score\":10,\"posteam_score\":10.0,\"defteam_score\":10.0,\"posteam_score_post\":16.0,\"defteam_score_post\":10.0,\"score_differential_post\":6.0,\"first_down_pass\":1.0,\"third_down_converted\":1.0,\"pass_attempt\":1.0,\"touchdown\":1.0,\"pass_touchdown\":1.0,\"complete_pass\":1.0,\"passer_player_id\":\"00-0029701\",\"passer_player_name\":\"R.Tannehill\",\"receiver_player_id\":\"00-0032778\",\"receiver_player_name\":\"T.Sharpe\"}',\n",
       "  'transcript': 'Tennessee looking for the lead. Tannehill darts it, back to the end zone! Touchdown! Tanjay sharp, the titans go in front!'},\n",
       " {'json': '{\"home_team\":\"TEN\",\"away_team\":\"LAC\",\"posteam\":\"TEN\",\"posteam_type\":\"home\",\"defteam\":\"LAC\",\"side_of_field\":\"LAC\",\"yardline_100\":11.0,\"quarter_seconds_remaining\":405.0,\"half_seconds_remaining\":405.0,\"game_seconds_remaining\":405.0,\"game_half\":\"Half2\",\"drive\":14,\"sp\":1,\"qtr\":4,\"down\":2.0,\"time\":\"06:45\",\"yrdln\":\"LAC 11\",\"ydstogo\":7,\"ydsnet\":75,\"play_type\":\"run\",\"yards_gained\":11,\"run_location\":\"left\",\"run_gap\":\"end\",\"away_timeouts_remaining\":3,\"td_team\":\"TEN\",\"posteam_timeouts_remaining\":3.0,\"defteam_timeouts_remaining\":3.0,\"total_home_score\":22,\"total_away_score\":13,\"posteam_score\":16.0,\"defteam_score\":13.0,\"score_differential\":3.0,\"posteam_score_post\":22.0,\"defteam_score_post\":13.0,\"score_differential_post\":9.0,\"first_down_rush\":1.0,\"rush_attempt\":1.0,\"touchdown\":1.0,\"rush_touchdown\":1.0,\"rusher_player_id\":\"00-0032764\",\"rusher_player_name\":\"D.Henry\"}',\n",
       "  'transcript': 'Pitching. Henry with a head of steam. Henry takes it all the way to touchdown! Titans!'},\n",
       " {'json': '{\"home_team\":\"TEN\",\"away_team\":\"LAC\",\"posteam\":\"LAC\",\"posteam_type\":\"away\",\"defteam\":\"TEN\",\"side_of_field\":\"TEN\",\"yardline_100\":41.0,\"quarter_seconds_remaining\":316.0,\"half_seconds_remaining\":316.0,\"game_seconds_remaining\":316.0,\"game_half\":\"Half2\",\"drive\":15,\"sp\":1,\"qtr\":4,\"down\":1.0,\"time\":\"05:16\",\"yrdln\":\"TEN 41\",\"ydstogo\":10,\"ydsnet\":75,\"play_type\":\"pass\",\"yards_gained\":41,\"shotgun\":1,\"no_huddle\":1,\"qb_dropback\":1.0,\"pass_length\":\"deep\",\"pass_location\":\"right\",\"air_yards\":36.0,\"yards_after_catch\":5.0,\"away_timeouts_remaining\":3,\"td_team\":\"LAC\",\"posteam_timeouts_remaining\":3.0,\"defteam_timeouts_remaining\":3.0,\"total_home_score\":23,\"total_away_score\":19,\"posteam_score\":13.0,\"defteam_score\":23.0,\"score_differential\":-10.0,\"posteam_score_post\":19.0,\"defteam_score_post\":23.0,\"score_differential_post\":-4.0,\"first_down_pass\":1.0,\"pass_attempt\":1.0,\"touchdown\":1.0,\"pass_touchdown\":1.0,\"complete_pass\":1.0,\"passer_player_id\":\"00-0022942\",\"passer_player_name\":\"P.Rivers\",\"receiver_player_id\":\"00-0033699\",\"receiver_player_name\":\"A.Ekeler\"}',\n",
       "  'transcript': 'We approach 5 minutes to play in the 4th. Rivers will take a deep shot! separation! Caught by Ausitn eckler for the touchdown! Quick strike! LA!'},\n",
       " {'json': '{\"home_team\":\"SF\",\"away_team\":\"SEA\",\"posteam\":\"SF\",\"posteam_type\":\"home\",\"defteam\":\"SEA\",\"side_of_field\":\"SEA\",\"yardline_100\":10.0,\"quarter_seconds_remaining\":127.0,\"half_seconds_remaining\":1027.0,\"game_seconds_remaining\":2827.0,\"game_half\":\"Half1\",\"drive\":3,\"sp\":1,\"qtr\":1,\"down\":3.0,\"time\":\"02:07\",\"yrdln\":\"SEA 10\",\"ydstogo\":8,\"ydsnet\":83,\"play_type\":\"pass\",\"yards_gained\":10,\"shotgun\":1,\"qb_dropback\":1.0,\"pass_length\":\"short\",\"pass_location\":\"middle\",\"air_yards\":4.0,\"yards_after_catch\":6.0,\"away_timeouts_remaining\":3,\"td_team\":\"SF\",\"posteam_timeouts_remaining\":2.0,\"defteam_timeouts_remaining\":3.0,\"total_home_score\":9,\"posteam_score\":3.0,\"score_differential\":3.0,\"posteam_score_post\":9.0,\"score_differential_post\":9.0,\"first_down_pass\":1.0,\"third_down_converted\":1.0,\"pass_attempt\":1.0,\"touchdown\":1.0,\"pass_touchdown\":1.0,\"complete_pass\":1.0,\"passer_player_id\":\"00-0031345\",\"passer_player_name\":\"J.Garoppolo\",\"receiver_player_id\":\"00-0033307\",\"receiver_player_name\":\"K.Bourne\"}',\n",
       "  'transcript': \"see number 21 back in the gam, trey flowers the starting corner. Third down and eight, over the middle garoppolo to board and he's in!\"},\n",
       " {'json': '{\"home_team\":\"SF\",\"away_team\":\"SEA\",\"posteam\":\"SF\",\"posteam_type\":\"home\",\"defteam\":\"SEA\",\"side_of_field\":\"SF\",\"yardline_100\":77.0,\"quarter_seconds_remaining\":177.0,\"half_seconds_remaining\":177.0,\"game_seconds_remaining\":1977.0,\"game_half\":\"Half1\",\"drive\":9,\"sp\":1,\"qtr\":2,\"down\":2.0,\"time\":\"02:57\",\"yrdln\":\"SF 23\",\"ydstogo\":7,\"ydsnet\":-10,\"play_type\":\"pass\",\"yards_gained\":-13,\"shotgun\":1,\"qb_dropback\":1.0,\"away_timeouts_remaining\":3,\"td_team\":\"SEA\",\"posteam_timeouts_remaining\":1.0,\"defteam_timeouts_remaining\":3.0,\"total_home_score\":10,\"total_away_score\":6,\"posteam_score\":10.0,\"score_differential\":10.0,\"posteam_score_post\":10.0,\"defteam_score_post\":6.0,\"score_differential_post\":4.0,\"fumble_forced\":1.0,\"solo_tackle\":1.0,\"fumble_lost\":1.0,\"qb_hit\":1.0,\"pass_attempt\":1.0,\"sack\":1.0,\"touchdown\":1.0,\"fumble\":1.0,\"passer_player_id\":\"00-0031345\",\"passer_player_name\":\"J.Garoppolo\",\"qb_hit_1_player_id\":\"00-0032387\",\"qb_hit_1_player_name\":\"J.Reed\",\"forced_fumble_player_1_team\":\"SEA\",\"forced_fumble_player_1_player_id\":\"00-0032387\",\"forced_fumble_player_1_player_name\":\"J.Reed\",\"solo_tackle_1_team\":\"SEA\",\"solo_tackle_1_player_id\":\"00-0032387\",\"solo_tackle_1_player_name\":\"J.Reed\",\"fumbled_1_team\":\"SF\",\"fumbled_1_player_id\":\"00-0031345\",\"fumbled_1_player_name\":\"J.Garoppolo\",\"fumble_recovery_1_team\":\"SEA\",\"fumble_recovery_1_yards\":10.0,\"fumble_recovery_1_player_id\":\"00-0031364\",\"fumble_recovery_1_player_name\":\"J.Clowney\"}',\n",
       "  'transcript': \"here on second and seven. And he is take ball is out! and Clownie's got it and seattle's on the board! Just like that thing's can change so quickly. Sharon Reed forced it out cloudy scoop and score.\"},\n",
       " {'json': '{\"home_team\":\"SF\",\"away_team\":\"SEA\",\"posteam\":\"SEA\",\"posteam_type\":\"away\",\"defteam\":\"SF\",\"side_of_field\":\"SF\",\"yardline_100\":3.0,\"quarter_seconds_remaining\":284.0,\"half_seconds_remaining\":1184.0,\"game_seconds_remaining\":1184.0,\"game_half\":\"Half2\",\"drive\":17,\"sp\":1,\"qtr\":3,\"down\":1.0,\"goal_to_go\":1.0,\"time\":\"04:44\",\"yrdln\":\"SF 3\",\"ydstogo\":3,\"ydsnet\":16,\"play_type\":\"pass\",\"yards_gained\":3,\"qb_dropback\":1.0,\"pass_length\":\"short\",\"pass_location\":\"middle\",\"air_yards\":3.0,\"away_timeouts_remaining\":3,\"td_team\":\"SEA\",\"posteam_timeouts_remaining\":3.0,\"defteam_timeouts_remaining\":3.0,\"total_home_score\":10,\"total_away_score\":13,\"posteam_score\":7.0,\"defteam_score\":10.0,\"score_differential\":-3.0,\"posteam_score_post\":13.0,\"defteam_score_post\":10.0,\"score_differential_post\":3.0,\"first_down_pass\":1.0,\"pass_attempt\":1.0,\"touchdown\":1.0,\"pass_touchdown\":1.0,\"complete_pass\":1.0,\"passer_player_id\":\"00-0029263\",\"passer_player_name\":\"R.Wilson\",\"receiver_player_id\":\"00-0033387\",\"receiver_player_name\":\"J.Hollister\"}',\n",
       "  'transcript': 'Wilson. Directing traffic to the end zone! and Hollister has it!'},\n",
       " {'json': '{\"home_team\":\"SF\",\"away_team\":\"SEA\",\"posteam\":\"SEA\",\"posteam_type\":\"away\",\"defteam\":\"SF\",\"side_of_field\":\"SF\",\"yardline_100\":1.0,\"quarter_seconds_remaining\":106.0,\"half_seconds_remaining\":1006.0,\"game_seconds_remaining\":1006.0,\"game_half\":\"Half2\",\"drive\":19,\"sp\":1,\"qtr\":3,\"down\":2.0,\"goal_to_go\":1.0,\"time\":\"01:46\",\"yrdln\":\"SF 1\",\"ydstogo\":1,\"ydsnet\":24,\"play_type\":\"run\",\"yards_gained\":1,\"run_location\":\"left\",\"run_gap\":\"guard\",\"away_timeouts_remaining\":2,\"td_team\":\"SEA\",\"posteam_timeouts_remaining\":2.0,\"defteam_timeouts_remaining\":3.0,\"total_home_score\":10,\"total_away_score\":20,\"posteam_score\":14.0,\"defteam_score\":10.0,\"score_differential\":4.0,\"posteam_score_post\":20.0,\"defteam_score_post\":10.0,\"score_differential_post\":10.0,\"first_down_rush\":1.0,\"rush_attempt\":1.0,\"touchdown\":1.0,\"rush_touchdown\":1.0,\"rusher_player_id\":\"00-0033594\",\"rusher_player_name\":\"C.Carson\"}',\n",
       "  'transcript': 'Carson. Straight ahead! over Uputy the left guard and in the endzone!'},\n",
       " {'json': '{\"home_team\":\"SF\",\"away_team\":\"SEA\",\"posteam\":\"SEA\",\"posteam_type\":\"away\",\"defteam\":\"SF\",\"side_of_field\":\"SEA\",\"yardline_100\":65.0,\"quarter_seconds_remaining\":732.0,\"half_seconds_remaining\":732.0,\"game_seconds_remaining\":732.0,\"game_half\":\"Half2\",\"drive\":21,\"sp\":1,\"qtr\":4,\"down\":2.0,\"time\":\"12:12\",\"yrdln\":\"SEA 35\",\"ydstogo\":7,\"ydsnet\":-8,\"play_type\":\"pass\",\"yards_gained\":-12,\"qb_dropback\":1.0,\"away_timeouts_remaining\":2,\"td_team\":\"SF\",\"posteam_timeouts_remaining\":2.0,\"defteam_timeouts_remaining\":3.0,\"total_home_score\":16,\"total_away_score\":21,\"posteam_score\":21.0,\"defteam_score\":10.0,\"score_differential\":11.0,\"posteam_score_post\":21.0,\"defteam_score_post\":16.0,\"score_differential_post\":5.0,\"fumble_forced\":1.0,\"solo_tackle\":1.0,\"fumble_lost\":1.0,\"qb_hit\":1.0,\"pass_attempt\":1.0,\"sack\":1.0,\"touchdown\":1.0,\"fumble\":1.0,\"assist_tackle\":1.0,\"passer_player_id\":\"00-0029263\",\"passer_player_name\":\"R.Wilson\",\"qb_hit_1_player_id\":\"00-0031253\",\"qb_hit_1_player_name\":\"K.Williams\",\"forced_fumble_player_1_team\":\"SF\",\"forced_fumble_player_1_player_id\":\"00-0032164\",\"forced_fumble_player_1_player_name\":\"A.Armstead\",\"forced_fumble_player_2_team\":\"SF\",\"forced_fumble_player_2_player_id\":\"00-0034815\",\"forced_fumble_player_2_player_name\":\"F.Warner\",\"solo_tackle_1_team\":\"SF\",\"solo_tackle_1_player_id\":\"00-0034815\",\"solo_tackle_1_player_name\":\"F.Warner\",\"assist_tackle_1_player_id\":\"00-0032164\",\"assist_tackle_1_player_name\":\"A.Armstead\",\"assist_tackle_1_team\":\"SF\",\"assist_tackle_2_player_id\":\"00-0031253\",\"assist_tackle_2_player_name\":\"K.Williams\",\"assist_tackle_2_team\":\"SF\",\"fumbled_1_team\":\"SEA\",\"fumbled_1_player_id\":\"00-0029263\",\"fumbled_1_player_name\":\"R.Wilson\",\"fumbled_2_player_id\":\"00-0032384\",\"fumbled_2_player_name\":\"G.Ifedi\",\"fumbled_2_team\":\"SEA\",\"fumble_recovery_1_team\":\"SEA\",\"fumble_recovery_1_yards\":-11.0,\"fumble_recovery_1_player_id\":\"00-0032384\",\"fumble_recovery_1_player_name\":\"G.Ifedi\",\"fumble_recovery_2_team\":\"SF\",\"fumble_recovery_2_yards\":12.0,\"fumble_recovery_2_player_id\":\"00-0032378\",\"fumble_recovery_2_player_name\":\"D.Buckner\"}',\n",
       "  'transcript': \"play action off of this on second and seven and they get to him and they do so by bringing Williams and then the ball comes out! And picking it up is bucker! And we've got a San Francisco touchdown! Deforest Buckner! great football awareness!\"},\n",
       " {'json': '{\"home_team\":\"WAS\",\"away_team\":\"DET\",\"posteam\":\"WAS\",\"posteam_type\":\"home\",\"defteam\":\"DET\",\"side_of_field\":\"DET\",\"yardline_100\":35.0,\"quarter_seconds_remaining\":789.0,\"half_seconds_remaining\":789.0,\"game_seconds_remaining\":2589.0,\"game_half\":\"Half1\",\"drive\":5,\"sp\":1,\"qtr\":2,\"time\":\"13:09\",\"yrdln\":\"DET 35\",\"play_type\":\"kickoff\",\"kick_distance\":59.0,\"away_timeouts_remaining\":3,\"td_team\":\"WAS\",\"posteam_timeouts_remaining\":3.0,\"defteam_timeouts_remaining\":3.0,\"total_home_score\":9,\"total_away_score\":3,\"posteam_score\":3.0,\"defteam_score\":3.0,\"posteam_score_post\":9.0,\"defteam_score_post\":3.0,\"score_differential_post\":6.0,\"touchdown\":1.0,\"return_touchdown\":1.0,\"kickoff_attempt\":1.0,\"kickoff_returner_player_name\":\"S.Sims\",\"kickoff_returner_player_id\":\"00-0034928\",\"kicker_player_name\":\"M.Prater\",\"kicker_player_id\":\"00-0023853\",\"return_team\":\"WAS\",\"return_yards\":91}',\n",
       "  'transcript': 'sims had a big return earlier takes this one on the run. Lost the football and stays on his feet. Out across the 30 and still going! Steven Sims will take this all the way into the endzone 91 yards for a redskin touchdown!!'},\n",
       " {'json': '{\"home_team\":\"DAL\",\"away_team\":\"BUF\",\"posteam\":\"DAL\",\"posteam_type\":\"home\",\"defteam\":\"BUF\",\"side_of_field\":\"BUF\",\"yardline_100\":8.0,\"quarter_seconds_remaining\":639.0,\"half_seconds_remaining\":1539.0,\"game_seconds_remaining\":3339.0,\"game_half\":\"Half1\",\"drive\":1,\"sp\":1,\"qtr\":1,\"down\":2.0,\"goal_to_go\":1.0,\"time\":\"10:39\",\"yrdln\":\"BUF 8\",\"ydstogo\":8,\"ydsnet\":75,\"play_type\":\"pass\",\"yards_gained\":8,\"qb_dropback\":1.0,\"pass_length\":\"short\",\"pass_location\":\"right\",\"air_yards\":4.0,\"yards_after_catch\":4.0,\"away_timeouts_remaining\":3,\"td_team\":\"DAL\",\"posteam_timeouts_remaining\":3.0,\"defteam_timeouts_remaining\":3.0,\"total_home_score\":6,\"posteam_score_post\":6.0,\"score_differential_post\":6.0,\"first_down_pass\":1.0,\"pass_attempt\":1.0,\"touchdown\":1.0,\"pass_touchdown\":1.0,\"complete_pass\":1.0,\"passer_player_id\":\"00-0033077\",\"passer_player_name\":\"D.Prescott\",\"receiver_player_id\":\"00-0022127\",\"receiver_player_name\":\"J.Witten\"}',\n",
       "  'transcript': \"Second and goal, play action, prescott finds the target it's waiting for the touchdown! Jason Witten has another thanksgiving touchdown!\"},\n",
       " {'json': '{\"home_team\":\"DAL\",\"away_team\":\"BUF\",\"posteam\":\"BUF\",\"posteam_type\":\"away\",\"defteam\":\"DAL\",\"side_of_field\":\"DAL\",\"yardline_100\":25.0,\"quarter_seconds_remaining\":489.0,\"half_seconds_remaining\":489.0,\"game_seconds_remaining\":2289.0,\"game_half\":\"Half1\",\"drive\":6,\"sp\":1,\"qtr\":2,\"down\":1.0,\"time\":\"08:09\",\"yrdln\":\"DAL 25\",\"ydstogo\":10,\"ydsnet\":85,\"play_type\":\"pass\",\"yards_gained\":25,\"shotgun\":1,\"no_huddle\":1,\"qb_dropback\":1.0,\"pass_length\":\"short\",\"pass_location\":\"middle\",\"air_yards\":15.0,\"yards_after_catch\":10.0,\"away_timeouts_remaining\":3,\"td_team\":\"BUF\",\"posteam_timeouts_remaining\":3.0,\"defteam_timeouts_remaining\":3.0,\"total_home_score\":7,\"total_away_score\":6,\"defteam_score\":7.0,\"score_differential\":-7.0,\"posteam_score_post\":6.0,\"defteam_score_post\":7.0,\"score_differential_post\":-1.0,\"first_down_pass\":1.0,\"pass_attempt\":1.0,\"touchdown\":1.0,\"pass_touchdown\":1.0,\"complete_pass\":1.0,\"passer_player_id\":\"00-0034857\",\"passer_player_name\":\"J.Allen\",\"receiver_player_id\":\"00-0029000\",\"receiver_player_name\":\"C.Beasley\"}',\n",
       "  'transcript': \"A runner to really take off and it makes the game shorter for your offense. on the run fires it again it's beasly! back to dallas with a touchdown in his old building\"},\n",
       " {'json': '{\"home_team\":\"DAL\",\"away_team\":\"BUF\",\"posteam\":\"BUF\",\"posteam_type\":\"away\",\"defteam\":\"DAL\",\"side_of_field\":\"DAL\",\"yardline_100\":15.0,\"quarter_seconds_remaining\":225.0,\"half_seconds_remaining\":1125.0,\"game_seconds_remaining\":1125.0,\"game_half\":\"Half2\",\"drive\":14,\"sp\":1,\"qtr\":3,\"down\":1.0,\"time\":\"03:45\",\"yrdln\":\"DAL 15\",\"ydstogo\":10,\"ydsnet\":63,\"play_type\":\"run\",\"yards_gained\":15,\"shotgun\":1,\"no_huddle\":1,\"qb_dropback\":1.0,\"qb_scramble\":1,\"run_location\":\"right\",\"run_gap\":\"end\",\"away_timeouts_remaining\":2,\"td_team\":\"BUF\",\"posteam_timeouts_remaining\":2.0,\"defteam_timeouts_remaining\":3.0,\"total_home_score\":7,\"total_away_score\":22,\"posteam_score\":16.0,\"defteam_score\":7.0,\"score_differential\":9.0,\"posteam_score_post\":22.0,\"defteam_score_post\":7.0,\"score_differential_post\":15.0,\"first_down_rush\":1.0,\"rush_attempt\":1.0,\"touchdown\":1.0,\"rush_touchdown\":1.0,\"rusher_player_id\":\"00-0034857\",\"rusher_player_name\":\"J.Allen\"}',\n",
       "  'transcript': \"First snap inside the 20. allen open field inside the 10 and he goes all the way for the touchdown! He's got yet another game with a touchdown pass and a touchdown run\"},\n",
       " {'json': '{\"home_team\":\"DAL\",\"away_team\":\"BUF\",\"posteam\":\"DAL\",\"posteam_type\":\"home\",\"defteam\":\"BUF\",\"side_of_field\":\"BUF\",\"yardline_100\":15.0,\"quarter_seconds_remaining\":246.0,\"half_seconds_remaining\":246.0,\"game_seconds_remaining\":246.0,\"game_half\":\"Half2\",\"drive\":19,\"sp\":1,\"qtr\":4,\"down\":1.0,\"time\":\"04:06\",\"yrdln\":\"BUF 15\",\"ydstogo\":10,\"ydsnet\":70,\"play_type\":\"pass\",\"yards_gained\":15,\"shotgun\":1,\"no_huddle\":1,\"qb_dropback\":1.0,\"pass_length\":\"short\",\"pass_location\":\"left\",\"air_yards\":15.0,\"away_timeouts_remaining\":2,\"td_team\":\"DAL\",\"defteam_timeouts_remaining\":2.0,\"total_home_score\":13,\"total_away_score\":26,\"posteam_score\":7.0,\"defteam_score\":26.0,\"score_differential\":-19.0,\"posteam_score_post\":13.0,\"defteam_score_post\":26.0,\"score_differential_post\":-13.0,\"first_down_pass\":1.0,\"pass_attempt\":1.0,\"touchdown\":1.0,\"pass_touchdown\":1.0,\"complete_pass\":1.0,\"passer_player_id\":\"00-0033077\",\"passer_player_name\":\"D.Prescott\",\"receiver_player_id\":\"00-0035548\",\"receiver_player_name\":\"V.Bryant\"}',\n",
       "  'transcript': 'You just have to adapt as the season continues to go along. From the 15 to the end zone and it is caught for a touchdown by dez bryant oh van tell bryant!'}]"
      ]
     },
     "execution_count": 95,
     "metadata": {},
     "output_type": "execute_result"
    }
   ],
   "source": [
    "ret_list[]"
   ]
  },
  {
   "cell_type": "code",
   "execution_count": 21,
   "id": "f865db9c",
   "metadata": {},
   "outputs": [],
   "source": [
    "ret_list = []\n",
    "for i in range(len(transcript_groups)):\n",
    "    transcript_group = X.loc[transcript_grouped[transcript_groups[i]]]\n",
    "    ret_list += [{\"json\":transcript_group.loc[transcript_group[\"touchdown\"]==1,relevant_cols].replace(0,np.nan).dropna(axis=1).iloc[0].to_json(),\n",
    "                  \"transcript\":transcript_group[\"transcript\"].iloc[0]}]"
   ]
  },
  {
   "cell_type": "code",
   "execution_count": 24,
   "id": "b3d58e39",
   "metadata": {
    "scrolled": true
   },
   "outputs": [
    {
     "data": {
      "text/plain": [
       "\"Second and goal, play action, prescott finds the target it's waiting for the touchdown! Jason Witten has another thanksgiving touchdown!\""
      ]
     },
     "execution_count": 24,
     "metadata": {},
     "output_type": "execute_result"
    }
   ],
   "source": [
    "ret_list[4][\"transcript\"]"
   ]
  },
  {
   "cell_type": "code",
   "execution_count": 105,
   "id": "6a3ccef8",
   "metadata": {},
   "outputs": [
    {
     "ename": "ValueError",
     "evalue": "maximum supported dimension for an ndarray is 32, found 33",
     "output_type": "error",
     "traceback": [
      "\u001b[0;31m---------------------------------------------------------------------------\u001b[0m",
      "\u001b[0;31mValueError\u001b[0m                                Traceback (most recent call last)",
      "Cell \u001b[0;32mIn [105], line 1\u001b[0m\n\u001b[0;32m----> 1\u001b[0m \u001b[43mnp\u001b[49m\u001b[38;5;241;43m.\u001b[39;49m\u001b[43mrandom\u001b[49m\u001b[38;5;241;43m.\u001b[39;49m\u001b[43msample\u001b[49m\u001b[43m(\u001b[49m\u001b[43mnp\u001b[49m\u001b[38;5;241;43m.\u001b[39;49m\u001b[43marray\u001b[49m\u001b[43m(\u001b[49m\u001b[43mret_list\u001b[49m\u001b[43m)\u001b[49m\u001b[43m)\u001b[49m\n",
      "File \u001b[0;32mmtrand.pyx:4708\u001b[0m, in \u001b[0;36mnumpy.random.mtrand.sample\u001b[0;34m()\u001b[0m\n",
      "File \u001b[0;32mmtrand.pyx:425\u001b[0m, in \u001b[0;36mnumpy.random.mtrand.RandomState.random_sample\u001b[0;34m()\u001b[0m\n",
      "File \u001b[0;32m_common.pyx:307\u001b[0m, in \u001b[0;36mnumpy.random._common.double_fill\u001b[0;34m()\u001b[0m\n",
      "\u001b[0;31mValueError\u001b[0m: maximum supported dimension for an ndarray is 32, found 33"
     ]
    }
   ],
   "source": [
    "np.random.sample(np.array(ret_list))"
   ]
  },
  {
   "cell_type": "code",
   "execution_count": 123,
   "id": "d1d66613",
   "metadata": {},
   "outputs": [
    {
     "data": {
      "text/plain": [
       "6     {'json': '{\"home_team\":\"TB\",\"away_team\":\"NYG\",...\n",
       "26    {'json': '{\"home_team\":\"SF\",\"away_team\":\"SEA\",...\n",
       "28    {'json': '{\"home_team\":\"WAS\",\"away_team\":\"DET\"...\n",
       "12    {'json': '{\"home_team\":\"BAL\",\"away_team\":\"CLE\"...\n",
       "dtype: object"
      ]
     },
     "execution_count": 123,
     "metadata": {},
     "output_type": "execute_result"
    }
   ],
   "source": [
    "my_sample = pd.Series(ret_list).sample(4,random_state=82)\n",
    "my_sample"
   ]
  },
  {
   "cell_type": "code",
   "execution_count": 127,
   "id": "824bcb33",
   "metadata": {},
   "outputs": [
    {
     "data": {
      "text/plain": [
       "{'json': '{\"home_team\":\"BAL\",\"away_team\":\"CLE\",\"posteam\":\"BAL\",\"posteam_type\":\"home\",\"defteam\":\"CLE\",\"side_of_field\":\"MID\",\"yardline_100\":50.0,\"quarter_seconds_remaining\":40.0,\"half_seconds_remaining\":40.0,\"game_seconds_remaining\":40.0,\"game_half\":\"Half2\",\"drive\":23,\"sp\":1,\"qtr\":4,\"down\":1.0,\"time\":\"00:40\",\"yrdln\":\"MID 50\",\"ydstogo\":15,\"ydsnet\":79,\"play_type\":\"pass\",\"yards_gained\":50,\"shotgun\":1,\"no_huddle\":1,\"qb_dropback\":1.0,\"pass_length\":\"short\",\"pass_location\":\"left\",\"air_yards\":6.0,\"yards_after_catch\":44.0,\"away_timeouts_remaining\":2,\"td_team\":\"BAL\",\"defteam_timeouts_remaining\":2.0,\"total_home_score\":24,\"total_away_score\":40,\"posteam_score\":18.0,\"defteam_score\":40.0,\"score_differential\":-22.0,\"posteam_score_post\":24.0,\"defteam_score_post\":40.0,\"score_differential_post\":-16.0,\"first_down_pass\":1.0,\"pass_attempt\":1.0,\"touchdown\":1.0,\"pass_touchdown\":1.0,\"complete_pass\":1.0,\"passer_player_id\":\"00-0034796\",\"passer_player_name\":\"L.Jackson\",\"receiver_player_id\":\"00-0030663\",\"receiver_player_name\":\"W.Snead\"}',\n",
       " 'transcript': \"First and 15. Jackson completes that ball to Willie Sneed and Sneed! Up the sideline! Sneed looking for the end zone and he'll get there!\"}"
      ]
     },
     "execution_count": 127,
     "metadata": {},
     "output_type": "execute_result"
    }
   ],
   "source": [
    "my_sample.iloc[3]"
   ]
  },
  {
   "cell_type": "code",
   "execution_count": 129,
   "id": "d56a974b",
   "metadata": {},
   "outputs": [
    {
     "data": {
      "text/plain": [
       "{'json': '{\"home_team\":\"BAL\",\"away_team\":\"CLE\",\"posteam\":\"CLE\",\"posteam_type\":\"away\",\"defteam\":\"BAL\",\"side_of_field\":\"BAL\",\"yardline_100\":2.0,\"quarter_seconds_remaining\":58.0,\"half_seconds_remaining\":958.0,\"game_seconds_remaining\":958.0,\"game_half\":\"Half2\",\"drive\":14,\"sp\":1,\"qtr\":3,\"down\":1.0,\"goal_to_go\":1.0,\"time\":\"00:58\",\"yrdln\":\"BAL 02\",\"ydstogo\":2,\"ydsnet\":74,\"play_type\":\"run\",\"yards_gained\":2,\"run_location\":\"left\",\"run_gap\":\"tackle\",\"away_timeouts_remaining\":3,\"td_team\":\"CLE\",\"posteam_timeouts_remaining\":3.0,\"defteam_timeouts_remaining\":3.0,\"total_home_score\":10,\"total_away_score\":23,\"posteam_score\":17.0,\"defteam_score\":10.0,\"score_differential\":7.0,\"posteam_score_post\":23.0,\"defteam_score_post\":10.0,\"score_differential_post\":13.0,\"first_down_rush\":1.0,\"rush_attempt\":1.0,\"touchdown\":1.0,\"rush_touchdown\":1.0,\"rusher_player_id\":\"00-0034791\",\"rusher_player_name\":\"N.Chubb\"}',\n",
       " 'transcript': 'Nick Chubb trying ot find the endzone and he does! Touchdown Cleveland.'}"
      ]
     },
     "execution_count": 129,
     "metadata": {},
     "output_type": "execute_result"
    }
   ],
   "source": [
    "pd.Series(ret_list).sample(1,random_state=57).iloc[0]"
   ]
  },
  {
   "cell_type": "code",
   "execution_count": null,
   "id": "0aa2a1f1",
   "metadata": {},
   "outputs": [],
   "source": []
  }
 ],
 "metadata": {
  "kernelspec": {
   "display_name": "Python 3 (ipykernel)",
   "language": "python",
   "name": "python3"
  },
  "language_info": {
   "codemirror_mode": {
    "name": "ipython",
    "version": 3
   },
   "file_extension": ".py",
   "mimetype": "text/x-python",
   "name": "python",
   "nbconvert_exporter": "python",
   "pygments_lexer": "ipython3",
   "version": "3.9.13"
  }
 },
 "nbformat": 4,
 "nbformat_minor": 5
}
