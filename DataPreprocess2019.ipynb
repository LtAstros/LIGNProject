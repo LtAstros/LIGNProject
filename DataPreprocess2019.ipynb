{
 "cells": [
  {
   "cell_type": "code",
   "execution_count": 1,
   "id": "df71510c",
   "metadata": {},
   "outputs": [],
   "source": [
    "import pandas as pd\n",
    "import re\n",
    "import datetime\n",
    "import numpy as np"
   ]
  },
  {
   "cell_type": "markdown",
   "id": "a0f964cc",
   "metadata": {},
   "source": [
    "# 2019 Data Preprocess"
   ]
  },
  {
   "cell_type": "code",
   "execution_count": 2,
   "id": "6f93a20e",
   "metadata": {
    "scrolled": true
   },
   "outputs": [
    {
     "name": "stderr",
     "output_type": "stream",
     "text": [
      "C:\\Users\\costi\\AppData\\Local\\Temp\\ipykernel_25664\\20673864.py:1: DtypeWarning: Columns (167,168,169,170,175,176,179,180,183,184,189,190,191,192,195,196,204,205,206,219,220,221,222,223,224,227,228,232,233,234,239,241,242) have mixed types. Specify dtype option on import or set low_memory=False.\n",
      "  pbp_data_19 = pd.read_csv(\"./pbp_data/regular_season/reg_pbp_2019.csv\")\n"
     ]
    }
   ],
   "source": [
    "pbp_data_19 = pd.read_csv(\"./pbp_data/regular_season/reg_pbp_2019.csv\")"
   ]
  },
  {
   "cell_type": "code",
   "execution_count": 3,
   "id": "f0bc71b7",
   "metadata": {},
   "outputs": [],
   "source": [
    "highlights19 = pd.read_csv(\"./2019_NFL_highlight_transcript - Sheet1.csv\")\n",
    "highlights19 = highlights19[~highlights19[\"inning\"].isna()]"
   ]
  },
  {
   "cell_type": "code",
   "execution_count": 4,
   "id": "25b80d69",
   "metadata": {},
   "outputs": [],
   "source": [
    "relevant_cols = pbp_data_19.drop(columns=(list(pbp_data_19.iloc[:,58:110].columns) + [\"desc\",\"home_timeouts_remaining\",\"home_timeouts_remaining\",\"timeout\",\"timeout_team\",\"play_id\",\"game_id\",\"game_date\"])).columns"
   ]
  },
  {
   "cell_type": "code",
   "execution_count": 5,
   "id": "0145de38",
   "metadata": {},
   "outputs": [
    {
     "data": {
      "text/plain": [
       "Index(['play_id', 'game_id', 'home_team', 'away_team', 'posteam',\n",
       "       'posteam_type', 'defteam', 'side_of_field', 'yardline_100', 'game_date',\n",
       "       ...\n",
       "       'penalty_player_id', 'penalty_player_name', 'penalty_yards',\n",
       "       'replay_or_challenge', 'replay_or_challenge_result', 'penalty_type',\n",
       "       'defensive_two_point_attempt', 'defensive_two_point_conv',\n",
       "       'defensive_extra_point_attempt', 'defensive_extra_point_conv'],\n",
       "      dtype='object', length=256)"
      ]
     },
     "execution_count": 5,
     "metadata": {},
     "output_type": "execute_result"
    }
   ],
   "source": [
    "pbp_data_19.columns"
   ]
  },
  {
   "cell_type": "code",
   "execution_count": 6,
   "id": "79f8da40",
   "metadata": {},
   "outputs": [],
   "source": [
    "def process_inning_time(time_str):\n",
    "    quarter = time_str[0]\n",
    "    if quarter == \"O\":\n",
    "        time_remaining = 0\n",
    "    else:\n",
    "        time_remaining = (4 - int(quarter)) * 900\n",
    "    times = re.findall(\"\\d?\\d:\\d\\d\",time_str)\n",
    "    timedeltas = pd.to_timedelta(pd.to_datetime(times,format='%M:%S').strftime('%H:%M:%S').values)\n",
    "    timelists = (timedeltas + datetime.timedelta(seconds=time_remaining)).seconds\n",
    "    return pd.Interval(timelists[1],timelists[0],closed=\"both\")"
   ]
  },
  {
   "cell_type": "code",
   "execution_count": 7,
   "id": "3406f2e9",
   "metadata": {
    "scrolled": true
   },
   "outputs": [],
   "source": [
    "highlights19[\"intervals\"] = highlights19[\"inning\"].apply(process_inning_time)\n",
    "highlights19[\"date\"] = pd.to_datetime(highlights19[\"date\"])\n",
    "pbp_data_19[\"game_date\"] = pd.to_datetime(pbp_data_19[\"game_date\"])"
   ]
  },
  {
   "cell_type": "code",
   "execution_count": 8,
   "id": "2f76cc71",
   "metadata": {},
   "outputs": [],
   "source": [
    "merged19 = pbp_data_19.merge(highlights19,left_on=[\"home_team\",\"away_team\",\"game_date\"], right_on=[\"home\",\"away\",\"date\"])"
   ]
  },
  {
   "cell_type": "code",
   "execution_count": 9,
   "id": "1a807935",
   "metadata": {},
   "outputs": [],
   "source": [
    "def in_interval(row):\n",
    "    return row[\"game_seconds_remaining\"] in row[\"intervals\"]"
   ]
  },
  {
   "cell_type": "code",
   "execution_count": 10,
   "id": "30af3cd2",
   "metadata": {},
   "outputs": [],
   "source": [
    "plays19 = merged19[merged19.apply(lambda x: x[\"game_seconds_remaining\"] in x[\"intervals\"],axis=1)]"
   ]
  },
  {
   "cell_type": "code",
   "execution_count": 11,
   "id": "c33ce192",
   "metadata": {},
   "outputs": [],
   "source": [
    "X = plays19[relevant_cols.to_list()+[\"transcript\"]]"
   ]
  },
  {
   "cell_type": "code",
   "execution_count": 12,
   "id": "0a785344",
   "metadata": {},
   "outputs": [],
   "source": [
    "commentary = pd.Series(plays19[\"transcript\"].unique()).sample(3).values"
   ]
  },
  {
   "cell_type": "code",
   "execution_count": 13,
   "id": "23133f8a",
   "metadata": {},
   "outputs": [],
   "source": [
    "# commentary[0]"
   ]
  },
  {
   "cell_type": "code",
   "execution_count": 14,
   "id": "87d4dae2",
   "metadata": {},
   "outputs": [],
   "source": [
    "my_count = -1\n",
    "while my_count < 10:\n",
    "    commentary = pd.Series(plays19[\"transcript\"].unique()).sample(10).values\n",
    "    my_count = X.loc[X[\"transcript\"].isin(commentary),\"touchdown\"].sum()"
   ]
  },
  {
   "cell_type": "code",
   "execution_count": 15,
   "id": "6e2ddc5b",
   "metadata": {
    "scrolled": true
   },
   "outputs": [
    {
     "data": {
      "text/plain": [
       "array(['Cowboy 28, little trickery! and a pass to boot. wide open, single terry with a buffalo touchdown!',\n",
       "       'You just have to adapt as the season continues to go along. From the 15 to the end zone and it is caught for a touchdown by dez bryant oh van tell bryant!',\n",
       "       'mayfield throws wide open! to the five! to the end zone! ricky seals jones with the touchdown!',\n",
       "       'the second and goal, Jones in the backfield. Winston, quick release! Taking it in for his second touchdown in this quarter is Mike Evans!',\n",
       "       'Wilson steps through, flips wide open and caught! After a juggle for the touchdown!  Carson!',\n",
       "       'first and 10 25 yard line off the fake to goldman! Jones pass is caught by Evan Engram still going! Down the sideline! Evan Edward will take this all the way! What a great read by Daniel Jones! More importantly, what a great read by Evan Engram!',\n",
       "       'First and 15. Chubb. Chubb with running room to the 40! On his way to the end zone!',\n",
       "       \"Second and goal, play action, prescott finds the target it's waiting for the touchdown! Jason Witten has another thanksgiving touchdown!\",\n",
       "       'Nick Chubb trying ot find the endzone and he does! Touchdown Cleveland.',\n",
       "       \"First snap inside the 20. allen open field inside the 10 and he goes all the way for the touchdown! He's got yet another game with a touchdown pass and a touchdown run\"],\n",
       "      dtype=object)"
      ]
     },
     "execution_count": 15,
     "metadata": {},
     "output_type": "execute_result"
    }
   ],
   "source": [
    "commentary"
   ]
  },
  {
   "cell_type": "code",
   "execution_count": 16,
   "id": "9f4b18a5",
   "metadata": {
    "scrolled": true
   },
   "outputs": [],
   "source": [
    "tempX = X.loc[X[\"transcript\"].isin(commentary)]"
   ]
  },
  {
   "cell_type": "code",
   "execution_count": 17,
   "id": "ddd21e6d",
   "metadata": {},
   "outputs": [],
   "source": [
    "transcript_grouped = tempX.groupby(\"transcript\").groups\n",
    "transcript_groups = list(transcript_grouped.keys())"
   ]
  },
  {
   "cell_type": "code",
   "execution_count": 18,
   "id": "8a5fcca5",
   "metadata": {
    "scrolled": false
   },
   "outputs": [
    {
     "data": {
      "text/html": [
       "<div>\n",
       "<style scoped>\n",
       "    .dataframe tbody tr th:only-of-type {\n",
       "        vertical-align: middle;\n",
       "    }\n",
       "\n",
       "    .dataframe tbody tr th {\n",
       "        vertical-align: top;\n",
       "    }\n",
       "\n",
       "    .dataframe thead th {\n",
       "        text-align: right;\n",
       "    }\n",
       "</style>\n",
       "<table border=\"1\" class=\"dataframe\">\n",
       "  <thead>\n",
       "    <tr style=\"text-align: right;\">\n",
       "      <th></th>\n",
       "      <th>inning</th>\n",
       "      <th>URL</th>\n",
       "    </tr>\n",
       "  </thead>\n",
       "  <tbody>\n",
       "    <tr>\n",
       "      <th>10685</th>\n",
       "      <td>1st inning 10:40-10:34</td>\n",
       "      <td>https://www.youtube.com/watch?v=hmVut-6Acp4</td>\n",
       "    </tr>\n",
       "    <tr>\n",
       "      <th>10695</th>\n",
       "      <td>1st inning 10:40-10:34</td>\n",
       "      <td>https://www.youtube.com/watch?v=hmVut-6Acp4</td>\n",
       "    </tr>\n",
       "    <tr>\n",
       "      <th>10705</th>\n",
       "      <td>1st inning 10:40-10:34</td>\n",
       "      <td>https://www.youtube.com/watch?v=hmVut-6Acp4</td>\n",
       "    </tr>\n",
       "  </tbody>\n",
       "</table>\n",
       "</div>"
      ],
      "text/plain": [
       "                       inning                                          URL\n",
       "10685  1st inning 10:40-10:34  https://www.youtube.com/watch?v=hmVut-6Acp4\n",
       "10695  1st inning 10:40-10:34  https://www.youtube.com/watch?v=hmVut-6Acp4\n",
       "10705  1st inning 10:40-10:34  https://www.youtube.com/watch?v=hmVut-6Acp4"
      ]
     },
     "execution_count": 18,
     "metadata": {},
     "output_type": "execute_result"
    }
   ],
   "source": [
    "plays19.loc[transcript_grouped[transcript_groups[4]]][[\"inning\",\"URL\"]]"
   ]
  },
  {
   "cell_type": "code",
   "execution_count": 19,
   "id": "fcc54fe2",
   "metadata": {},
   "outputs": [
    {
     "data": {
      "text/plain": [
       "\"Second and goal, play action, prescott finds the target it's waiting for the touchdown! Jason Witten has another thanksgiving touchdown!\""
      ]
     },
     "execution_count": 19,
     "metadata": {},
     "output_type": "execute_result"
    }
   ],
   "source": [
    "transcript_groups[4]"
   ]
  },
  {
   "cell_type": "code",
   "execution_count": 20,
   "id": "c82c33dd",
   "metadata": {},
   "outputs": [
    {
     "data": {
      "text/plain": [
       "['Cowboy 28, little trickery! and a pass to boot. wide open, single terry with a buffalo touchdown!',\n",
       " 'First and 15. Chubb. Chubb with running room to the 40! On his way to the end zone!',\n",
       " \"First snap inside the 20. allen open field inside the 10 and he goes all the way for the touchdown! He's got yet another game with a touchdown pass and a touchdown run\",\n",
       " 'Nick Chubb trying ot find the endzone and he does! Touchdown Cleveland.',\n",
       " \"Second and goal, play action, prescott finds the target it's waiting for the touchdown! Jason Witten has another thanksgiving touchdown!\",\n",
       " 'Wilson steps through, flips wide open and caught! After a juggle for the touchdown!  Carson!',\n",
       " 'You just have to adapt as the season continues to go along. From the 15 to the end zone and it is caught for a touchdown by dez bryant oh van tell bryant!',\n",
       " 'first and 10 25 yard line off the fake to goldman! Jones pass is caught by Evan Engram still going! Down the sideline! Evan Edward will take this all the way! What a great read by Daniel Jones! More importantly, what a great read by Evan Engram!',\n",
       " 'mayfield throws wide open! to the five! to the end zone! ricky seals jones with the touchdown!',\n",
       " 'the second and goal, Jones in the backfield. Winston, quick release! Taking it in for his second touchdown in this quarter is Mike Evans!']"
      ]
     },
     "execution_count": 20,
     "metadata": {},
     "output_type": "execute_result"
    }
   ],
   "source": [
    "transcript_groups"
   ]
  },
  {
   "cell_type": "code",
   "execution_count": 21,
   "id": "f865db9c",
   "metadata": {},
   "outputs": [],
   "source": [
    "ret_list = []\n",
    "for i in range(len(transcript_groups)):\n",
    "    transcript_group = X.loc[transcript_grouped[transcript_groups[i]]]\n",
    "    ret_list += [{\"json\":transcript_group.loc[transcript_group[\"touchdown\"]==1,relevant_cols].replace(0,np.nan).dropna(axis=1).iloc[0].to_json(),\n",
    "                  \"transcript\":transcript_group[\"transcript\"].iloc[0]}]"
   ]
  },
  {
   "cell_type": "code",
   "execution_count": 24,
   "id": "b3d58e39",
   "metadata": {
    "scrolled": true
   },
   "outputs": [
    {
     "data": {
      "text/plain": [
       "\"Second and goal, play action, prescott finds the target it's waiting for the touchdown! Jason Witten has another thanksgiving touchdown!\""
      ]
     },
     "execution_count": 24,
     "metadata": {},
     "output_type": "execute_result"
    }
   ],
   "source": [
    "ret_list[4][\"transcript\"]"
   ]
  },
  {
   "cell_type": "code",
   "execution_count": null,
   "id": "6a3ccef8",
   "metadata": {},
   "outputs": [],
   "source": []
  }
 ],
 "metadata": {
  "kernelspec": {
   "display_name": "Python 3 (ipykernel)",
   "language": "python",
   "name": "python3"
  },
  "language_info": {
   "codemirror_mode": {
    "name": "ipython",
    "version": 3
   },
   "file_extension": ".py",
   "mimetype": "text/x-python",
   "name": "python",
   "nbconvert_exporter": "python",
   "pygments_lexer": "ipython3",
   "version": "3.9.13"
  }
 },
 "nbformat": 4,
 "nbformat_minor": 5
}
