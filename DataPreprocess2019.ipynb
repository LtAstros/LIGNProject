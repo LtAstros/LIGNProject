{
 "cells": [
  {
   "cell_type": "code",
   "execution_count": 2,
   "id": "df71510c",
   "metadata": {},
   "outputs": [],
   "source": [
    "import pandas as pd\n",
    "import re\n",
    "import datetime\n",
    "import numpy as np"
   ]
  },
  {
   "cell_type": "markdown",
   "id": "a0f964cc",
   "metadata": {},
   "source": [
    "# 2019 Data Preprocess"
   ]
  },
  {
   "cell_type": "code",
   "execution_count": 3,
   "id": "6f93a20e",
   "metadata": {
    "scrolled": true
   },
   "outputs": [
    {
     "name": "stderr",
     "output_type": "stream",
     "text": [
      "/var/folders/08/6rx4zjtn10557fvbrhbl5ykw0000gn/T/ipykernel_65763/20673864.py:1: DtypeWarning: Columns (167,168,169,170,175,176,179,180,183,184,189,190,191,192,195,196,204,205,206,219,220,221,222,223,224,227,228,232,233,234,239,241,242) have mixed types. Specify dtype option on import or set low_memory=False.\n",
      "  pbp_data_19 = pd.read_csv(\"./pbp_data/regular_season/reg_pbp_2019.csv\")\n"
     ]
    }
   ],
   "source": [
    "pbp_data_19 = pd.read_csv(\"./pbp_data/regular_season/reg_pbp_2019.csv\")"
   ]
  },
  {
   "cell_type": "code",
   "execution_count": 4,
   "id": "f0bc71b7",
   "metadata": {},
   "outputs": [],
   "source": [
    "highlights19 = pd.read_csv(\"./2019_NFL_highlight_transcript - Sheet1.csv\")\n",
    "highlights19 = highlights19[~highlights19[\"inning\"].isna()]"
   ]
  },
  {
   "cell_type": "code",
   "execution_count": 5,
   "id": "25b80d69",
   "metadata": {},
   "outputs": [],
   "source": [
    "relevant_cols = pbp_data_19.drop(columns=(list(pbp_data_19.iloc[:,58:110].columns) + [\"desc\",\"home_timeouts_remaining\",\"home_timeouts_remaining\",\"timeout\",\"timeout_team\",\"play_id\",\"game_id\",\"game_date\"])).columns"
   ]
  },
  {
   "cell_type": "code",
   "execution_count": 6,
   "id": "0145de38",
   "metadata": {},
   "outputs": [
    {
     "data": {
      "text/plain": [
       "Index(['play_id', 'game_id', 'home_team', 'away_team', 'posteam',\n",
       "       'posteam_type', 'defteam', 'side_of_field', 'yardline_100', 'game_date',\n",
       "       ...\n",
       "       'penalty_player_id', 'penalty_player_name', 'penalty_yards',\n",
       "       'replay_or_challenge', 'replay_or_challenge_result', 'penalty_type',\n",
       "       'defensive_two_point_attempt', 'defensive_two_point_conv',\n",
       "       'defensive_extra_point_attempt', 'defensive_extra_point_conv'],\n",
       "      dtype='object', length=256)"
      ]
     },
     "execution_count": 6,
     "metadata": {},
     "output_type": "execute_result"
    }
   ],
   "source": [
    "pbp_data_19.columns"
   ]
  },
  {
   "cell_type": "code",
   "execution_count": 7,
   "id": "79f8da40",
   "metadata": {},
   "outputs": [],
   "source": [
    "def process_inning_time(time_str):\n",
    "    quarter = time_str[0]\n",
    "    if quarter == \"O\":\n",
    "        time_remaining = 0\n",
    "    else:\n",
    "        time_remaining = (4 - int(quarter)) * 900\n",
    "    times = re.findall(\"\\d?\\d:\\d\\d\",time_str)\n",
    "    timedeltas = pd.to_timedelta(pd.to_datetime(times,format='%M:%S').strftime('%H:%M:%S').values)\n",
    "    timelists = (timedeltas + datetime.timedelta(seconds=time_remaining)).seconds\n",
    "    return pd.Interval(timelists[1],timelists[0],closed=\"both\")"
   ]
  },
  {
   "cell_type": "code",
   "execution_count": 8,
   "id": "3406f2e9",
   "metadata": {
    "scrolled": true
   },
   "outputs": [],
   "source": [
    "highlights19[\"intervals\"] = highlights19[\"inning\"].apply(process_inning_time)\n",
    "highlights19[\"date\"] = pd.to_datetime(highlights19[\"date\"])\n",
    "pbp_data_19[\"game_date\"] = pd.to_datetime(pbp_data_19[\"game_date\"])"
   ]
  },
  {
   "cell_type": "code",
   "execution_count": 9,
   "id": "2f76cc71",
   "metadata": {},
   "outputs": [],
   "source": [
    "merged19 = pbp_data_19.merge(highlights19,left_on=[\"home_team\",\"away_team\",\"game_date\"], right_on=[\"home\",\"away\",\"date\"])"
   ]
  },
  {
   "cell_type": "code",
   "execution_count": 10,
   "id": "1a807935",
   "metadata": {},
   "outputs": [],
   "source": [
    "def in_interval(row):\n",
    "    return row[\"game_seconds_remaining\"] in row[\"intervals\"]"
   ]
  },
  {
   "cell_type": "code",
   "execution_count": 11,
   "id": "30af3cd2",
   "metadata": {},
   "outputs": [],
   "source": [
    "plays19 = merged19[merged19.apply(lambda x: x[\"game_seconds_remaining\"] in x[\"intervals\"],axis=1)]"
   ]
  },
  {
   "cell_type": "code",
   "execution_count": 12,
   "id": "c665f846",
   "metadata": {},
   "outputs": [],
   "source": [
    "touches = plays19[plays19[\"touchdown\"] == 1].groupby(\"intervals\")['touchdown'].sum()"
   ]
  },
  {
   "cell_type": "code",
   "execution_count": 13,
   "id": "2a67f688",
   "metadata": {},
   "outputs": [],
   "source": [
    "mi_index = touches[touches == 1].index"
   ]
  },
  {
   "cell_type": "code",
   "execution_count": 14,
   "id": "63a1e57b",
   "metadata": {},
   "outputs": [],
   "source": [
    "plays19 = plays19[(plays19[\"touchdown\"] == 1) & (plays19[\"intervals\"].isin(mi_index))]"
   ]
  },
  {
   "cell_type": "code",
   "execution_count": 15,
   "id": "c33ce192",
   "metadata": {},
   "outputs": [],
   "source": [
    "X = plays19[relevant_cols.to_list()+[\"transcript\"]]"
   ]
  },
  {
   "cell_type": "code",
   "execution_count": 16,
   "id": "ddd21e6d",
   "metadata": {},
   "outputs": [],
   "source": [
    "# transcript_grouped = X.groupby(\"transcript\").groups\n",
    "# transcript_groups = list(transcript_grouped.keys())"
   ]
  },
  {
   "cell_type": "code",
   "execution_count": 21,
   "id": "8a5fcca5",
   "metadata": {
    "scrolled": true
   },
   "outputs": [],
   "source": [
    "ret_list = []\n",
    "for i in range(X.shape[0]):\n",
    "    ret_list += [{\"json\":X[relevant_cols].iloc[i].replace(0,np.nan).dropna().to_json(),\n",
    "                  \"transcript\":X[\"transcript\"].iloc[i]}]"
   ]
  },
  {
   "cell_type": "code",
   "execution_count": 22,
   "id": "f865db9c",
   "metadata": {},
   "outputs": [],
   "source": [
    "# ret_list = []\n",
    "# for i in range(len(transcript_groups)):\n",
    "#     transcript_group = X.loc[transcript_grouped[transcript_groups[i]]]\n",
    "#     ret_list += [{\"json\":transcript_group.loc[transcript_group[\"touchdown\"]==1,relevant_cols].replace(0,np.nan).dropna(axis=1).iloc[0].to_json(),\n",
    "#                   \"transcript\":transcript_group[\"transcript\"].iloc[0]}]"
   ]
  },
  {
   "cell_type": "code",
   "execution_count": 23,
   "id": "b3d58e39",
   "metadata": {
    "scrolled": true
   },
   "outputs": [
    {
     "data": {
      "text/plain": [
       "'first and 10 25 yard line off the fake to goldman! Jones pass is caught by Evan Engram still going! Down the sideline! Evan Edward will take this all the way! What a great read by Daniel Jones! More importantly, what a great read by Evan Engram!'"
      ]
     },
     "execution_count": 23,
     "metadata": {},
     "output_type": "execute_result"
    }
   ],
   "source": [
    "ret_list[4][\"transcript\"]"
   ]
  },
  {
   "cell_type": "code",
   "execution_count": 43,
   "id": "d1d66613",
   "metadata": {
    "scrolled": true
   },
   "outputs": [
    {
     "data": {
      "text/plain": [
       "25    {'json': '{\"home_team\":\"SF\",\"away_team\":\"SEA\",...\n",
       "21    {'json': '{\"home_team\":\"TEN\",\"away_team\":\"LAC\"...\n",
       "3     {'json': '{\"home_team\":\"TB\",\"away_team\":\"NYG\",...\n",
       "2     {'json': '{\"home_team\":\"TB\",\"away_team\":\"NYG\",...\n",
       "dtype: object"
      ]
     },
     "execution_count": 43,
     "metadata": {},
     "output_type": "execute_result"
    }
   ],
   "source": [
    "my_sample = pd.Series(ret_list).sample(4)\n",
    "my_sample"
   ]
  },
  {
   "cell_type": "code",
   "execution_count": 32,
   "id": "624b2e9b",
   "metadata": {},
   "outputs": [
    {
     "data": {
      "text/plain": [
       "\"play action off of this on second and seven and they get to him and they do so by bringing Williams and then the ball comes out! And picking it up is bucker! And we've got a San Francisco touchdown! Deforest Buckner! great football awareness!\""
      ]
     },
     "execution_count": 32,
     "metadata": {},
     "output_type": "execute_result"
    }
   ],
   "source": [
    "plays19[plays19[\"fumble_recovery_1_player_name\"] == \"G.Ifedi\"][\"transcript\"].iloc[0]"
   ]
  },
  {
   "cell_type": "code",
   "execution_count": 47,
   "id": "824bcb33",
   "metadata": {},
   "outputs": [
    {
     "data": {
      "text/plain": [
       "{'json': '{\"home_team\":\"TB\",\"away_team\":\"NYG\",\"posteam\":\"NYG\",\"posteam_type\":\"away\",\"defteam\":\"TB\",\"side_of_field\":\"TB\",\"yardline_100\":7.0,\"quarter_seconds_remaining\":606.0,\"half_seconds_remaining\":606.0,\"game_seconds_remaining\":2406.0,\"game_half\":\"Half1\",\"drive\":4,\"sp\":1,\"qtr\":2,\"down\":2.0,\"goal_to_go\":1.0,\"time\":\"10:06\",\"yrdln\":\"TB 7\",\"ydstogo\":7,\"ydsnet\":75,\"play_type\":\"run\",\"yards_gained\":7,\"shotgun\":1,\"run_location\":\"right\",\"run_gap\":\"end\",\"away_timeouts_remaining\":3,\"td_team\":\"NYG\",\"posteam_timeouts_remaining\":3.0,\"defteam_timeouts_remaining\":3.0,\"total_home_score\":12,\"total_away_score\":9,\"posteam_score\":3.0,\"defteam_score\":12.0,\"score_differential\":-9.0,\"posteam_score_post\":9.0,\"defteam_score_post\":12.0,\"score_differential_post\":-3.0,\"first_down_rush\":1.0,\"rush_attempt\":1.0,\"touchdown\":1.0,\"rush_touchdown\":1.0,\"rusher_player_id\":\"00-0035710\",\"rusher_player_name\":\"D.Jones\"}',\n",
       " 'transcript': 'the second and goal this is Jones. in side the 5, to the end zone! Touchdown! He knew that was coming eventually.'}"
      ]
     },
     "execution_count": 47,
     "metadata": {},
     "output_type": "execute_result"
    }
   ],
   "source": [
    "my_sample.iloc[3]"
   ]
  },
  {
   "cell_type": "code",
   "execution_count": 129,
   "id": "d56a974b",
   "metadata": {},
   "outputs": [
    {
     "data": {
      "text/plain": [
       "{'json': '{\"home_team\":\"BAL\",\"away_team\":\"CLE\",\"posteam\":\"CLE\",\"posteam_type\":\"away\",\"defteam\":\"BAL\",\"side_of_field\":\"BAL\",\"yardline_100\":2.0,\"quarter_seconds_remaining\":58.0,\"half_seconds_remaining\":958.0,\"game_seconds_remaining\":958.0,\"game_half\":\"Half2\",\"drive\":14,\"sp\":1,\"qtr\":3,\"down\":1.0,\"goal_to_go\":1.0,\"time\":\"00:58\",\"yrdln\":\"BAL 02\",\"ydstogo\":2,\"ydsnet\":74,\"play_type\":\"run\",\"yards_gained\":2,\"run_location\":\"left\",\"run_gap\":\"tackle\",\"away_timeouts_remaining\":3,\"td_team\":\"CLE\",\"posteam_timeouts_remaining\":3.0,\"defteam_timeouts_remaining\":3.0,\"total_home_score\":10,\"total_away_score\":23,\"posteam_score\":17.0,\"defteam_score\":10.0,\"score_differential\":7.0,\"posteam_score_post\":23.0,\"defteam_score_post\":10.0,\"score_differential_post\":13.0,\"first_down_rush\":1.0,\"rush_attempt\":1.0,\"touchdown\":1.0,\"rush_touchdown\":1.0,\"rusher_player_id\":\"00-0034791\",\"rusher_player_name\":\"N.Chubb\"}',\n",
       " 'transcript': 'Nick Chubb trying ot find the endzone and he does! Touchdown Cleveland.'}"
      ]
     },
     "execution_count": 129,
     "metadata": {},
     "output_type": "execute_result"
    }
   ],
   "source": [
    "pd.Series(ret_list).sample(1,random_state=57).iloc[0]"
   ]
  },
  {
   "cell_type": "code",
   "execution_count": null,
   "id": "0aa2a1f1",
   "metadata": {},
   "outputs": [],
   "source": []
  }
 ],
 "metadata": {
  "kernelspec": {
   "display_name": "Python 3 (ipykernel)",
   "language": "python",
   "name": "python3"
  },
  "language_info": {
   "codemirror_mode": {
    "name": "ipython",
    "version": 3
   },
   "file_extension": ".py",
   "mimetype": "text/x-python",
   "name": "python",
   "nbconvert_exporter": "python",
   "pygments_lexer": "ipython3",
   "version": "3.9.13"
  }
 },
 "nbformat": 4,
 "nbformat_minor": 5
}
