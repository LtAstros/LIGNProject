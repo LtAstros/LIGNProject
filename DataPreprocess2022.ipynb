{
 "cells": [
  {
   "cell_type": "code",
   "execution_count": 1,
   "id": "df71510c",
   "metadata": {},
   "outputs": [],
   "source": [
    "import pandas as pd\n",
    "import re\n",
    "import datetime\n",
    "import numpy as np\n",
    "from gpt3 import try_gpt"
   ]
  },
  {
   "cell_type": "markdown",
   "id": "a0f964cc",
   "metadata": {},
   "source": [
    "# 2022 Data Preprocess"
   ]
  },
  {
   "cell_type": "code",
   "execution_count": 2,
   "id": "b5b18a01",
   "metadata": {},
   "outputs": [],
   "source": [
    "RELEVANT_COLUMNS = ['home_team', 'away_team', 'posteam', 'posteam_type', 'defteam', 'side_of_field', 'yardline_100', 'quarter_seconds_remaining', 'half_seconds_remaining', 'game_seconds_remaining', 'game_half', 'quarter_end', 'drive', 'sp', 'qtr', 'down', 'goal_to_go', 'time', 'yrdln', 'ydstogo', 'ydsnet', 'play_type', 'yards_gained', 'shotgun', 'no_huddle', 'qb_dropback', 'qb_kneel', 'qb_spike', 'qb_scramble', 'pass_length', 'pass_location', 'air_yards', 'yards_after_catch', 'run_location', 'run_gap', 'field_goal_result', 'kick_distance', 'extra_point_result', 'two_point_conv_result', 'away_timeouts_remaining', 'td_team', 'posteam_timeouts_remaining', 'defteam_timeouts_remaining', 'total_home_score', 'total_away_score', 'posteam_score', 'defteam_score', 'score_differential', 'posteam_score_post', 'defteam_score_post', 'score_differential_post', 'punt_blocked', 'first_down_rush', 'first_down_pass', 'first_down_penalty', 'third_down_converted', 'third_down_failed', 'fourth_down_converted', 'fourth_down_failed', 'incomplete_pass', 'touchback', 'interception', 'punt_inside_twenty', 'punt_in_endzone', 'punt_out_of_bounds', 'punt_downed', 'punt_fair_catch', 'kickoff_inside_twenty', 'kickoff_in_endzone', 'kickoff_out_of_bounds', 'kickoff_downed', 'kickoff_fair_catch', 'fumble_forced', 'fumble_not_forced', 'fumble_out_of_bounds', 'solo_tackle', 'safety', 'penalty', 'tackled_for_loss', 'fumble_lost', 'own_kickoff_recovery', 'own_kickoff_recovery_td', 'qb_hit', 'rush_attempt', 'pass_attempt', 'sack', 'touchdown', 'pass_touchdown', 'rush_touchdown', 'return_touchdown', 'extra_point_attempt', 'two_point_attempt', 'field_goal_attempt', 'kickoff_attempt', 'punt_attempt', 'fumble', 'complete_pass', 'assist_tackle', 'lateral_reception', 'lateral_rush', 'lateral_return', 'lateral_recovery', 'passer_player_id', 'passer_player_name', 'receiver_player_id', 'receiver_player_name', 'rusher_player_id', 'rusher_player_name', 'lateral_receiver_player_id', 'lateral_receiver_player_name', 'lateral_rusher_player_id', 'lateral_rusher_player_name', 'lateral_sack_player_id', 'lateral_sack_player_name', 'interception_player_id', 'interception_player_name', 'lateral_interception_player_id', 'lateral_interception_player_name', 'punt_returner_player_id', 'punt_returner_player_name', 'lateral_punt_returner_player_id', 'lateral_punt_returner_player_name', 'kickoff_returner_player_name', 'kickoff_returner_player_id', 'lateral_kickoff_returner_player_id', 'lateral_kickoff_returner_player_name', 'punter_player_id', 'punter_player_name', 'kicker_player_name', 'kicker_player_id', 'own_kickoff_recovery_player_id', 'own_kickoff_recovery_player_name', 'blocked_player_id', 'blocked_player_name', 'tackle_for_loss_1_player_id', 'tackle_for_loss_1_player_name', 'tackle_for_loss_2_player_id', 'tackle_for_loss_2_player_name', 'qb_hit_1_player_id', 'qb_hit_1_player_name', 'qb_hit_2_player_id', 'qb_hit_2_player_name', 'forced_fumble_player_1_team', 'forced_fumble_player_1_player_id', 'forced_fumble_player_1_player_name', 'forced_fumble_player_2_team', 'forced_fumble_player_2_player_id', 'forced_fumble_player_2_player_name', 'solo_tackle_1_team', 'solo_tackle_2_team', 'solo_tackle_1_player_id', 'solo_tackle_2_player_id', 'solo_tackle_1_player_name', 'solo_tackle_2_player_name', 'assist_tackle_1_player_id', 'assist_tackle_1_player_name', 'assist_tackle_1_team', 'assist_tackle_2_player_id', 'assist_tackle_2_player_name', 'assist_tackle_2_team', 'assist_tackle_3_player_id', 'assist_tackle_3_player_name', 'assist_tackle_3_team', 'assist_tackle_4_player_id', 'assist_tackle_4_player_name', 'assist_tackle_4_team', 'pass_defense_1_player_id', 'pass_defense_1_player_name', 'pass_defense_2_player_id', 'pass_defense_2_player_name', 'fumbled_1_team', 'fumbled_1_player_id', 'fumbled_1_player_name', 'fumbled_2_player_id', 'fumbled_2_player_name', 'fumbled_2_team', 'fumble_recovery_1_team', 'fumble_recovery_1_yards', 'fumble_recovery_1_player_id', 'fumble_recovery_1_player_name', 'fumble_recovery_2_team', 'fumble_recovery_2_yards', 'fumble_recovery_2_player_id', 'fumble_recovery_2_player_name', 'return_team', 'return_yards', 'penalty_team', 'penalty_player_id', 'penalty_player_name', 'penalty_yards', 'replay_or_challenge', 'replay_or_challenge_result', 'penalty_type', 'defensive_two_point_attempt', 'defensive_two_point_conv', 'defensive_extra_point_attempt', 'defensive_extra_point_conv']"
   ]
  },
  {
   "cell_type": "code",
   "execution_count": 3,
   "id": "6f93a20e",
   "metadata": {
    "scrolled": true
   },
   "outputs": [
    {
     "name": "stderr",
     "output_type": "stream",
     "text": [
      "C:\\Users\\costi\\AppData\\Local\\Temp\\ipykernel_22128\\813836328.py:1: DtypeWarning: Columns (179,180,182,183,189,190,193,194,197,198,203,204,205,206,218,219,220,243,244,245,253,254,255,260,262,263,283,284,301) have mixed types. Specify dtype option on import or set low_memory=False.\n",
      "  pbp_data_22 = pd.read_csv(\"./pbp_data/regular_season/reg_pbp_2022.csv\")\n"
     ]
    }
   ],
   "source": [
    "pbp_data_22 = pd.read_csv(\"./pbp_data/regular_season/reg_pbp_2022.csv\")"
   ]
  },
  {
   "cell_type": "code",
   "execution_count": 4,
   "id": "f0bc71b7",
   "metadata": {},
   "outputs": [],
   "source": [
    "highlights22 = pd.read_csv(\"./transcripts_2022.csv\")\n",
    "highlights22 = highlights22[~highlights22[\"interval\"].isna()]"
   ]
  },
  {
   "cell_type": "code",
   "execution_count": 5,
   "id": "79f8da40",
   "metadata": {},
   "outputs": [],
   "source": [
    "def process_inning_time(time_str):\n",
    "    quarter = time_str[0]\n",
    "    if quarter == \"O\":\n",
    "        time_remaining = 0\n",
    "    else:\n",
    "        time_remaining = (4 - int(quarter)) * 900\n",
    "    times = re.findall(\"\\d?\\d:\\d\\d\",time_str)\n",
    "    timedeltas = pd.to_timedelta(pd.to_datetime(times,format='%M:%S').strftime('%H:%M:%S').values)\n",
    "    timelists = (timedeltas + datetime.timedelta(seconds=time_remaining)).seconds\n",
    "    return pd.Interval(timelists[1],timelists[0],closed=\"both\")"
   ]
  },
  {
   "cell_type": "code",
   "execution_count": 6,
   "id": "3406f2e9",
   "metadata": {
    "scrolled": true
   },
   "outputs": [],
   "source": [
    "highlights22[\"intervals\"] = highlights22[\"interval\"].apply(process_inning_time)\n",
    "highlights22[\"date\"] = pd.to_datetime(highlights22[\"date\"])\n",
    "pbp_data_22[\"game_date\"] = pd.to_datetime(pbp_data_22[\"game_date\"])"
   ]
  },
  {
   "cell_type": "code",
   "execution_count": 7,
   "id": "2f76cc71",
   "metadata": {},
   "outputs": [],
   "source": [
    "merged22 = pbp_data_22.merge(highlights22,left_on=[\"home_team\",\"away_team\",\"game_date\"], right_on=[\"home\",\"away\",\"date\"])"
   ]
  },
  {
   "cell_type": "code",
   "execution_count": 8,
   "id": "1a807935",
   "metadata": {},
   "outputs": [],
   "source": [
    "def in_interval(row):\n",
    "    return row[\"game_seconds_remaining\"] in row[\"intervals\"]"
   ]
  },
  {
   "cell_type": "code",
   "execution_count": 9,
   "id": "30af3cd2",
   "metadata": {},
   "outputs": [],
   "source": [
    "plays22 = merged22[merged22.apply(lambda x: x[\"game_seconds_remaining\"] in x[\"intervals\"],axis=1)]"
   ]
  },
  {
   "cell_type": "code",
   "execution_count": 10,
   "id": "c665f846",
   "metadata": {},
   "outputs": [],
   "source": [
    "touches = plays22[plays22[\"touchdown\"] == 1].groupby(\"intervals\")['touchdown'].sum()"
   ]
  },
  {
   "cell_type": "code",
   "execution_count": 11,
   "id": "2a67f688",
   "metadata": {},
   "outputs": [],
   "source": [
    "touchdown_index = touches[touches == 1].index"
   ]
  },
  {
   "cell_type": "code",
   "execution_count": 12,
   "id": "63a1e57b",
   "metadata": {},
   "outputs": [],
   "source": [
    "plays22 = plays22[(plays22[\"touchdown\"] == 1) & (plays22[\"intervals\"].isin(touchdown_index))]"
   ]
  },
  {
   "cell_type": "code",
   "execution_count": 13,
   "id": "c33ce192",
   "metadata": {},
   "outputs": [],
   "source": [
    "X = plays22[RELEVANT_COLUMNS+[\"transcript\"]]"
   ]
  },
  {
   "cell_type": "code",
   "execution_count": 14,
   "id": "e13773bc",
   "metadata": {},
   "outputs": [
    {
     "data": {
      "text/plain": [
       "(31, 198)"
      ]
     },
     "execution_count": 14,
     "metadata": {},
     "output_type": "execute_result"
    }
   ],
   "source": [
    "X.shape"
   ]
  },
  {
   "cell_type": "code",
   "execution_count": 15,
   "id": "8a5fcca5",
   "metadata": {
    "scrolled": true
   },
   "outputs": [],
   "source": [
    "ret_list = []\n",
    "for i in range(X.shape[0]):\n",
    "    ret_list += [{\"json\":X[RELEVANT_COLUMNS].iloc[i].replace(0,np.nan).dropna().to_json(),\n",
    "                  \"transcript\":X[\"transcript\"].iloc[i]}]"
   ]
  },
  {
   "cell_type": "code",
   "execution_count": 21,
   "id": "9b3f8b6e",
   "metadata": {},
   "outputs": [],
   "source": [
    "gpt22 = pd.DataFrame(ret_list)"
   ]
  },
  {
   "cell_type": "code",
   "execution_count": 24,
   "id": "0e099650",
   "metadata": {},
   "outputs": [
    {
     "ename": "RateLimitError",
     "evalue": "Rate limit reached for default-text-davinci-002 in organization org-ZsQyOjrRy2ooz56rLLjBHdxy on requests per min. Limit: 60.000000 / min. Current: 70.000000 / min. Contact support@openai.com if you continue to have issues. Please add a payment method to your account to increase your rate limit. Visit https://beta.openai.com/account/billing to add a payment method.",
     "output_type": "error",
     "traceback": [
      "\u001b[1;31m---------------------------------------------------------------------------\u001b[0m",
      "\u001b[1;31mRateLimitError\u001b[0m                            Traceback (most recent call last)",
      "\u001b[1;32m~\\AppData\\Local\\Temp\\ipykernel_22128\\2488923444.py\u001b[0m in \u001b[0;36m<module>\u001b[1;34m\u001b[0m\n\u001b[1;32m----> 1\u001b[1;33m \u001b[0mgpt22\u001b[0m\u001b[1;33m[\u001b[0m\u001b[1;34m\"commentary\"\u001b[0m\u001b[1;33m]\u001b[0m \u001b[1;33m=\u001b[0m \u001b[0mgpt22\u001b[0m\u001b[1;33m[\u001b[0m\u001b[1;34m\"json\"\u001b[0m\u001b[1;33m]\u001b[0m\u001b[1;33m.\u001b[0m\u001b[0mapply\u001b[0m\u001b[1;33m(\u001b[0m\u001b[0mtry_gpt\u001b[0m\u001b[1;33m)\u001b[0m\u001b[1;33m\u001b[0m\u001b[1;33m\u001b[0m\u001b[0m\n\u001b[0m",
      "\u001b[1;32mC:\\ProgramData\\Anaconda3\\lib\\site-packages\\pandas\\core\\series.py\u001b[0m in \u001b[0;36mapply\u001b[1;34m(self, func, convert_dtype, args, **kwargs)\u001b[0m\n\u001b[0;32m   4431\u001b[0m         \u001b[0mdtype\u001b[0m\u001b[1;33m:\u001b[0m \u001b[0mfloat64\u001b[0m\u001b[1;33m\u001b[0m\u001b[1;33m\u001b[0m\u001b[0m\n\u001b[0;32m   4432\u001b[0m         \"\"\"\n\u001b[1;32m-> 4433\u001b[1;33m         \u001b[1;32mreturn\u001b[0m \u001b[0mSeriesApply\u001b[0m\u001b[1;33m(\u001b[0m\u001b[0mself\u001b[0m\u001b[1;33m,\u001b[0m \u001b[0mfunc\u001b[0m\u001b[1;33m,\u001b[0m \u001b[0mconvert_dtype\u001b[0m\u001b[1;33m,\u001b[0m \u001b[0margs\u001b[0m\u001b[1;33m,\u001b[0m \u001b[0mkwargs\u001b[0m\u001b[1;33m)\u001b[0m\u001b[1;33m.\u001b[0m\u001b[0mapply\u001b[0m\u001b[1;33m(\u001b[0m\u001b[1;33m)\u001b[0m\u001b[1;33m\u001b[0m\u001b[1;33m\u001b[0m\u001b[0m\n\u001b[0m\u001b[0;32m   4434\u001b[0m \u001b[1;33m\u001b[0m\u001b[0m\n\u001b[0;32m   4435\u001b[0m     def _reduce(\n",
      "\u001b[1;32mC:\\ProgramData\\Anaconda3\\lib\\site-packages\\pandas\\core\\apply.py\u001b[0m in \u001b[0;36mapply\u001b[1;34m(self)\u001b[0m\n\u001b[0;32m   1086\u001b[0m             \u001b[1;32mreturn\u001b[0m \u001b[0mself\u001b[0m\u001b[1;33m.\u001b[0m\u001b[0mapply_str\u001b[0m\u001b[1;33m(\u001b[0m\u001b[1;33m)\u001b[0m\u001b[1;33m\u001b[0m\u001b[1;33m\u001b[0m\u001b[0m\n\u001b[0;32m   1087\u001b[0m \u001b[1;33m\u001b[0m\u001b[0m\n\u001b[1;32m-> 1088\u001b[1;33m         \u001b[1;32mreturn\u001b[0m \u001b[0mself\u001b[0m\u001b[1;33m.\u001b[0m\u001b[0mapply_standard\u001b[0m\u001b[1;33m(\u001b[0m\u001b[1;33m)\u001b[0m\u001b[1;33m\u001b[0m\u001b[1;33m\u001b[0m\u001b[0m\n\u001b[0m\u001b[0;32m   1089\u001b[0m \u001b[1;33m\u001b[0m\u001b[0m\n\u001b[0;32m   1090\u001b[0m     \u001b[1;32mdef\u001b[0m \u001b[0magg\u001b[0m\u001b[1;33m(\u001b[0m\u001b[0mself\u001b[0m\u001b[1;33m)\u001b[0m\u001b[1;33m:\u001b[0m\u001b[1;33m\u001b[0m\u001b[1;33m\u001b[0m\u001b[0m\n",
      "\u001b[1;32mC:\\ProgramData\\Anaconda3\\lib\\site-packages\\pandas\\core\\apply.py\u001b[0m in \u001b[0;36mapply_standard\u001b[1;34m(self)\u001b[0m\n\u001b[0;32m   1141\u001b[0m                 \u001b[1;31m# List[Union[Callable[..., Any], str]]]]]\"; expected\u001b[0m\u001b[1;33m\u001b[0m\u001b[1;33m\u001b[0m\u001b[0m\n\u001b[0;32m   1142\u001b[0m                 \u001b[1;31m# \"Callable[[Any], Any]\"\u001b[0m\u001b[1;33m\u001b[0m\u001b[1;33m\u001b[0m\u001b[0m\n\u001b[1;32m-> 1143\u001b[1;33m                 mapped = lib.map_infer(\n\u001b[0m\u001b[0;32m   1144\u001b[0m                     \u001b[0mvalues\u001b[0m\u001b[1;33m,\u001b[0m\u001b[1;33m\u001b[0m\u001b[1;33m\u001b[0m\u001b[0m\n\u001b[0;32m   1145\u001b[0m                     \u001b[0mf\u001b[0m\u001b[1;33m,\u001b[0m  \u001b[1;31m# type: ignore[arg-type]\u001b[0m\u001b[1;33m\u001b[0m\u001b[1;33m\u001b[0m\u001b[0m\n",
      "\u001b[1;32mC:\\ProgramData\\Anaconda3\\lib\\site-packages\\pandas\\_libs\\lib.pyx\u001b[0m in \u001b[0;36mpandas._libs.lib.map_infer\u001b[1;34m()\u001b[0m\n",
      "\u001b[1;32m~\\Code\\LIGNProject\\gpt3.py\u001b[0m in \u001b[0;36mtry_gpt\u001b[1;34m(json)\u001b[0m\n\u001b[0;32m     14\u001b[0m     \u001b[1;31m# Complete the prompt with user question and call OpenAI\u001b[0m\u001b[1;33m\u001b[0m\u001b[1;33m\u001b[0m\u001b[0m\n\u001b[0;32m     15\u001b[0m     \u001b[0mprompt\u001b[0m \u001b[1;33m=\u001b[0m \u001b[1;34mf'{prompt_text} {json}\\Commentary:\\n```'\u001b[0m\u001b[1;33m\u001b[0m\u001b[1;33m\u001b[0m\u001b[0m\n\u001b[1;32m---> 16\u001b[1;33m     response = openai.Completion.create(model=\"text-davinci-002\",\n\u001b[0m\u001b[0;32m     17\u001b[0m                                         \u001b[0mprompt\u001b[0m\u001b[1;33m=\u001b[0m\u001b[0mprompt\u001b[0m\u001b[1;33m,\u001b[0m\u001b[1;33m\u001b[0m\u001b[1;33m\u001b[0m\u001b[0m\n\u001b[0;32m     18\u001b[0m                                         \u001b[0mtemperature\u001b[0m\u001b[1;33m=\u001b[0m\u001b[1;36m0.75\u001b[0m\u001b[1;33m,\u001b[0m\u001b[1;33m\u001b[0m\u001b[1;33m\u001b[0m\u001b[0m\n",
      "\u001b[1;32mC:\\ProgramData\\Anaconda3\\lib\\site-packages\\openai\\api_resources\\completion.py\u001b[0m in \u001b[0;36mcreate\u001b[1;34m(cls, *args, **kwargs)\u001b[0m\n\u001b[0;32m     23\u001b[0m         \u001b[1;32mwhile\u001b[0m \u001b[1;32mTrue\u001b[0m\u001b[1;33m:\u001b[0m\u001b[1;33m\u001b[0m\u001b[1;33m\u001b[0m\u001b[0m\n\u001b[0;32m     24\u001b[0m             \u001b[1;32mtry\u001b[0m\u001b[1;33m:\u001b[0m\u001b[1;33m\u001b[0m\u001b[1;33m\u001b[0m\u001b[0m\n\u001b[1;32m---> 25\u001b[1;33m                 \u001b[1;32mreturn\u001b[0m \u001b[0msuper\u001b[0m\u001b[1;33m(\u001b[0m\u001b[1;33m)\u001b[0m\u001b[1;33m.\u001b[0m\u001b[0mcreate\u001b[0m\u001b[1;33m(\u001b[0m\u001b[1;33m*\u001b[0m\u001b[0margs\u001b[0m\u001b[1;33m,\u001b[0m \u001b[1;33m**\u001b[0m\u001b[0mkwargs\u001b[0m\u001b[1;33m)\u001b[0m\u001b[1;33m\u001b[0m\u001b[1;33m\u001b[0m\u001b[0m\n\u001b[0m\u001b[0;32m     26\u001b[0m             \u001b[1;32mexcept\u001b[0m \u001b[0mTryAgain\u001b[0m \u001b[1;32mas\u001b[0m \u001b[0me\u001b[0m\u001b[1;33m:\u001b[0m\u001b[1;33m\u001b[0m\u001b[1;33m\u001b[0m\u001b[0m\n\u001b[0;32m     27\u001b[0m                 \u001b[1;32mif\u001b[0m \u001b[0mtimeout\u001b[0m \u001b[1;32mis\u001b[0m \u001b[1;32mnot\u001b[0m \u001b[1;32mNone\u001b[0m \u001b[1;32mand\u001b[0m \u001b[0mtime\u001b[0m\u001b[1;33m.\u001b[0m\u001b[0mtime\u001b[0m\u001b[1;33m(\u001b[0m\u001b[1;33m)\u001b[0m \u001b[1;33m>\u001b[0m \u001b[0mstart\u001b[0m \u001b[1;33m+\u001b[0m \u001b[0mtimeout\u001b[0m\u001b[1;33m:\u001b[0m\u001b[1;33m\u001b[0m\u001b[1;33m\u001b[0m\u001b[0m\n",
      "\u001b[1;32mC:\\ProgramData\\Anaconda3\\lib\\site-packages\\openai\\api_resources\\abstract\\engine_api_resource.py\u001b[0m in \u001b[0;36mcreate\u001b[1;34m(cls, api_key, api_base, api_type, request_id, api_version, organization, **params)\u001b[0m\n\u001b[0;32m    113\u001b[0m         )\n\u001b[0;32m    114\u001b[0m         \u001b[0murl\u001b[0m \u001b[1;33m=\u001b[0m \u001b[0mcls\u001b[0m\u001b[1;33m.\u001b[0m\u001b[0mclass_url\u001b[0m\u001b[1;33m(\u001b[0m\u001b[0mengine\u001b[0m\u001b[1;33m,\u001b[0m \u001b[0mapi_type\u001b[0m\u001b[1;33m,\u001b[0m \u001b[0mapi_version\u001b[0m\u001b[1;33m)\u001b[0m\u001b[1;33m\u001b[0m\u001b[1;33m\u001b[0m\u001b[0m\n\u001b[1;32m--> 115\u001b[1;33m         response, _, api_key = requestor.request(\n\u001b[0m\u001b[0;32m    116\u001b[0m             \u001b[1;34m\"post\"\u001b[0m\u001b[1;33m,\u001b[0m\u001b[1;33m\u001b[0m\u001b[1;33m\u001b[0m\u001b[0m\n\u001b[0;32m    117\u001b[0m             \u001b[0murl\u001b[0m\u001b[1;33m,\u001b[0m\u001b[1;33m\u001b[0m\u001b[1;33m\u001b[0m\u001b[0m\n",
      "\u001b[1;32mC:\\ProgramData\\Anaconda3\\lib\\site-packages\\openai\\api_requestor.py\u001b[0m in \u001b[0;36mrequest\u001b[1;34m(self, method, url, params, headers, files, stream, request_id, request_timeout)\u001b[0m\n\u001b[0;32m    179\u001b[0m             \u001b[0mrequest_timeout\u001b[0m\u001b[1;33m=\u001b[0m\u001b[0mrequest_timeout\u001b[0m\u001b[1;33m,\u001b[0m\u001b[1;33m\u001b[0m\u001b[1;33m\u001b[0m\u001b[0m\n\u001b[0;32m    180\u001b[0m         )\n\u001b[1;32m--> 181\u001b[1;33m         \u001b[0mresp\u001b[0m\u001b[1;33m,\u001b[0m \u001b[0mgot_stream\u001b[0m \u001b[1;33m=\u001b[0m \u001b[0mself\u001b[0m\u001b[1;33m.\u001b[0m\u001b[0m_interpret_response\u001b[0m\u001b[1;33m(\u001b[0m\u001b[0mresult\u001b[0m\u001b[1;33m,\u001b[0m \u001b[0mstream\u001b[0m\u001b[1;33m)\u001b[0m\u001b[1;33m\u001b[0m\u001b[1;33m\u001b[0m\u001b[0m\n\u001b[0m\u001b[0;32m    182\u001b[0m         \u001b[1;32mreturn\u001b[0m \u001b[0mresp\u001b[0m\u001b[1;33m,\u001b[0m \u001b[0mgot_stream\u001b[0m\u001b[1;33m,\u001b[0m \u001b[0mself\u001b[0m\u001b[1;33m.\u001b[0m\u001b[0mapi_key\u001b[0m\u001b[1;33m\u001b[0m\u001b[1;33m\u001b[0m\u001b[0m\n\u001b[0;32m    183\u001b[0m \u001b[1;33m\u001b[0m\u001b[0m\n",
      "\u001b[1;32mC:\\ProgramData\\Anaconda3\\lib\\site-packages\\openai\\api_requestor.py\u001b[0m in \u001b[0;36m_interpret_response\u001b[1;34m(self, result, stream)\u001b[0m\n\u001b[0;32m    394\u001b[0m         \u001b[1;32melse\u001b[0m\u001b[1;33m:\u001b[0m\u001b[1;33m\u001b[0m\u001b[1;33m\u001b[0m\u001b[0m\n\u001b[0;32m    395\u001b[0m             return (\n\u001b[1;32m--> 396\u001b[1;33m                 self._interpret_response_line(\n\u001b[0m\u001b[0;32m    397\u001b[0m                     \u001b[0mresult\u001b[0m\u001b[1;33m.\u001b[0m\u001b[0mcontent\u001b[0m\u001b[1;33m,\u001b[0m \u001b[0mresult\u001b[0m\u001b[1;33m.\u001b[0m\u001b[0mstatus_code\u001b[0m\u001b[1;33m,\u001b[0m \u001b[0mresult\u001b[0m\u001b[1;33m.\u001b[0m\u001b[0mheaders\u001b[0m\u001b[1;33m,\u001b[0m \u001b[0mstream\u001b[0m\u001b[1;33m=\u001b[0m\u001b[1;32mFalse\u001b[0m\u001b[1;33m\u001b[0m\u001b[1;33m\u001b[0m\u001b[0m\n\u001b[0;32m    398\u001b[0m                 ),\n",
      "\u001b[1;32mC:\\ProgramData\\Anaconda3\\lib\\site-packages\\openai\\api_requestor.py\u001b[0m in \u001b[0;36m_interpret_response_line\u001b[1;34m(self, rbody, rcode, rheaders, stream)\u001b[0m\n\u001b[0;32m    427\u001b[0m         \u001b[0mstream_error\u001b[0m \u001b[1;33m=\u001b[0m \u001b[0mstream\u001b[0m \u001b[1;32mand\u001b[0m \u001b[1;34m\"error\"\u001b[0m \u001b[1;32min\u001b[0m \u001b[0mresp\u001b[0m\u001b[1;33m.\u001b[0m\u001b[0mdata\u001b[0m\u001b[1;33m\u001b[0m\u001b[1;33m\u001b[0m\u001b[0m\n\u001b[0;32m    428\u001b[0m         \u001b[1;32mif\u001b[0m \u001b[0mstream_error\u001b[0m \u001b[1;32mor\u001b[0m \u001b[1;32mnot\u001b[0m \u001b[1;36m200\u001b[0m \u001b[1;33m<=\u001b[0m \u001b[0mrcode\u001b[0m \u001b[1;33m<\u001b[0m \u001b[1;36m300\u001b[0m\u001b[1;33m:\u001b[0m\u001b[1;33m\u001b[0m\u001b[1;33m\u001b[0m\u001b[0m\n\u001b[1;32m--> 429\u001b[1;33m             raise self.handle_error_response(\n\u001b[0m\u001b[0;32m    430\u001b[0m                 \u001b[0mrbody\u001b[0m\u001b[1;33m,\u001b[0m \u001b[0mrcode\u001b[0m\u001b[1;33m,\u001b[0m \u001b[0mresp\u001b[0m\u001b[1;33m.\u001b[0m\u001b[0mdata\u001b[0m\u001b[1;33m,\u001b[0m \u001b[0mrheaders\u001b[0m\u001b[1;33m,\u001b[0m \u001b[0mstream_error\u001b[0m\u001b[1;33m=\u001b[0m\u001b[0mstream_error\u001b[0m\u001b[1;33m\u001b[0m\u001b[1;33m\u001b[0m\u001b[0m\n\u001b[0;32m    431\u001b[0m             )\n",
      "\u001b[1;31mRateLimitError\u001b[0m: Rate limit reached for default-text-davinci-002 in organization org-ZsQyOjrRy2ooz56rLLjBHdxy on requests per min. Limit: 60.000000 / min. Current: 70.000000 / min. Contact support@openai.com if you continue to have issues. Please add a payment method to your account to increase your rate limit. Visit https://beta.openai.com/account/billing to add a payment method."
     ]
    }
   ],
   "source": [
    "gpt22[\"commentary\"] = gpt22[\"json\"].apply(try_gpt)"
   ]
  },
  {
   "cell_type": "code",
   "execution_count": 36,
   "id": "be6f775b",
   "metadata": {},
   "outputs": [],
   "source": [
    "group1 = gpt22[:10]\n",
    "group2 = gpt22[10:20]\n",
    "group3 = gpt22[20:]"
   ]
  },
  {
   "cell_type": "code",
   "execution_count": 40,
   "id": "50115f52",
   "metadata": {
    "scrolled": true
   },
   "outputs": [
    {
     "name": "stderr",
     "output_type": "stream",
     "text": [
      "C:\\Users\\costi\\AppData\\Local\\Temp\\ipykernel_22128\\2671908567.py:1: SettingWithCopyWarning: \n",
      "A value is trying to be set on a copy of a slice from a DataFrame.\n",
      "Try using .loc[row_indexer,col_indexer] = value instead\n",
      "\n",
      "See the caveats in the documentation: https://pandas.pydata.org/pandas-docs/stable/user_guide/indexing.html#returning-a-view-versus-a-copy\n",
      "  group1[\"commentary\"] = group1[\"json\"].apply(try_gpt)\n"
     ]
    },
    {
     "data": {
      "text/html": [
       "<div>\n",
       "<style scoped>\n",
       "    .dataframe tbody tr th:only-of-type {\n",
       "        vertical-align: middle;\n",
       "    }\n",
       "\n",
       "    .dataframe tbody tr th {\n",
       "        vertical-align: top;\n",
       "    }\n",
       "\n",
       "    .dataframe thead th {\n",
       "        text-align: right;\n",
       "    }\n",
       "</style>\n",
       "<table border=\"1\" class=\"dataframe\">\n",
       "  <thead>\n",
       "    <tr style=\"text-align: right;\">\n",
       "      <th></th>\n",
       "      <th>json</th>\n",
       "      <th>transcript</th>\n",
       "      <th>commentary</th>\n",
       "    </tr>\n",
       "  </thead>\n",
       "  <tbody>\n",
       "    <tr>\n",
       "      <th>0</th>\n",
       "      <td>{\"home_team\":\"HOU\",\"away_team\":\"CLE\",\"posteam\"...</td>\n",
       "      <td>What a punt here by Johnson. Peoples-jones. Go...</td>\n",
       "      <td>\\n\\nPunting away here on 4th and 2. Houston wi...</td>\n",
       "    </tr>\n",
       "    <tr>\n",
       "      <th>1</th>\n",
       "      <td>{\"home_team\":\"HOU\",\"away_team\":\"CLE\",\"posteam\"...</td>\n",
       "      <td>On 2nd and 10. Allen trying to catch some brea...</td>\n",
       "      <td>\\n\\nSecond and 10. Deshaun Watson drops back. ...</td>\n",
       "    </tr>\n",
       "    <tr>\n",
       "      <th>2</th>\n",
       "      <td>{\"home_team\":\"HOU\",\"away_team\":\"CLE\",\"posteam\"...</td>\n",
       "      <td>Browns fans hoping to get a little help. That ...</td>\n",
       "      <td>\\n\\nFirst and 10. Allen in the shotgun. He'll ...</td>\n",
       "    </tr>\n",
       "    <tr>\n",
       "      <th>3</th>\n",
       "      <td>{\"home_team\":\"CHI\",\"away_team\":\"GB\",\"posteam\":...</td>\n",
       "      <td>Fields, oh what a move to move past Nixon. And...</td>\n",
       "      <td>\\n\\nFields with the handoff. He'll take it aro...</td>\n",
       "    </tr>\n",
       "    <tr>\n",
       "      <th>4</th>\n",
       "      <td>{\"home_team\":\"CHI\",\"away_team\":\"GB\",\"posteam\":...</td>\n",
       "      <td>Hit to Montgomery. With a nice cut. And he pow...</td>\n",
       "      <td>\\n\\nMontgomery takes the handoff and he's look...</td>\n",
       "    </tr>\n",
       "    <tr>\n",
       "      <th>5</th>\n",
       "      <td>{\"home_team\":\"CHI\",\"away_team\":\"GB\",\"posteam\":...</td>\n",
       "      <td>He'll snap it on fourth down. Rodgers steps up...</td>\n",
       "      <td>\\n\\nFourth and four. Rodgers drops back. He's ...</td>\n",
       "    </tr>\n",
       "    <tr>\n",
       "      <th>6</th>\n",
       "      <td>{\"home_team\":\"DAL\",\"away_team\":\"IND\",\"posteam\"...</td>\n",
       "      <td>Here is Ryan, firing into the endzone. Open fo...</td>\n",
       "      <td>\\n\\nA.Dulin takes it in for the touchdown! Rya...</td>\n",
       "    </tr>\n",
       "    <tr>\n",
       "      <th>7</th>\n",
       "      <td>{\"home_team\":\"DAL\",\"away_team\":\"IND\",\"posteam\"...</td>\n",
       "      <td>And Dak will give it to Pollard who walks it in!</td>\n",
       "      <td>\\nPollard! He'll take it in for the touchdown!...</td>\n",
       "    </tr>\n",
       "    <tr>\n",
       "      <th>8</th>\n",
       "      <td>{\"home_team\":\"DAL\",\"away_team\":\"IND\",\"posteam\"...</td>\n",
       "      <td>And Prescott gets away from Kwity Paye, throws...</td>\n",
       "      <td>\\n\\nGallup with the catch! He's got the first ...</td>\n",
       "    </tr>\n",
       "    <tr>\n",
       "      <th>9</th>\n",
       "      <td>{\"home_team\":\"CIN\",\"away_team\":\"KC\",\"posteam\":...</td>\n",
       "      <td>Second and goal from the four, quarterback dra...</td>\n",
       "      <td>\\nBurrow. He'll hand it off to Mixon on the di...</td>\n",
       "    </tr>\n",
       "  </tbody>\n",
       "</table>\n",
       "</div>"
      ],
      "text/plain": [
       "                                                json  \\\n",
       "0  {\"home_team\":\"HOU\",\"away_team\":\"CLE\",\"posteam\"...   \n",
       "1  {\"home_team\":\"HOU\",\"away_team\":\"CLE\",\"posteam\"...   \n",
       "2  {\"home_team\":\"HOU\",\"away_team\":\"CLE\",\"posteam\"...   \n",
       "3  {\"home_team\":\"CHI\",\"away_team\":\"GB\",\"posteam\":...   \n",
       "4  {\"home_team\":\"CHI\",\"away_team\":\"GB\",\"posteam\":...   \n",
       "5  {\"home_team\":\"CHI\",\"away_team\":\"GB\",\"posteam\":...   \n",
       "6  {\"home_team\":\"DAL\",\"away_team\":\"IND\",\"posteam\"...   \n",
       "7  {\"home_team\":\"DAL\",\"away_team\":\"IND\",\"posteam\"...   \n",
       "8  {\"home_team\":\"DAL\",\"away_team\":\"IND\",\"posteam\"...   \n",
       "9  {\"home_team\":\"CIN\",\"away_team\":\"KC\",\"posteam\":...   \n",
       "\n",
       "                                          transcript  \\\n",
       "0  What a punt here by Johnson. Peoples-jones. Go...   \n",
       "1  On 2nd and 10. Allen trying to catch some brea...   \n",
       "2  Browns fans hoping to get a little help. That ...   \n",
       "3  Fields, oh what a move to move past Nixon. And...   \n",
       "4  Hit to Montgomery. With a nice cut. And he pow...   \n",
       "5  He'll snap it on fourth down. Rodgers steps up...   \n",
       "6  Here is Ryan, firing into the endzone. Open fo...   \n",
       "7   And Dak will give it to Pollard who walks it in!   \n",
       "8  And Prescott gets away from Kwity Paye, throws...   \n",
       "9  Second and goal from the four, quarterback dra...   \n",
       "\n",
       "                                          commentary  \n",
       "0  \\n\\nPunting away here on 4th and 2. Houston wi...  \n",
       "1  \\n\\nSecond and 10. Deshaun Watson drops back. ...  \n",
       "2  \\n\\nFirst and 10. Allen in the shotgun. He'll ...  \n",
       "3  \\n\\nFields with the handoff. He'll take it aro...  \n",
       "4  \\n\\nMontgomery takes the handoff and he's look...  \n",
       "5  \\n\\nFourth and four. Rodgers drops back. He's ...  \n",
       "6  \\n\\nA.Dulin takes it in for the touchdown! Rya...  \n",
       "7  \\nPollard! He'll take it in for the touchdown!...  \n",
       "8  \\n\\nGallup with the catch! He's got the first ...  \n",
       "9  \\nBurrow. He'll hand it off to Mixon on the di...  "
      ]
     },
     "execution_count": 40,
     "metadata": {},
     "output_type": "execute_result"
    }
   ],
   "source": [
    "group1[\"commentary\"] = group1[\"json\"].apply(try_gpt)\n",
    "group1"
   ]
  },
  {
   "cell_type": "code",
   "execution_count": 41,
   "id": "c1bfb618",
   "metadata": {},
   "outputs": [
    {
     "name": "stderr",
     "output_type": "stream",
     "text": [
      "C:\\Users\\costi\\AppData\\Local\\Temp\\ipykernel_22128\\1455296522.py:1: SettingWithCopyWarning: \n",
      "A value is trying to be set on a copy of a slice from a DataFrame.\n",
      "Try using .loc[row_indexer,col_indexer] = value instead\n",
      "\n",
      "See the caveats in the documentation: https://pandas.pydata.org/pandas-docs/stable/user_guide/indexing.html#returning-a-view-versus-a-copy\n",
      "  group2[\"commentary\"] = group2[\"json\"].apply(try_gpt)\n"
     ]
    },
    {
     "data": {
      "text/html": [
       "<div>\n",
       "<style scoped>\n",
       "    .dataframe tbody tr th:only-of-type {\n",
       "        vertical-align: middle;\n",
       "    }\n",
       "\n",
       "    .dataframe tbody tr th {\n",
       "        vertical-align: top;\n",
       "    }\n",
       "\n",
       "    .dataframe thead th {\n",
       "        text-align: right;\n",
       "    }\n",
       "</style>\n",
       "<table border=\"1\" class=\"dataframe\">\n",
       "  <thead>\n",
       "    <tr style=\"text-align: right;\">\n",
       "      <th></th>\n",
       "      <th>json</th>\n",
       "      <th>transcript</th>\n",
       "      <th>commentary</th>\n",
       "    </tr>\n",
       "  </thead>\n",
       "  <tbody>\n",
       "    <tr>\n",
       "      <th>10</th>\n",
       "      <td>{\"home_team\":\"CIN\",\"away_team\":\"KC\",\"posteam\":...</td>\n",
       "      <td>Could be dangerous right here, third and eight...</td>\n",
       "      <td>\\nBurrow with a great pass to Higgins who make...</td>\n",
       "    </tr>\n",
       "    <tr>\n",
       "      <th>11</th>\n",
       "      <td>{\"home_team\":\"CIN\",\"away_team\":\"KC\",\"posteam\":...</td>\n",
       "      <td>Mahomes completes it, McKinnon for the touchdown!</td>\n",
       "      <td>\\n\\nMahomes will flip it to McKinnon on the ru...</td>\n",
       "    </tr>\n",
       "    <tr>\n",
       "      <th>12</th>\n",
       "      <td>{\"home_team\":\"LV\",\"away_team\":\"LAC\",\"posteam\":...</td>\n",
       "      <td>But how to getting him up on the field opens t...</td>\n",
       "      <td>\\n\\nCarr. looking for Hollins in the end zone....</td>\n",
       "    </tr>\n",
       "    <tr>\n",
       "      <th>13</th>\n",
       "      <td>{\"home_team\":\"LV\",\"away_team\":\"LAC\",\"posteam\":...</td>\n",
       "      <td>Jacobs in the backfield. Here are the Raiders,...</td>\n",
       "      <td>\\n\\nCarr looking deep for Adams and he's got h...</td>\n",
       "    </tr>\n",
       "    <tr>\n",
       "      <th>14</th>\n",
       "      <td>{\"home_team\":\"LV\",\"away_team\":\"LAC\",\"posteam\":...</td>\n",
       "      <td>You can just tell that he is in the zone and h...</td>\n",
       "      <td>\\n\\nFirst and 10 for Las Vegas. Carr. He'll dr...</td>\n",
       "    </tr>\n",
       "    <tr>\n",
       "      <th>15</th>\n",
       "      <td>{\"home_team\":\"LV\",\"away_team\":\"LAC\",\"posteam\":...</td>\n",
       "      <td>The good thing is that you have seen him in hi...</td>\n",
       "      <td>\\nHerbert will take the snap. Looks to his rig...</td>\n",
       "    </tr>\n",
       "    <tr>\n",
       "      <th>16</th>\n",
       "      <td>{\"home_team\":\"SF\",\"away_team\":\"MIA\",\"posteam\":...</td>\n",
       "      <td>This explosive offense gets things going with ...</td>\n",
       "      <td>\\n\\nAnd the first play from scrimmage Tagovail...</td>\n",
       "    </tr>\n",
       "    <tr>\n",
       "      <th>17</th>\n",
       "      <td>{\"home_team\":\"SF\",\"away_team\":\"MIA\",\"posteam\":...</td>\n",
       "      <td>Down to two, they get it off, Purdy looks to t...</td>\n",
       "      <td>\\n\\nPurdy on first and goal. He'll look to his...</td>\n",
       "    </tr>\n",
       "    <tr>\n",
       "      <th>18</th>\n",
       "      <td>{\"home_team\":\"SF\",\"away_team\":\"MIA\",\"posteam\":...</td>\n",
       "      <td>So here we go on third down and goal in a ten-...</td>\n",
       "      <td>\\n\\nPurdy completes that ball to Christian McC...</td>\n",
       "    </tr>\n",
       "    <tr>\n",
       "      <th>19</th>\n",
       "      <td>{\"home_team\":\"MIN\",\"away_team\":\"NYJ\",\"posteam\"...</td>\n",
       "      <td>First and goal. Handoff, Cook, the stutterstep...</td>\n",
       "      <td>\\nFirst and goal. From the four yard line it's...</td>\n",
       "    </tr>\n",
       "  </tbody>\n",
       "</table>\n",
       "</div>"
      ],
      "text/plain": [
       "                                                 json  \\\n",
       "10  {\"home_team\":\"CIN\",\"away_team\":\"KC\",\"posteam\":...   \n",
       "11  {\"home_team\":\"CIN\",\"away_team\":\"KC\",\"posteam\":...   \n",
       "12  {\"home_team\":\"LV\",\"away_team\":\"LAC\",\"posteam\":...   \n",
       "13  {\"home_team\":\"LV\",\"away_team\":\"LAC\",\"posteam\":...   \n",
       "14  {\"home_team\":\"LV\",\"away_team\":\"LAC\",\"posteam\":...   \n",
       "15  {\"home_team\":\"LV\",\"away_team\":\"LAC\",\"posteam\":...   \n",
       "16  {\"home_team\":\"SF\",\"away_team\":\"MIA\",\"posteam\":...   \n",
       "17  {\"home_team\":\"SF\",\"away_team\":\"MIA\",\"posteam\":...   \n",
       "18  {\"home_team\":\"SF\",\"away_team\":\"MIA\",\"posteam\":...   \n",
       "19  {\"home_team\":\"MIN\",\"away_team\":\"NYJ\",\"posteam\"...   \n",
       "\n",
       "                                           transcript  \\\n",
       "10  Could be dangerous right here, third and eight...   \n",
       "11  Mahomes completes it, McKinnon for the touchdown!   \n",
       "12  But how to getting him up on the field opens t...   \n",
       "13  Jacobs in the backfield. Here are the Raiders,...   \n",
       "14  You can just tell that he is in the zone and h...   \n",
       "15  The good thing is that you have seen him in hi...   \n",
       "16  This explosive offense gets things going with ...   \n",
       "17  Down to two, they get it off, Purdy looks to t...   \n",
       "18  So here we go on third down and goal in a ten-...   \n",
       "19  First and goal. Handoff, Cook, the stutterstep...   \n",
       "\n",
       "                                           commentary  \n",
       "10  \\nBurrow with a great pass to Higgins who make...  \n",
       "11  \\n\\nMahomes will flip it to McKinnon on the ru...  \n",
       "12  \\n\\nCarr. looking for Hollins in the end zone....  \n",
       "13  \\n\\nCarr looking deep for Adams and he's got h...  \n",
       "14  \\n\\nFirst and 10 for Las Vegas. Carr. He'll dr...  \n",
       "15  \\nHerbert will take the snap. Looks to his rig...  \n",
       "16  \\n\\nAnd the first play from scrimmage Tagovail...  \n",
       "17  \\n\\nPurdy on first and goal. He'll look to his...  \n",
       "18  \\n\\nPurdy completes that ball to Christian McC...  \n",
       "19  \\nFirst and goal. From the four yard line it's...  "
      ]
     },
     "execution_count": 41,
     "metadata": {},
     "output_type": "execute_result"
    }
   ],
   "source": [
    "group2[\"commentary\"] = group2[\"json\"].apply(try_gpt)\n",
    "group2"
   ]
  },
  {
   "cell_type": "code",
   "execution_count": 47,
   "id": "8ce9d50f",
   "metadata": {
    "scrolled": false
   },
   "outputs": [
    {
     "name": "stderr",
     "output_type": "stream",
     "text": [
      "C:\\Users\\costi\\AppData\\Local\\Temp\\ipykernel_22128\\4072402062.py:1: SettingWithCopyWarning: \n",
      "A value is trying to be set on a copy of a slice from a DataFrame.\n",
      "Try using .loc[row_indexer,col_indexer] = value instead\n",
      "\n",
      "See the caveats in the documentation: https://pandas.pydata.org/pandas-docs/stable/user_guide/indexing.html#returning-a-view-versus-a-copy\n",
      "  group3[\"commentary\"] = group3[\"json\"].apply(try_gpt)\n"
     ]
    },
    {
     "data": {
      "text/html": [
       "<div>\n",
       "<style scoped>\n",
       "    .dataframe tbody tr th:only-of-type {\n",
       "        vertical-align: middle;\n",
       "    }\n",
       "\n",
       "    .dataframe tbody tr th {\n",
       "        vertical-align: top;\n",
       "    }\n",
       "\n",
       "    .dataframe thead th {\n",
       "        text-align: right;\n",
       "    }\n",
       "</style>\n",
       "<table border=\"1\" class=\"dataframe\">\n",
       "  <thead>\n",
       "    <tr style=\"text-align: right;\">\n",
       "      <th></th>\n",
       "      <th>json</th>\n",
       "      <th>transcript</th>\n",
       "      <th>commentary</th>\n",
       "    </tr>\n",
       "  </thead>\n",
       "  <tbody>\n",
       "    <tr>\n",
       "      <th>20</th>\n",
       "      <td>{\"home_team\":\"MIN\",\"away_team\":\"NYJ\",\"posteam\"...</td>\n",
       "      <td>First down for Minnesota at the 14 yard line. ...</td>\n",
       "      <td>\\n\\nAnd Mattison will take it all the way! He'...</td>\n",
       "    </tr>\n",
       "    <tr>\n",
       "      <th>21</th>\n",
       "      <td>{\"home_team\":\"MIN\",\"away_team\":\"NYJ\",\"posteam\"...</td>\n",
       "      <td>It's third down. Is it Jefferson time? Cousins...</td>\n",
       "      <td>\\n\\nCousins back to pass. He's looking for Jef...</td>\n",
       "    </tr>\n",
       "    <tr>\n",
       "      <th>22</th>\n",
       "      <td>{\"home_team\":\"LA\",\"away_team\":\"SEA\",\"posteam\":...</td>\n",
       "      <td>Powell in motion, the give to Akers, trying to...</td>\n",
       "      <td>\\n\\nAkers with the handoff. He'll take it into...</td>\n",
       "    </tr>\n",
       "    <tr>\n",
       "      <th>23</th>\n",
       "      <td>{\"home_team\":\"LA\",\"away_team\":\"SEA\",\"posteam\":...</td>\n",
       "      <td>Rams bring pressure, Smith gets a pocket clean...</td>\n",
       "      <td>\\nThird and 7. Smith in the gun. He'll look to...</td>\n",
       "    </tr>\n",
       "    <tr>\n",
       "      <th>24</th>\n",
       "      <td>{\"home_team\":\"LA\",\"away_team\":\"SEA\",\"posteam\":...</td>\n",
       "      <td>Third and goal at the four, Geno clapping for ...</td>\n",
       "      <td>\\n\\nFirst and goal. Smith with a short pass to...</td>\n",
       "    </tr>\n",
       "    <tr>\n",
       "      <th>25</th>\n",
       "      <td>{\"home_team\":\"PHI\",\"away_team\":\"TEN\",\"posteam\"...</td>\n",
       "      <td>Hurts again all day. Going deep for the end zo...</td>\n",
       "      <td>\\nSecond and 10. Hurts in the shotgun. He'll l...</td>\n",
       "    </tr>\n",
       "    <tr>\n",
       "      <th>26</th>\n",
       "      <td>{\"home_team\":\"PHI\",\"away_team\":\"TEN\",\"posteam\"...</td>\n",
       "      <td>This is where Tennessee wants to live. These d...</td>\n",
       "      <td>\\n\\nRoughness on the play. 15 yard penalty aga...</td>\n",
       "    </tr>\n",
       "    <tr>\n",
       "      <th>27</th>\n",
       "      <td>{\"home_team\":\"PHI\",\"away_team\":\"TEN\",\"posteam\"...</td>\n",
       "      <td>Hurts, lofting deep again, Brown is wide open ...</td>\n",
       "      <td>\\nSecond and 15. Hurts going deep to Alshon Je...</td>\n",
       "    </tr>\n",
       "    <tr>\n",
       "      <th>28</th>\n",
       "      <td>{\"home_team\":\"NYG\",\"away_team\":\"WAS\",\"posteam\"...</td>\n",
       "      <td>Make sure that he's gonna confuse that offensi...</td>\n",
       "      <td>\\n\\nFirst and 10 for the Redskins. Heinicke wi...</td>\n",
       "    </tr>\n",
       "    <tr>\n",
       "      <th>29</th>\n",
       "      <td>{\"home_team\":\"NYG\",\"away_team\":\"WAS\",\"posteam\"...</td>\n",
       "      <td>Jones with 48 yards on the ground today. Hands...</td>\n",
       "      <td>\\n\\nSaquon Barkley with the handoff. He'll mak...</td>\n",
       "    </tr>\n",
       "    <tr>\n",
       "      <th>30</th>\n",
       "      <td>{\"home_team\":\"NYG\",\"away_team\":\"WAS\",\"posteam\"...</td>\n",
       "      <td>The fake to Barkley. Jones throws, endzone! To...</td>\n",
       "      <td>\\nSecond and goal. Jones looking for Hodgins i...</td>\n",
       "    </tr>\n",
       "  </tbody>\n",
       "</table>\n",
       "</div>"
      ],
      "text/plain": [
       "                                                 json  \\\n",
       "20  {\"home_team\":\"MIN\",\"away_team\":\"NYJ\",\"posteam\"...   \n",
       "21  {\"home_team\":\"MIN\",\"away_team\":\"NYJ\",\"posteam\"...   \n",
       "22  {\"home_team\":\"LA\",\"away_team\":\"SEA\",\"posteam\":...   \n",
       "23  {\"home_team\":\"LA\",\"away_team\":\"SEA\",\"posteam\":...   \n",
       "24  {\"home_team\":\"LA\",\"away_team\":\"SEA\",\"posteam\":...   \n",
       "25  {\"home_team\":\"PHI\",\"away_team\":\"TEN\",\"posteam\"...   \n",
       "26  {\"home_team\":\"PHI\",\"away_team\":\"TEN\",\"posteam\"...   \n",
       "27  {\"home_team\":\"PHI\",\"away_team\":\"TEN\",\"posteam\"...   \n",
       "28  {\"home_team\":\"NYG\",\"away_team\":\"WAS\",\"posteam\"...   \n",
       "29  {\"home_team\":\"NYG\",\"away_team\":\"WAS\",\"posteam\"...   \n",
       "30  {\"home_team\":\"NYG\",\"away_team\":\"WAS\",\"posteam\"...   \n",
       "\n",
       "                                           transcript  \\\n",
       "20  First down for Minnesota at the 14 yard line. ...   \n",
       "21  It's third down. Is it Jefferson time? Cousins...   \n",
       "22  Powell in motion, the give to Akers, trying to...   \n",
       "23  Rams bring pressure, Smith gets a pocket clean...   \n",
       "24  Third and goal at the four, Geno clapping for ...   \n",
       "25  Hurts again all day. Going deep for the end zo...   \n",
       "26  This is where Tennessee wants to live. These d...   \n",
       "27  Hurts, lofting deep again, Brown is wide open ...   \n",
       "28  Make sure that he's gonna confuse that offensi...   \n",
       "29  Jones with 48 yards on the ground today. Hands...   \n",
       "30  The fake to Barkley. Jones throws, endzone! To...   \n",
       "\n",
       "                                           commentary  \n",
       "20  \\n\\nAnd Mattison will take it all the way! He'...  \n",
       "21  \\n\\nCousins back to pass. He's looking for Jef...  \n",
       "22  \\n\\nAkers with the handoff. He'll take it into...  \n",
       "23  \\nThird and 7. Smith in the gun. He'll look to...  \n",
       "24  \\n\\nFirst and goal. Smith with a short pass to...  \n",
       "25  \\nSecond and 10. Hurts in the shotgun. He'll l...  \n",
       "26  \\n\\nRoughness on the play. 15 yard penalty aga...  \n",
       "27  \\nSecond and 15. Hurts going deep to Alshon Je...  \n",
       "28  \\n\\nFirst and 10 for the Redskins. Heinicke wi...  \n",
       "29  \\n\\nSaquon Barkley with the handoff. He'll mak...  \n",
       "30  \\nSecond and goal. Jones looking for Hodgins i...  "
      ]
     },
     "execution_count": 47,
     "metadata": {},
     "output_type": "execute_result"
    }
   ],
   "source": [
    "group3[\"commentary\"] = group3[\"json\"].apply(try_gpt)\n",
    "group3"
   ]
  },
  {
   "cell_type": "code",
   "execution_count": 49,
   "id": "b19790a2",
   "metadata": {
    "scrolled": true
   },
   "outputs": [],
   "source": [
    "final_sheet = pd.concat([group1,group2,group3])"
   ]
  },
  {
   "cell_type": "code",
   "execution_count": 138,
   "id": "5b749502",
   "metadata": {},
   "outputs": [
    {
     "name": "stderr",
     "output_type": "stream",
     "text": [
      "C:\\Users\\costi\\AppData\\Local\\Temp\\ipykernel_22128\\784336393.py:1: FutureWarning: The default value of regex will change from True to False in a future version.\n",
      "  final_sheet[\"gpt\"] = final_sheet[\"commentary\"].str.replace(\"\\n+\",\" \").str.strip()\n",
      "C:\\Users\\costi\\AppData\\Local\\Temp\\ipykernel_22128\\784336393.py:2: FutureWarning: The default value of regex will change from True to False in a future version.\n",
      "  final_sheet[\"real_transcript\"] = final_sheet[\"transcript\"].str.replace(\"\\n+\",\" \").str.strip()\n"
     ]
    }
   ],
   "source": [
    "final_sheet[\"gpt\"] = final_sheet[\"commentary\"].str.replace(\"\\n+\",\" \").str.strip()\n",
    "final_sheet[\"real_transcript\"] = final_sheet[\"transcript\"].str.replace(\"\\n+\",\" \").str.strip()"
   ]
  },
  {
   "cell_type": "code",
   "execution_count": 143,
   "id": "53ac1050",
   "metadata": {},
   "outputs": [],
   "source": [
    "final_sheet[[\"real_transcript\",\"gpt\"]].to_csv(\"blind_test_solutions.csv\",index=False)"
   ]
  },
  {
   "cell_type": "code",
   "execution_count": 140,
   "id": "e04e2a75",
   "metadata": {},
   "outputs": [],
   "source": [
    "shuffled = final_sheet[[\"real_transcript\",\"gpt\"]].apply(lambda x : x.sample(frac=1).reset_index(drop=True),axis=1)"
   ]
  },
  {
   "cell_type": "code",
   "execution_count": 144,
   "id": "00b6b4c0",
   "metadata": {},
   "outputs": [],
   "source": [
    "shuffled.to_csv(\"blind_test.csv\",index=False)"
   ]
  },
  {
   "cell_type": "code",
   "execution_count": 142,
   "id": "35ede47b",
   "metadata": {},
   "outputs": [
    {
     "data": {
      "text/plain": [
       "\"Punting away here on 4th and 2. Houston will give it back to the Browns inside their own 10 yard line. People-Jones takes it on the run! He's got some open field in front of him! Peoples-Jones will take it all the way for the touchdown!!\""
      ]
     },
     "execution_count": 142,
     "metadata": {},
     "output_type": "execute_result"
    }
   ],
   "source": [
    "shuffled.iloc[0][1]"
   ]
  },
  {
   "cell_type": "code",
   "execution_count": null,
   "id": "7beb16e2",
   "metadata": {},
   "outputs": [],
   "source": []
  }
 ],
 "metadata": {
  "kernelspec": {
   "display_name": "Python 3 (ipykernel)",
   "language": "python",
   "name": "python3"
  },
  "language_info": {
   "codemirror_mode": {
    "name": "ipython",
    "version": 3
   },
   "file_extension": ".py",
   "mimetype": "text/x-python",
   "name": "python",
   "nbconvert_exporter": "python",
   "pygments_lexer": "ipython3",
   "version": "3.9.13"
  }
 },
 "nbformat": 4,
 "nbformat_minor": 5
}
