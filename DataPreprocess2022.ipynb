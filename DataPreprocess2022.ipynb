{
 "cells": [
  {
   "cell_type": "code",
   "execution_count": 1,
   "id": "df71510c",
   "metadata": {},
   "outputs": [],
   "source": [
    "import pandas as pd\n",
    "import re\n",
    "import datetime\n",
    "import numpy as np\n",
    "import time\n",
    "from gpt3 import try_gpt"
   ]
  },
  {
   "cell_type": "markdown",
   "id": "a0f964cc",
   "metadata": {},
   "source": [
    "# 2022 Data Preprocess"
   ]
  },
  {
   "cell_type": "code",
   "execution_count": 2,
   "id": "b5b18a01",
   "metadata": {},
   "outputs": [],
   "source": [
    "RELEVANT_COLUMNS = ['home_team', 'away_team', 'posteam', 'posteam_type', 'defteam', 'side_of_field', 'yardline_100', 'quarter_seconds_remaining', 'half_seconds_remaining', 'game_seconds_remaining', 'game_half', 'quarter_end', 'drive', 'sp', 'qtr', 'down', 'goal_to_go', 'time', 'yrdln', 'ydstogo', 'ydsnet', 'play_type', 'yards_gained', 'shotgun', 'no_huddle', 'qb_dropback', 'qb_kneel', 'qb_spike', 'qb_scramble', 'pass_length', 'pass_location', 'air_yards', 'yards_after_catch', 'run_location', 'run_gap', 'field_goal_result', 'kick_distance', 'extra_point_result', 'two_point_conv_result', 'away_timeouts_remaining', 'td_team', 'posteam_timeouts_remaining', 'defteam_timeouts_remaining', 'total_home_score', 'total_away_score', 'posteam_score', 'defteam_score', 'score_differential', 'posteam_score_post', 'defteam_score_post', 'score_differential_post', 'punt_blocked', 'first_down_rush', 'first_down_pass', 'first_down_penalty', 'third_down_converted', 'third_down_failed', 'fourth_down_converted', 'fourth_down_failed', 'incomplete_pass', 'touchback', 'interception', 'punt_inside_twenty', 'punt_in_endzone', 'punt_out_of_bounds', 'punt_downed', 'punt_fair_catch', 'kickoff_inside_twenty', 'kickoff_in_endzone', 'kickoff_out_of_bounds', 'kickoff_downed', 'kickoff_fair_catch', 'fumble_forced', 'fumble_not_forced', 'fumble_out_of_bounds', 'solo_tackle', 'safety', 'penalty', 'tackled_for_loss', 'fumble_lost', 'own_kickoff_recovery', 'own_kickoff_recovery_td', 'qb_hit', 'rush_attempt', 'pass_attempt', 'sack', 'touchdown', 'pass_touchdown', 'rush_touchdown', 'return_touchdown', 'extra_point_attempt', 'two_point_attempt', 'field_goal_attempt', 'kickoff_attempt', 'punt_attempt', 'fumble', 'complete_pass', 'assist_tackle', 'lateral_reception', 'lateral_rush', 'lateral_return', 'lateral_recovery', 'passer_player_id', 'passer_player_name', 'receiver_player_id', 'receiver_player_name', 'rusher_player_id', 'rusher_player_name', 'lateral_receiver_player_id', 'lateral_receiver_player_name', 'lateral_rusher_player_id', 'lateral_rusher_player_name', 'lateral_sack_player_id', 'lateral_sack_player_name', 'interception_player_id', 'interception_player_name', 'lateral_interception_player_id', 'lateral_interception_player_name', 'punt_returner_player_id', 'punt_returner_player_name', 'lateral_punt_returner_player_id', 'lateral_punt_returner_player_name', 'kickoff_returner_player_name', 'kickoff_returner_player_id', 'lateral_kickoff_returner_player_id', 'lateral_kickoff_returner_player_name', 'punter_player_id', 'punter_player_name', 'kicker_player_name', 'kicker_player_id', 'own_kickoff_recovery_player_id', 'own_kickoff_recovery_player_name', 'blocked_player_id', 'blocked_player_name', 'tackle_for_loss_1_player_id', 'tackle_for_loss_1_player_name', 'tackle_for_loss_2_player_id', 'tackle_for_loss_2_player_name', 'qb_hit_1_player_id', 'qb_hit_1_player_name', 'qb_hit_2_player_id', 'qb_hit_2_player_name', 'forced_fumble_player_1_team', 'forced_fumble_player_1_player_id', 'forced_fumble_player_1_player_name', 'forced_fumble_player_2_team', 'forced_fumble_player_2_player_id', 'forced_fumble_player_2_player_name', 'solo_tackle_1_team', 'solo_tackle_2_team', 'solo_tackle_1_player_id', 'solo_tackle_2_player_id', 'solo_tackle_1_player_name', 'solo_tackle_2_player_name', 'assist_tackle_1_player_id', 'assist_tackle_1_player_name', 'assist_tackle_1_team', 'assist_tackle_2_player_id', 'assist_tackle_2_player_name', 'assist_tackle_2_team', 'assist_tackle_3_player_id', 'assist_tackle_3_player_name', 'assist_tackle_3_team', 'assist_tackle_4_player_id', 'assist_tackle_4_player_name', 'assist_tackle_4_team', 'pass_defense_1_player_id', 'pass_defense_1_player_name', 'pass_defense_2_player_id', 'pass_defense_2_player_name', 'fumbled_1_team', 'fumbled_1_player_id', 'fumbled_1_player_name', 'fumbled_2_player_id', 'fumbled_2_player_name', 'fumbled_2_team', 'fumble_recovery_1_team', 'fumble_recovery_1_yards', 'fumble_recovery_1_player_id', 'fumble_recovery_1_player_name', 'fumble_recovery_2_team', 'fumble_recovery_2_yards', 'fumble_recovery_2_player_id', 'fumble_recovery_2_player_name', 'return_team', 'return_yards', 'penalty_team', 'penalty_player_id', 'penalty_player_name', 'penalty_yards', 'replay_or_challenge', 'replay_or_challenge_result', 'penalty_type', 'defensive_two_point_attempt', 'defensive_two_point_conv', 'defensive_extra_point_attempt', 'defensive_extra_point_conv']"
   ]
  },
  {
   "cell_type": "code",
   "execution_count": 3,
   "id": "6f93a20e",
   "metadata": {
    "scrolled": true
   },
   "outputs": [
    {
     "name": "stderr",
     "output_type": "stream",
     "text": [
      "/var/folders/08/6rx4zjtn10557fvbrhbl5ykw0000gn/T/ipykernel_44347/813836328.py:1: DtypeWarning: Columns (179,180,182,183,189,190,193,194,197,198,203,204,205,206,218,219,220,243,244,245,253,254,255,260,262,263,283,284,301) have mixed types. Specify dtype option on import or set low_memory=False.\n",
      "  pbp_data_22 = pd.read_csv(\"./pbp_data/regular_season/reg_pbp_2022.csv\")\n"
     ]
    }
   ],
   "source": [
    "pbp_data_22 = pd.read_csv(\"./pbp_data/regular_season/reg_pbp_2022.csv\")"
   ]
  },
  {
   "cell_type": "code",
   "execution_count": 4,
   "id": "f0bc71b7",
   "metadata": {},
   "outputs": [],
   "source": [
    "highlights22 = pd.read_csv(\"./transcripts_2022.csv\")\n",
    "highlights22 = highlights22[~highlights22[\"interval\"].isna()]"
   ]
  },
  {
   "cell_type": "code",
   "execution_count": 5,
   "id": "79f8da40",
   "metadata": {},
   "outputs": [],
   "source": [
    "def process_inning_time(time_str):\n",
    "    quarter = time_str[0]\n",
    "    if quarter == \"O\":\n",
    "        time_remaining = 0\n",
    "    else:\n",
    "        time_remaining = (4 - int(quarter)) * 900\n",
    "    times = re.findall(\"\\d?\\d:\\d\\d\",time_str)\n",
    "    timedeltas = pd.to_timedelta(pd.to_datetime(times,format='%M:%S').strftime('%H:%M:%S').values)\n",
    "    timelists = (timedeltas + datetime.timedelta(seconds=time_remaining)).seconds\n",
    "    return pd.Interval(timelists[1],timelists[0],closed=\"both\")"
   ]
  },
  {
   "cell_type": "code",
   "execution_count": 6,
   "id": "3406f2e9",
   "metadata": {
    "scrolled": true
   },
   "outputs": [],
   "source": [
    "highlights22[\"intervals\"] = highlights22[\"interval\"].apply(process_inning_time)\n",
    "highlights22[\"date\"] = pd.to_datetime(highlights22[\"date\"])\n",
    "pbp_data_22[\"game_date\"] = pd.to_datetime(pbp_data_22[\"game_date\"])"
   ]
  },
  {
   "cell_type": "code",
   "execution_count": 7,
   "id": "2f76cc71",
   "metadata": {},
   "outputs": [],
   "source": [
    "merged22 = pbp_data_22.merge(highlights22,left_on=[\"home_team\",\"away_team\",\"game_date\"], right_on=[\"home\",\"away\",\"date\"])"
   ]
  },
  {
   "cell_type": "code",
   "execution_count": 8,
   "id": "30af3cd2",
   "metadata": {},
   "outputs": [],
   "source": [
    "plays22 = merged22[merged22.apply(lambda x: x[\"game_seconds_remaining\"] in x[\"intervals\"],axis=1)]"
   ]
  },
  {
   "cell_type": "code",
   "execution_count": 9,
   "id": "c665f846",
   "metadata": {},
   "outputs": [],
   "source": [
    "touches = plays22[plays22[\"touchdown\"] == 1].groupby(\"intervals\")['touchdown'].sum()"
   ]
  },
  {
   "cell_type": "code",
   "execution_count": 10,
   "id": "2a67f688",
   "metadata": {},
   "outputs": [],
   "source": [
    "touchdown_index = touches[touches == 1].index"
   ]
  },
  {
   "cell_type": "code",
   "execution_count": 11,
   "id": "63a1e57b",
   "metadata": {},
   "outputs": [],
   "source": [
    "plays22 = plays22[(plays22[\"touchdown\"] == 1) & (plays22[\"intervals\"].isin(touchdown_index))]"
   ]
  },
  {
   "cell_type": "code",
   "execution_count": 12,
   "id": "c33ce192",
   "metadata": {},
   "outputs": [],
   "source": [
    "X = plays22[RELEVANT_COLUMNS+[\"transcript\"]]"
   ]
  },
  {
   "cell_type": "code",
   "execution_count": 13,
   "id": "8a5fcca5",
   "metadata": {
    "scrolled": true
   },
   "outputs": [],
   "source": [
    "ret_list = []\n",
    "for i in range(X.shape[0]):\n",
    "    ret_list += [{\"json\":X[RELEVANT_COLUMNS].iloc[i].replace(0,np.nan).dropna().to_json(),\n",
    "                  \"transcript\":X[\"transcript\"].iloc[i]}]"
   ]
  },
  {
   "cell_type": "code",
   "execution_count": 14,
   "id": "9b3f8b6e",
   "metadata": {},
   "outputs": [],
   "source": [
    "gpt22 = pd.DataFrame(ret_list)"
   ]
  },
  {
   "cell_type": "code",
   "execution_count": 15,
   "id": "be6f775b",
   "metadata": {},
   "outputs": [
    {
     "name": "stderr",
     "output_type": "stream",
     "text": [
      "/var/folders/08/6rx4zjtn10557fvbrhbl5ykw0000gn/T/ipykernel_44347/3730512515.py:4: SettingWithCopyWarning: \n",
      "A value is trying to be set on a copy of a slice from a DataFrame\n",
      "\n",
      "See the caveats in the documentation: https://pandas.pydata.org/pandas-docs/stable/user_guide/indexing.html#returning-a-view-versus-a-copy\n",
      "  group1.loc[\"commentary\"] = group1[\"json\"].apply(try_gpt)\n",
      "/var/folders/08/6rx4zjtn10557fvbrhbl5ykw0000gn/T/ipykernel_44347/3730512515.py:6: SettingWithCopyWarning: \n",
      "A value is trying to be set on a copy of a slice from a DataFrame\n",
      "\n",
      "See the caveats in the documentation: https://pandas.pydata.org/pandas-docs/stable/user_guide/indexing.html#returning-a-view-versus-a-copy\n",
      "  group2.loc[\"commentary\"] = group2[\"json\"].apply(try_gpt)\n",
      "/var/folders/08/6rx4zjtn10557fvbrhbl5ykw0000gn/T/ipykernel_44347/3730512515.py:8: SettingWithCopyWarning: \n",
      "A value is trying to be set on a copy of a slice from a DataFrame\n",
      "\n",
      "See the caveats in the documentation: https://pandas.pydata.org/pandas-docs/stable/user_guide/indexing.html#returning-a-view-versus-a-copy\n",
      "  group3.loc[\"commentary\"] = group3[\"json\"].apply(try_gpt)\n"
     ]
    }
   ],
   "source": [
    "group1 = gpt22[:10]\n",
    "group2 = gpt22[10:20]\n",
    "group3 = gpt22[20:]\n",
    "group1.loc[\"commentary\"] = group1[\"json\"].apply(try_gpt)\n",
    "time.sleep(5)\n",
    "group2.loc[\"commentary\"] = group2[\"json\"].apply(try_gpt)\n",
    "time.sleep(5)\n",
    "group3.loc[\"commentary\"] = group3[\"json\"].apply(try_gpt)"
   ]
  },
  {
   "cell_type": "code",
   "execution_count": 16,
   "id": "b19790a2",
   "metadata": {
    "scrolled": true
   },
   "outputs": [
    {
     "data": {
      "text/html": [
       "<div>\n",
       "<style scoped>\n",
       "    .dataframe tbody tr th:only-of-type {\n",
       "        vertical-align: middle;\n",
       "    }\n",
       "\n",
       "    .dataframe tbody tr th {\n",
       "        vertical-align: top;\n",
       "    }\n",
       "\n",
       "    .dataframe thead th {\n",
       "        text-align: right;\n",
       "    }\n",
       "</style>\n",
       "<table border=\"1\" class=\"dataframe\">\n",
       "  <thead>\n",
       "    <tr style=\"text-align: right;\">\n",
       "      <th></th>\n",
       "      <th>json</th>\n",
       "      <th>transcript</th>\n",
       "    </tr>\n",
       "  </thead>\n",
       "  <tbody>\n",
       "    <tr>\n",
       "      <th>0</th>\n",
       "      <td>{\"home_team\":\"HOU\",\"away_team\":\"CLE\",\"posteam\"...</td>\n",
       "      <td>What a punt here by Johnson. Peoples-jones. Go...</td>\n",
       "    </tr>\n",
       "    <tr>\n",
       "      <th>1</th>\n",
       "      <td>{\"home_team\":\"HOU\",\"away_team\":\"CLE\",\"posteam\"...</td>\n",
       "      <td>On 2nd and 10. Allen trying to catch some brea...</td>\n",
       "    </tr>\n",
       "    <tr>\n",
       "      <th>2</th>\n",
       "      <td>{\"home_team\":\"HOU\",\"away_team\":\"CLE\",\"posteam\"...</td>\n",
       "      <td>Browns fans hoping to get a little help. That ...</td>\n",
       "    </tr>\n",
       "    <tr>\n",
       "      <th>3</th>\n",
       "      <td>{\"home_team\":\"CHI\",\"away_team\":\"GB\",\"posteam\":...</td>\n",
       "      <td>Fields, oh what a move to move past Nixon. And...</td>\n",
       "    </tr>\n",
       "    <tr>\n",
       "      <th>4</th>\n",
       "      <td>{\"home_team\":\"CHI\",\"away_team\":\"GB\",\"posteam\":...</td>\n",
       "      <td>Hit to Montgomery. With a nice cut. And he pow...</td>\n",
       "    </tr>\n",
       "  </tbody>\n",
       "</table>\n",
       "</div>"
      ],
      "text/plain": [
       "                                                json  \\\n",
       "0  {\"home_team\":\"HOU\",\"away_team\":\"CLE\",\"posteam\"...   \n",
       "1  {\"home_team\":\"HOU\",\"away_team\":\"CLE\",\"posteam\"...   \n",
       "2  {\"home_team\":\"HOU\",\"away_team\":\"CLE\",\"posteam\"...   \n",
       "3  {\"home_team\":\"CHI\",\"away_team\":\"GB\",\"posteam\":...   \n",
       "4  {\"home_team\":\"CHI\",\"away_team\":\"GB\",\"posteam\":...   \n",
       "\n",
       "                                          transcript  \n",
       "0  What a punt here by Johnson. Peoples-jones. Go...  \n",
       "1  On 2nd and 10. Allen trying to catch some brea...  \n",
       "2  Browns fans hoping to get a little help. That ...  \n",
       "3  Fields, oh what a move to move past Nixon. And...  \n",
       "4  Hit to Montgomery. With a nice cut. And he pow...  "
      ]
     },
     "execution_count": 16,
     "metadata": {},
     "output_type": "execute_result"
    }
   ],
   "source": [
    "final_sheet = pd.concat([group1,group2,group3])\n",
    "final_sheet.head()"
   ]
  },
  {
   "cell_type": "code",
   "execution_count": 17,
   "id": "5b749502",
   "metadata": {},
   "outputs": [
    {
     "ename": "KeyError",
     "evalue": "'commentary'",
     "output_type": "error",
     "traceback": [
      "\u001b[0;31m---------------------------------------------------------------------------\u001b[0m",
      "\u001b[0;31mKeyError\u001b[0m                                  Traceback (most recent call last)",
      "File \u001b[0;32m~/opt/anaconda3/envs/aif360/lib/python3.9/site-packages/pandas/core/indexes/base.py:3803\u001b[0m, in \u001b[0;36mIndex.get_loc\u001b[0;34m(self, key, method, tolerance)\u001b[0m\n\u001b[1;32m   3802\u001b[0m \u001b[38;5;28;01mtry\u001b[39;00m:\n\u001b[0;32m-> 3803\u001b[0m     \u001b[38;5;28;01mreturn\u001b[39;00m \u001b[38;5;28;43mself\u001b[39;49m\u001b[38;5;241;43m.\u001b[39;49m\u001b[43m_engine\u001b[49m\u001b[38;5;241;43m.\u001b[39;49m\u001b[43mget_loc\u001b[49m\u001b[43m(\u001b[49m\u001b[43mcasted_key\u001b[49m\u001b[43m)\u001b[49m\n\u001b[1;32m   3804\u001b[0m \u001b[38;5;28;01mexcept\u001b[39;00m \u001b[38;5;167;01mKeyError\u001b[39;00m \u001b[38;5;28;01mas\u001b[39;00m err:\n",
      "File \u001b[0;32m~/opt/anaconda3/envs/aif360/lib/python3.9/site-packages/pandas/_libs/index.pyx:138\u001b[0m, in \u001b[0;36mpandas._libs.index.IndexEngine.get_loc\u001b[0;34m()\u001b[0m\n",
      "File \u001b[0;32m~/opt/anaconda3/envs/aif360/lib/python3.9/site-packages/pandas/_libs/index.pyx:165\u001b[0m, in \u001b[0;36mpandas._libs.index.IndexEngine.get_loc\u001b[0;34m()\u001b[0m\n",
      "File \u001b[0;32mpandas/_libs/hashtable_class_helper.pxi:5745\u001b[0m, in \u001b[0;36mpandas._libs.hashtable.PyObjectHashTable.get_item\u001b[0;34m()\u001b[0m\n",
      "File \u001b[0;32mpandas/_libs/hashtable_class_helper.pxi:5753\u001b[0m, in \u001b[0;36mpandas._libs.hashtable.PyObjectHashTable.get_item\u001b[0;34m()\u001b[0m\n",
      "\u001b[0;31mKeyError\u001b[0m: 'commentary'",
      "\nThe above exception was the direct cause of the following exception:\n",
      "\u001b[0;31mKeyError\u001b[0m                                  Traceback (most recent call last)",
      "Cell \u001b[0;32mIn [17], line 1\u001b[0m\n\u001b[0;32m----> 1\u001b[0m final_sheet[\u001b[38;5;124m\"\u001b[39m\u001b[38;5;124mgpt\u001b[39m\u001b[38;5;124m\"\u001b[39m] \u001b[38;5;241m=\u001b[39m \u001b[43mfinal_sheet\u001b[49m\u001b[43m[\u001b[49m\u001b[38;5;124;43m\"\u001b[39;49m\u001b[38;5;124;43mcommentary\u001b[39;49m\u001b[38;5;124;43m\"\u001b[39;49m\u001b[43m]\u001b[49m\u001b[38;5;241m.\u001b[39mstr\u001b[38;5;241m.\u001b[39mreplace(\u001b[38;5;124m\"\u001b[39m\u001b[38;5;130;01m\\n\u001b[39;00m\u001b[38;5;124m+\u001b[39m\u001b[38;5;124m\"\u001b[39m,\u001b[38;5;124m\"\u001b[39m\u001b[38;5;124m \u001b[39m\u001b[38;5;124m\"\u001b[39m)\u001b[38;5;241m.\u001b[39mstr\u001b[38;5;241m.\u001b[39mstrip()\n\u001b[1;32m      2\u001b[0m final_sheet[\u001b[38;5;124m\"\u001b[39m\u001b[38;5;124mreal_transcript\u001b[39m\u001b[38;5;124m\"\u001b[39m] \u001b[38;5;241m=\u001b[39m final_sheet[\u001b[38;5;124m\"\u001b[39m\u001b[38;5;124mtranscript\u001b[39m\u001b[38;5;124m\"\u001b[39m]\u001b[38;5;241m.\u001b[39mstr\u001b[38;5;241m.\u001b[39mreplace(\u001b[38;5;124m\"\u001b[39m\u001b[38;5;130;01m\\n\u001b[39;00m\u001b[38;5;124m+\u001b[39m\u001b[38;5;124m\"\u001b[39m,\u001b[38;5;124m\"\u001b[39m\u001b[38;5;124m \u001b[39m\u001b[38;5;124m\"\u001b[39m)\u001b[38;5;241m.\u001b[39mstr\u001b[38;5;241m.\u001b[39mstrip()\n",
      "File \u001b[0;32m~/opt/anaconda3/envs/aif360/lib/python3.9/site-packages/pandas/core/frame.py:3804\u001b[0m, in \u001b[0;36mDataFrame.__getitem__\u001b[0;34m(self, key)\u001b[0m\n\u001b[1;32m   3802\u001b[0m \u001b[38;5;28;01mif\u001b[39;00m \u001b[38;5;28mself\u001b[39m\u001b[38;5;241m.\u001b[39mcolumns\u001b[38;5;241m.\u001b[39mnlevels \u001b[38;5;241m>\u001b[39m \u001b[38;5;241m1\u001b[39m:\n\u001b[1;32m   3803\u001b[0m     \u001b[38;5;28;01mreturn\u001b[39;00m \u001b[38;5;28mself\u001b[39m\u001b[38;5;241m.\u001b[39m_getitem_multilevel(key)\n\u001b[0;32m-> 3804\u001b[0m indexer \u001b[38;5;241m=\u001b[39m \u001b[38;5;28;43mself\u001b[39;49m\u001b[38;5;241;43m.\u001b[39;49m\u001b[43mcolumns\u001b[49m\u001b[38;5;241;43m.\u001b[39;49m\u001b[43mget_loc\u001b[49m\u001b[43m(\u001b[49m\u001b[43mkey\u001b[49m\u001b[43m)\u001b[49m\n\u001b[1;32m   3805\u001b[0m \u001b[38;5;28;01mif\u001b[39;00m is_integer(indexer):\n\u001b[1;32m   3806\u001b[0m     indexer \u001b[38;5;241m=\u001b[39m [indexer]\n",
      "File \u001b[0;32m~/opt/anaconda3/envs/aif360/lib/python3.9/site-packages/pandas/core/indexes/base.py:3805\u001b[0m, in \u001b[0;36mIndex.get_loc\u001b[0;34m(self, key, method, tolerance)\u001b[0m\n\u001b[1;32m   3803\u001b[0m     \u001b[38;5;28;01mreturn\u001b[39;00m \u001b[38;5;28mself\u001b[39m\u001b[38;5;241m.\u001b[39m_engine\u001b[38;5;241m.\u001b[39mget_loc(casted_key)\n\u001b[1;32m   3804\u001b[0m \u001b[38;5;28;01mexcept\u001b[39;00m \u001b[38;5;167;01mKeyError\u001b[39;00m \u001b[38;5;28;01mas\u001b[39;00m err:\n\u001b[0;32m-> 3805\u001b[0m     \u001b[38;5;28;01mraise\u001b[39;00m \u001b[38;5;167;01mKeyError\u001b[39;00m(key) \u001b[38;5;28;01mfrom\u001b[39;00m \u001b[38;5;21;01merr\u001b[39;00m\n\u001b[1;32m   3806\u001b[0m \u001b[38;5;28;01mexcept\u001b[39;00m \u001b[38;5;167;01mTypeError\u001b[39;00m:\n\u001b[1;32m   3807\u001b[0m     \u001b[38;5;66;03m# If we have a listlike key, _check_indexing_error will raise\u001b[39;00m\n\u001b[1;32m   3808\u001b[0m     \u001b[38;5;66;03m#  InvalidIndexError. Otherwise we fall through and re-raise\u001b[39;00m\n\u001b[1;32m   3809\u001b[0m     \u001b[38;5;66;03m#  the TypeError.\u001b[39;00m\n\u001b[1;32m   3810\u001b[0m     \u001b[38;5;28mself\u001b[39m\u001b[38;5;241m.\u001b[39m_check_indexing_error(key)\n",
      "\u001b[0;31mKeyError\u001b[0m: 'commentary'"
     ]
    }
   ],
   "source": [
    "final_sheet[\"gpt\"] = final_sheet[\"commentary\"].str.replace(\"\\n+\",\" \").str.strip()\n",
    "final_sheet[\"real_transcript\"] = final_sheet[\"transcript\"].str.replace(\"\\n+\",\" \").str.strip()"
   ]
  },
  {
   "cell_type": "code",
   "execution_count": null,
   "id": "53ac1050",
   "metadata": {},
   "outputs": [],
   "source": [
    "# final_sheet[[\"real_transcript\",\"gpt\"]].to_csv(\"blind_test_solutions.csv\",index=False)"
   ]
  },
  {
   "cell_type": "code",
   "execution_count": null,
   "id": "e04e2a75",
   "metadata": {},
   "outputs": [],
   "source": [
    "shuffled = final_sheet[[\"real_transcript\",\"gpt\"]].apply(lambda x : x.sample(frac=1).reset_index(drop=True),axis=1)"
   ]
  },
  {
   "cell_type": "code",
   "execution_count": null,
   "id": "00b6b4c0",
   "metadata": {},
   "outputs": [],
   "source": [
    "# shuffled.to_csv(\"blind_test.csv\",index=False)"
   ]
  },
  {
   "cell_type": "code",
   "execution_count": null,
   "id": "7beb16e2",
   "metadata": {},
   "outputs": [],
   "source": []
  }
 ],
 "metadata": {
  "kernelspec": {
   "display_name": "Python 3 (ipykernel)",
   "language": "python",
   "name": "python3"
  },
  "language_info": {
   "codemirror_mode": {
    "name": "ipython",
    "version": 3
   },
   "file_extension": ".py",
   "mimetype": "text/x-python",
   "name": "python",
   "nbconvert_exporter": "python",
   "pygments_lexer": "ipython3",
   "version": "3.9.13"
  }
 },
 "nbformat": 4,
 "nbformat_minor": 5
}
