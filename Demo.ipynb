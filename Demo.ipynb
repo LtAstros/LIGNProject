{
 "cells": [
  {
   "cell_type": "markdown",
   "id": "51257461",
   "metadata": {},
   "source": [
    "## Introduction\n",
    "\n",
    "Here's the scenario: Two teams are playing each other today (2022-12-01). The score is tied, and tensions are high. One team is definitely about to make a touchdown, and although they're not on goal, they're really close, close enough that one play can seal the deal. There are 30 seconds left on the clock, it's the 4th down, in the 4th quarter. What happens next is up to you!\n"
   ]
  },
  {
   "cell_type": "code",
   "execution_count": 1,
   "id": "df0abfb5",
   "metadata": {},
   "outputs": [],
   "source": [
    "import pandas as pd\n",
    "import numpy as np\n",
    "from demo import create_your_own_json"
   ]
  },
  {
   "cell_type": "code",
   "execution_count": 2,
   "id": "cdd0cd82",
   "metadata": {},
   "outputs": [
    {
     "name": "stdout",
     "output_type": "stream",
     "text": [
      "First let's pick teams! In the input below, give us the name of your chosen home team and away team.\n",
      "For now let's keep it to NFL teams; our testing has not confirmed that random abbreviations will work.\n",
      "Here are some examples:\n",
      "- NYG\n",
      "- TB\n",
      "- MIA\n",
      "- WAS\n",
      "- LA\n",
      "- LAC\n",
      "\n",
      "Your selected home team is: NYG\n",
      "\n",
      "Your selected away team is: TB\n",
      "\n",
      "Excellent! Make sure you read the output from the previous cell to make sure your home and away teams were set as desired.\n",
      "Now let's move on; which team has the ball?\n",
      "\n",
      "The team with possession is: NYG\n",
      "\n",
      "Great! That means that the home team has the ball, and TB is defending!\n",
      "Now let's get into the thick of it. What kind of play was just made? Your choices are between 'pass' and 'rush'.\n",
      "\n",
      "Choose your play type: pass\n",
      "\n",
      "Who was throwing the ball? Name should be formatted as follows:\n",
      "First letter of first name, last name, ie. T. Brady, R. Wilson. \n",
      "\n",
      "Dream QB here please: T. Brady\n",
      "\n",
      "Who was receiving the ball? Follow the same formatting as above!\n",
      "\n",
      "Best receiver in the NFL here please: R. Wilson\n",
      "\n",
      "Now a quickfire round: How many yards did the qb throw the ball, was it deep or short, and which direction?\n",
      "The number of yards should be lesser than or equal to 12.\n",
      "Direction can be right, left or straight.\n",
      "\n",
      "How far did the QB throw the pigskin: 3\n",
      "\n",
      "deep or short (watch the casing!): deep\n",
      "\n",
      "right, left or straight: right\n",
      "\n",
      "And that's all that we need from you! Now watch as GPT-3 works its magic on your generated data object!\n",
      "For reference here is what your object looks like: \n",
      "\n",
      "{'game_date': '2022-12-01', 'sp': 1, 'touchdown': 1, 'drive': 6, 'time': '0:30', 'qtr': 4, 'quarter_seconds_remaining': 30, 'half_seconds_remaining': 30, 'game_seconds_remaining': 30, 'game_half': 'Half2', 'goal_to_go': 0, 'down': 4, 'yardline_100': 12, 'yards_gained': 12, 'score_differential': 0, 'posteam_score': 21, 'defteam_score': 21, 'score_differential_post': 6, 'posteam_score_post': 27, 'defteam_score_post': 21, 'home_team': 'NYG', 'away_team': 'TB', 'posteam': 'NYG', 'posteam_type': 'home', 'defteam': 'TB', 'play_type': 'pass', 'pass_touchdown': 1, 'passer_player_name': 'T. Brady', 'receiver_player_name': 'R. Wilson', 'air_yards': 3.0, 'yards_after_catch': 9.0, 'pass_length': 'deep', 'pass_location': 'right'}\n"
     ]
    }
   ],
   "source": [
    "obj = create_your_own_json()"
   ]
  },
  {
   "cell_type": "markdown",
   "id": "b13b34bf",
   "metadata": {},
   "source": [
    "Next up we'll make some API calls to GPT-3 and generate your transcript using the given data object!"
   ]
  },
  {
   "cell_type": "code",
   "execution_count": null,
   "id": "f9542752",
   "metadata": {},
   "outputs": [],
   "source": []
  }
 ],
 "metadata": {
  "kernelspec": {
   "display_name": "Python 3 (ipykernel)",
   "language": "python",
   "name": "python3"
  },
  "language_info": {
   "codemirror_mode": {
    "name": "ipython",
    "version": 3
   },
   "file_extension": ".py",
   "mimetype": "text/x-python",
   "name": "python",
   "nbconvert_exporter": "python",
   "pygments_lexer": "ipython3",
   "version": "3.9.7"
  }
 },
 "nbformat": 4,
 "nbformat_minor": 5
}
