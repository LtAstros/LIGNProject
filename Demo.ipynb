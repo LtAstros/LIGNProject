{
 "cells": [
  {
   "cell_type": "markdown",
   "id": "51257461",
   "metadata": {},
   "source": [
    "## Introduction\n",
    "\n",
    "Here's the scenario: Two teams are playing each other today (2022-12-01). The score is tied, and tensions are high. One team is definitely about to make a touchdown, and although they're not on goal, they're really close, close enough that one play can seal the deal. There are 30 seconds left on the clock, it's the 4th down, in the 4th quarter. What happens next is up to you!\n"
   ]
  },
  {
   "cell_type": "code",
   "execution_count": null,
   "id": "df0abfb5",
   "metadata": {},
   "outputs": [],
   "source": [
    "import pandas as pd\n",
    "import numpy as np\n",
    "from demo import create_your_own_json"
   ]
  },
  {
   "cell_type": "code",
   "execution_count": null,
   "id": "cdd0cd82",
   "metadata": {},
   "outputs": [],
   "source": [
    "obj, transcript = create_your_own_json()"
   ]
  },
  {
   "cell_type": "code",
   "execution_count": null,
   "id": "afc9b54f",
   "metadata": {},
   "outputs": [],
   "source": []
  }
 ],
 "metadata": {
  "kernelspec": {
   "display_name": "Python 3 (ipykernel)",
   "language": "python",
   "name": "python3"
  },
  "language_info": {
   "codemirror_mode": {
    "name": "ipython",
    "version": 3
   },
   "file_extension": ".py",
   "mimetype": "text/x-python",
   "name": "python",
   "nbconvert_exporter": "python",
   "pygments_lexer": "ipython3",
   "version": "3.9.13"
  }
 },
 "nbformat": 4,
 "nbformat_minor": 5
}
