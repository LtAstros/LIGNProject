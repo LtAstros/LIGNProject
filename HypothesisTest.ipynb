{
 "cells": [
  {
   "cell_type": "code",
   "execution_count": 20,
   "id": "66e5b97a",
   "metadata": {},
   "outputs": [],
   "source": [
    "import pandas as pd\n",
    "import numpy as np"
   ]
  },
  {
   "cell_type": "code",
   "execution_count": 21,
   "id": "9d740864",
   "metadata": {},
   "outputs": [],
   "source": [
    "# Load test results\n",
    "quiz_results = pd.read_csv(\"NFLTranscriptQuiz.csv\")"
   ]
  },
  {
   "cell_type": "code",
   "execution_count": 22,
   "id": "473d9560",
   "metadata": {},
   "outputs": [
    {
     "data": {
      "text/plain": [
       "0.4585253456221198"
      ]
     },
     "execution_count": 22,
     "metadata": {},
     "output_type": "execute_result"
    }
   ],
   "source": [
    "# Obtain column that defines if a person got a question correct or not\n",
    "quiz_results = quiz_results[quiz_results.columns[quiz_results.columns.str.contains(\"Score\")]]\n",
    "# Drop incomplete survey results\n",
    "quiz_results = quiz_results.dropna()\n",
    "# Turn relevant columns into numerical datatype\n",
    "quiz_results = quiz_results.apply(lambda x: x.str[0].astype(int))\n",
    "# Obtain observed test-statistic\n",
    "obs = quiz_results.mean(axis=1).mean()\n",
    "obs"
   ]
  },
  {
   "cell_type": "code",
   "execution_count": 27,
   "id": "139a2626",
   "metadata": {},
   "outputs": [],
   "source": [
    "# Simulate having all respondants having taken the quiz again 100_000 times to get a distribution\n",
    "# of test statistics under the null hypothesis\n",
    "np.random.seed(57)\n",
    "SAMPLE_SIZE = 100_000\n",
    "samples = np.random.randint(0,2,(quiz_results.shape[0],quiz_results.shape[1],SAMPLE_SIZE)).mean(axis=1).mean(axis=0)"
   ]
  },
  {
   "cell_type": "code",
   "execution_count": 29,
   "id": "769620a7",
   "metadata": {},
   "outputs": [
    {
     "data": {
      "text/plain": [
       "0.99304"
      ]
     },
     "execution_count": 29,
     "metadata": {},
     "output_type": "execute_result"
    }
   ],
   "source": [
    "# Obtain p-value\n",
    "np.mean(samples >= quiz_results.mean(axis=1).mean())"
   ]
  },
  {
   "cell_type": "code",
   "execution_count": null,
   "id": "63c7d908",
   "metadata": {},
   "outputs": [],
   "source": []
  }
 ],
 "metadata": {
  "kernelspec": {
   "display_name": "Python 3 (ipykernel)",
   "language": "python",
   "name": "python3"
  },
  "language_info": {
   "codemirror_mode": {
    "name": "ipython",
    "version": 3
   },
   "file_extension": ".py",
   "mimetype": "text/x-python",
   "name": "python",
   "nbconvert_exporter": "python",
   "pygments_lexer": "ipython3",
   "version": "3.9.13"
  }
 },
 "nbformat": 4,
 "nbformat_minor": 5
}
