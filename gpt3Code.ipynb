{
 "cells": [
  {
   "cell_type": "code",
   "execution_count": 1,
   "id": "5acb678a",
   "metadata": {},
   "outputs": [],
   "source": [
    "from config import OPENAI_API_KEY\n",
    "import openai\n",
    "import sys\n",
    "from io import StringIO\n",
    "openai.api_key = OPENAI_API_KEY"
   ]
  },
  {
   "cell_type": "code",
   "execution_count": 2,
   "id": "7d81fb89",
   "metadata": {},
   "outputs": [],
   "source": [
    "with open('prompt_2019_1.txt') as f:\n",
    "    PROMPT = f.read()\n",
    "STDOUT = sys.stdout"
   ]
  },
  {
   "cell_type": "code",
   "execution_count": 3,
   "id": "13928192",
   "metadata": {},
   "outputs": [],
   "source": [
    "with open('test_input1.txt') as f:\n",
    "    INPUT1 = f.read()"
   ]
  },
  {
   "cell_type": "code",
   "execution_count": 4,
   "id": "bcb8c3d7",
   "metadata": {},
   "outputs": [],
   "source": [
    "with open('test_input2.txt') as f:\n",
    "    INPUT2 = f.read()"
   ]
  },
  {
   "cell_type": "code",
   "execution_count": 5,
   "id": "ee937af6",
   "metadata": {},
   "outputs": [],
   "source": [
    "with open('test_input3.txt') as f:\n",
    "    INPUT3 = f.read()"
   ]
  },
  {
   "cell_type": "code",
   "execution_count": 6,
   "id": "f1b3dcf1",
   "metadata": {},
   "outputs": [],
   "source": [
    "with open('test_input4.txt') as f:\n",
    "    INPUT4 = f.read()"
   ]
  },
  {
   "cell_type": "code",
   "execution_count": 7,
   "id": "dc9e925c",
   "metadata": {},
   "outputs": [],
   "source": [
    "with open('test_input5.txt') as f:\n",
    "    INPUT5 = f.read()"
   ]
  },
  {
   "cell_type": "code",
   "execution_count": 24,
   "id": "d5ecc593",
   "metadata": {},
   "outputs": [],
   "source": [
    "def try_gpt(json, prompt_text):\n",
    "    # Get user's question\n",
    "    if json == \"\":\n",
    "        return\n",
    "\n",
    "    # Complete the prompt with user question and call OpenAI\n",
    "    prompt = f'{prompt_text} {json}\\Commentary:\\n```'\n",
    "    response = openai.Completion.create(model=\"text-davinci-002\",\n",
    "                                        prompt=prompt,\n",
    "                                        temperature=0.75,\n",
    "                                        max_tokens=512,\n",
    "                                        stop='```')\n",
    "    \n",
    "    return response[\"choices\"][0][\"text\"]"
   ]
  },
  {
   "cell_type": "code",
   "execution_count": 28,
   "id": "264e26cd",
   "metadata": {
    "scrolled": true
   },
   "outputs": [],
   "source": [
    "# res1 = try_gpt(INPUT1,PROMPT)\n",
    "res2 = try_gpt(INPUT2,PROMPT)\n",
    "# res3 = try_gpt(INPUT3,PROMPT)\n",
    "# res4 = try_gpt(INPUT4,PROMPT)\n",
    "# res5 = try_gpt(INPUT5,PROMPT)"
   ]
  },
  {
   "cell_type": "code",
   "execution_count": 32,
   "id": "94e8a6ce",
   "metadata": {},
   "outputs": [
    {
     "data": {
      "text/plain": [
       "\"\\nOn second and goal. Jones takes the handoff. He's looking for the endzone. Got it!\""
      ]
     },
     "execution_count": 32,
     "metadata": {},
     "output_type": "execute_result"
    }
   ],
   "source": [
    "res5"
   ]
  },
  {
   "cell_type": "code",
   "execution_count": 11,
   "id": "695f3d9f",
   "metadata": {},
   "outputs": [
    {
     "data": {
      "text/plain": [
       "'{\"home_team\":\"SF\",\"away_team\":\"SEA\",\"posteam\":\"SEA\",\"posteam_type\":\"away\",\"defteam\":\"SF\",\"side_of_field\":\"SEA\",\"yardline_100\":65.0,\"quarter_seconds_remaining\":732.0,\"half_seconds_remaining\":732.0,\"game_seconds_remaining\":732.0,\"game_half\":\"Half2\",\"drive\":21,\"sp\":1,\"qtr\":4,\"down\":2.0,\"time\":\"12:12\",\"yrdln\":\"SEA 35\",\"ydstogo\":7,\"ydsnet\":-8,\"play_type\":\"pass\",\"yards_gained\":-12,\"qb_dropback\":1.0,\"away_timeouts_remaining\":2,\"td_team\":\"SF\",\"posteam_timeouts_remaining\":2.0,\"defteam_timeouts_remaining\":3.0,\"total_home_score\":16,\"total_away_score\":21,\"posteam_score\":21.0,\"defteam_score\":10.0,\"score_differential\":11.0,\"posteam_score_post\":21.0,\"defteam_score_post\":16.0,\"score_differential_post\":5.0,\"fumble_forced\":1.0,\"solo_tackle\":1.0,\"fumble_lost\":1.0,\"qb_hit\":1.0,\"pass_attempt\":1.0,\"sack\":1.0,\"touchdown\":1.0,\"fumble\":1.0,\"assist_tackle\":1.0,\"passer_player_id\":\"00-0029263\",\"passer_player_name\":\"R.Wilson\",\"qb_hit_1_player_id\":\"00-0031253\",\"qb_hit_1_player_name\":\"K.Williams\",\"forced_fumble_player_1_team\":\"SF\",\"forced_fumble_player_1_player_id\":\"00-0032164\",\"forced_fumble_player_1_player_name\":\"A.Armstead\",\"forced_fumble_player_2_team\":\"SF\",\"forced_fumble_player_2_player_id\":\"00-0034815\",\"forced_fumble_player_2_player_name\":\"F.Warner\",\"solo_tackle_1_team\":\"SF\",\"solo_tackle_1_player_id\":\"00-0034815\",\"solo_tackle_1_player_name\":\"F.Warner\",\"assist_tackle_1_player_id\":\"00-0032164\",\"assist_tackle_1_player_name\":\"A.Armstead\",\"assist_tackle_1_team\":\"SF\",\"assist_tackle_2_player_id\":\"00-0031253\",\"assist_tackle_2_player_name\":\"K.Williams\",\"assist_tackle_2_team\":\"SF\",\"fumbled_1_team\":\"SEA\",\"fumbled_1_player_id\":\"00-0029263\",\"fumbled_1_player_name\":\"R.Wilson\",\"fumbled_2_player_id\":\"00-0032384\",\"fumbled_2_player_name\":\"G.Ifedi\",\"fumbled_2_team\":\"SEA\",\"fumble_recovery_1_team\":\"SEA\",\"fumble_recovery_1_yards\":-11.0,\"fumble_recovery_1_player_id\":\"00-0032384\",\"fumble_recovery_1_player_name\":\"G.Ifedi\",\"fumble_recovery_2_team\":\"SF\",\"fumble_recovery_2_yards\":12.0,\"fumble_recovery_2_player_id\":\"00-0032378\",\"fumble_recovery_2_player_name\":\"D.Buckner\"}'"
      ]
     },
     "execution_count": 11,
     "metadata": {},
     "output_type": "execute_result"
    }
   ],
   "source": [
    "INPUT1"
   ]
  },
  {
   "cell_type": "code",
   "execution_count": null,
   "id": "032f72f0",
   "metadata": {},
   "outputs": [],
   "source": []
  }
 ],
 "metadata": {
  "kernelspec": {
   "display_name": "Python 3 (ipykernel)",
   "language": "python",
   "name": "python3"
  },
  "language_info": {
   "codemirror_mode": {
    "name": "ipython",
    "version": 3
   },
   "file_extension": ".py",
   "mimetype": "text/x-python",
   "name": "python",
   "nbconvert_exporter": "python",
   "pygments_lexer": "ipython3",
   "version": "3.9.13"
  }
 },
 "nbformat": 4,
 "nbformat_minor": 5
}
