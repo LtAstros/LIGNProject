{
 "cells": [
  {
   "cell_type": "code",
   "execution_count": 1,
   "id": "5acb678a",
   "metadata": {},
   "outputs": [],
   "source": [
    "from config import OPENAI_API_KEY\n",
    "import openai\n",
    "import sys\n",
    "from io import StringIO\n",
    "openai.api_key = OPENAI_API_KEY"
   ]
  },
  {
   "cell_type": "code",
   "execution_count": 2,
   "id": "7d81fb89",
   "metadata": {},
   "outputs": [],
   "source": [
    "with open('prompt_2019_2.txt') as f:\n",
    "    PROMPT = f.read()\n",
    "STDOUT = sys.stdout"
   ]
  },
  {
   "cell_type": "code",
   "execution_count": 3,
   "id": "13928192",
   "metadata": {},
   "outputs": [],
   "source": [
    "with open('test_input1.txt') as f:\n",
    "    INPUT1 = f.read()"
   ]
  },
  {
   "cell_type": "code",
   "execution_count": 4,
   "id": "bcb8c3d7",
   "metadata": {},
   "outputs": [],
   "source": [
    "with open('test_input2.txt') as f:\n",
    "    INPUT2 = f.read()"
   ]
  },
  {
   "cell_type": "code",
   "execution_count": 5,
   "id": "ee937af6",
   "metadata": {},
   "outputs": [],
   "source": [
    "with open('test_input3.txt') as f:\n",
    "    INPUT3 = f.read()"
   ]
  },
  {
   "cell_type": "code",
   "execution_count": 6,
   "id": "f1b3dcf1",
   "metadata": {},
   "outputs": [],
   "source": [
    "with open('test_input4.txt') as f:\n",
    "    INPUT4 = f.read()"
   ]
  },
  {
   "cell_type": "code",
   "execution_count": 7,
   "id": "dc9e925c",
   "metadata": {},
   "outputs": [],
   "source": [
    "with open('test_input5.txt') as f:\n",
    "    INPUT5 = f.read()"
   ]
  },
  {
   "cell_type": "code",
   "execution_count": 8,
   "id": "d5ecc593",
   "metadata": {},
   "outputs": [],
   "source": [
    "def try_gpt(json, prompt_text):\n",
    "    # Get user's question\n",
    "    if json == \"\":\n",
    "        return\n",
    "\n",
    "    # Complete the prompt with user question and call OpenAI\n",
    "    prompt = f'{prompt_text} {json}\\Commentary:\\n```'\n",
    "    response = openai.Completion.create(model=\"text-davinci-002\",\n",
    "                                        prompt=prompt,\n",
    "                                        temperature=.75,\n",
    "                                        max_tokens=512,\n",
    "                                        stop='```')\n",
    "    \n",
    "    return response[\"choices\"][0][\"text\"]"
   ]
  },
  {
   "cell_type": "code",
   "execution_count": 9,
   "id": "34ef7244",
   "metadata": {
    "scrolled": true
   },
   "outputs": [
    {
     "data": {
      "text/plain": [
       "\"\\n\\nSecond and 7. Wilson in the shotgun. He's looking for a receiver. And he's going to have to throw this one away! Oh no! What a hit by Armstead! And Warner! They strip the ball away and it's going to be recovered by the 49ers!\""
      ]
     },
     "execution_count": 9,
     "metadata": {},
     "output_type": "execute_result"
    }
   ],
   "source": [
    "res1 = try_gpt(INPUT1,PROMPT)\n",
    "res1"
   ]
  },
  {
   "cell_type": "code",
   "execution_count": 10,
   "id": "ba2d370a",
   "metadata": {
    "scrolled": true
   },
   "outputs": [
    {
     "data": {
      "text/plain": [
       "'\\n\\nHollister with the catch! What a great play by Wilson to put it right where only his man could get it! The Seahawks take the lead!'"
      ]
     },
     "execution_count": 10,
     "metadata": {},
     "output_type": "execute_result"
    }
   ],
   "source": [
    "res2 = try_gpt(INPUT2,PROMPT)\n",
    "res2"
   ]
  },
  {
   "cell_type": "code",
   "execution_count": 11,
   "id": "28772e97",
   "metadata": {
    "scrolled": true
   },
   "outputs": [
    {
     "data": {
      "text/plain": [
       "\"\\n\\nSecond and 7. Henry with the handoff and Henry up the middle! He's looking for a hole and he'll find one! Henry breaking through the defense and into the end zone for a Titan touchdown!\""
      ]
     },
     "execution_count": 11,
     "metadata": {},
     "output_type": "execute_result"
    }
   ],
   "source": [
    "res3 = try_gpt(INPUT3,PROMPT)\n",
    "res3"
   ]
  },
  {
   "cell_type": "code",
   "execution_count": 12,
   "id": "4f5aa862",
   "metadata": {},
   "outputs": [
    {
     "data": {
      "text/plain": [
       "\"\\nFirst and 10 from their own 20-yard line. Winston with time in the pocket. He's going deep for Evans! Evans is open! Touchdown Tampa Bay!\""
      ]
     },
     "execution_count": 12,
     "metadata": {},
     "output_type": "execute_result"
    }
   ],
   "source": [
    "res4 = try_gpt(INPUT4,PROMPT)\n",
    "res4"
   ]
  },
  {
   "cell_type": "code",
   "execution_count": 13,
   "id": "da77dbef",
   "metadata": {},
   "outputs": [
    {
     "data": {
      "text/plain": [
       "\"\\nSecond and goal. Jones keeps it himself. Looking for a hole. There's a hole! And he'll dive into the endzone! The New York Giants take the lead!\""
      ]
     },
     "execution_count": 13,
     "metadata": {},
     "output_type": "execute_result"
    }
   ],
   "source": [
    "res5 = try_gpt(INPUT5,PROMPT)\n",
    "res5"
   ]
  },
  {
   "cell_type": "code",
   "execution_count": null,
   "id": "015d9d33",
   "metadata": {},
   "outputs": [],
   "source": []
  }
 ],
 "metadata": {
  "kernelspec": {
   "display_name": "Python 3 (ipykernel)",
   "language": "python",
   "name": "python3"
  },
  "language_info": {
   "codemirror_mode": {
    "name": "ipython",
    "version": 3
   },
   "file_extension": ".py",
   "mimetype": "text/x-python",
   "name": "python",
   "nbconvert_exporter": "python",
   "pygments_lexer": "ipython3",
   "version": "3.9.13"
  }
 },
 "nbformat": 4,
 "nbformat_minor": 5
}
