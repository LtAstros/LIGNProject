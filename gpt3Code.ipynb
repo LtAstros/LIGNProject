{
 "cells": [
  {
   "cell_type": "code",
   "execution_count": 1,
   "id": "5acb678a",
   "metadata": {},
   "outputs": [],
   "source": [
    "from config import OPENAI_API_KEY\n",
    "import openai\n",
    "import sys\n",
    "from io import StringIO\n",
    "openai.api_key = OPENAI_API_KEY"
   ]
  },
  {
   "cell_type": "code",
   "execution_count": 2,
   "id": "7d81fb89",
   "metadata": {},
   "outputs": [],
   "source": [
    "with open('prompt_2019.txt') as f:\n",
    "    PROMPT = f.read()\n",
    "STDOUT = sys.stdout"
   ]
  },
  {
   "cell_type": "code",
   "execution_count": 3,
   "id": "13928192",
   "metadata": {},
   "outputs": [],
   "source": [
    "with open('input1.txt') as f:\n",
    "    INPUT1 = f.read()"
   ]
  },
  {
   "cell_type": "code",
   "execution_count": 4,
   "id": "bcb8c3d7",
   "metadata": {},
   "outputs": [],
   "source": [
    "with open('input2.txt') as f:\n",
    "    INPUT2 = f.read()"
   ]
  },
  {
   "cell_type": "code",
   "execution_count": 6,
   "id": "86120c0d",
   "metadata": {},
   "outputs": [],
   "source": [
    "# def try_gpt(question):\n",
    "#     # Get user's question\n",
    "#     if question == \"\":\n",
    "#         return\n",
    "\n",
    "#     # Complete the prompt with user question and call OpenAI\n",
    "#     prompt = f'{PROMPT} {question}\\nAnswer:\\n```'\n",
    "#     response = openai.Completion.create(model=\"text-davinci-002\",\n",
    "#                                         prompt=prompt,\n",
    "#                                         temperature=0,\n",
    "#                                         max_tokens=512,\n",
    "#                                         stop='```')\n",
    "    \n",
    "#     code = response.choices[0].text.strip()\n",
    "\n",
    "#     # Execute the code!\n",
    "#     sys.stdout = output = StringIO()\n",
    "#     exec(code)\n",
    "#     print(code)\n",
    "#     sys.stdout = STDOUT\n",
    "#     print(\"Answer: \" + output.getvalue())\n",
    "#     return response"
   ]
  },
  {
   "cell_type": "code",
   "execution_count": 12,
   "id": "d5ecc593",
   "metadata": {},
   "outputs": [],
   "source": [
    "def try_gpt(json, prompt_text):\n",
    "    # Get user's question\n",
    "    if question == \"\":\n",
    "        return\n",
    "\n",
    "    # Complete the prompt with user question and call OpenAI\n",
    "    prompt = f'{prompt_text} {question}\\Commentary:\\n```'\n",
    "    response = openai.Completion.create(model=\"text-davinci-003\",\n",
    "                                        prompt=prompt,\n",
    "                                        temperature=0,\n",
    "                                        max_tokens=512,\n",
    "                                        stop='```')\n",
    "    \n",
    "#     code = response.choices[0].text.strip()\n",
    "\n",
    "#     # Execute the code!\n",
    "#     sys.stdout = output = StringIO()\n",
    "#     exec(code)\n",
    "#     print(code)\n",
    "#     sys.stdout = STDOUT\n",
    "#     print(\"Answer: \" + output.getvalue())\n",
    "    return response"
   ]
  },
  {
   "cell_type": "code",
   "execution_count": 8,
   "id": "264e26cd",
   "metadata": {
    "scrolled": true
   },
   "outputs": [],
   "source": [
    "res = try_gpt(INPUT1)"
   ]
  },
  {
   "cell_type": "code",
   "execution_count": 9,
   "id": "94e8a6ce",
   "metadata": {},
   "outputs": [
    {
     "data": {
      "text/plain": [
       "<OpenAIObject text_completion id=cmpl-6I20KFDTdB4P8cTFhFkoPRHF1rpns at 0x10b5de2c0> JSON: {\n",
       "  \"choices\": [\n",
       "    {\n",
       "      \"finish_reason\": \"stop\",\n",
       "      \"index\": 0,\n",
       "      \"logprobs\": null,\n",
       "      \"text\": \"\\nChubb takes the handoff and he's in the endzone! Chubb with the two yard touchdown run and the Browns extend their lead!\\n\"\n",
       "    }\n",
       "  ],\n",
       "  \"created\": 1669755628,\n",
       "  \"id\": \"cmpl-6I20KFDTdB4P8cTFhFkoPRHF1rpns\",\n",
       "  \"model\": \"text-davinci-003\",\n",
       "  \"object\": \"text_completion\",\n",
       "  \"usage\": {\n",
       "    \"completion_tokens\": 31,\n",
       "    \"prompt_tokens\": 2051,\n",
       "    \"total_tokens\": 2082\n",
       "  }\n",
       "}"
      ]
     },
     "execution_count": 9,
     "metadata": {},
     "output_type": "execute_result"
    }
   ],
   "source": [
    "res"
   ]
  },
  {
   "cell_type": "code",
   "execution_count": 10,
   "id": "695f3d9f",
   "metadata": {},
   "outputs": [
    {
     "data": {
      "text/plain": [
       "'{\"home_team\":\"BAL\",\"away_team\":\"CLE\",\"posteam\":\"CLE\",\"posteam_type\":\"away\",\"defteam\":\"BAL\",\"side_of_field\":\"BAL\",\"yardline_100\":2.0,\"quarter_seconds_remaining\":58.0,\"half_seconds_remaining\":958.0,\"game_seconds_remaining\":958.0,\"game_half\":\"Half2\",\"drive\":14,\"sp\":1,\"qtr\":3,\"down\":1.0,\"goal_to_go\":1.0,\"time\":\"00:58\",\"yrdln\":\"BAL 02\",\"ydstogo\":2,\"ydsnet\":74,\"play_type\":\"run\",\"yards_gained\":2,\"run_location\":\"left\",\"run_gap\":\"tackle\",\"away_timeouts_remaining\":3,\"td_team\":\"CLE\",\"posteam_timeouts_remaining\":3.0,\"defteam_timeouts_remaining\":3.0,\"total_home_score\":10,\"total_away_score\":23,\"posteam_score\":17.0,\"defteam_score\":10.0,\"score_differential\":7.0,\"posteam_score_post\":23.0,\"defteam_score_post\":10.0,\"score_differential_post\":13.0,\"first_down_rush\":1.0,\"rush_attempt\":1.0,\"touchdown\":1.0,\"rush_touchdown\":1.0,\"rusher_player_id\":\"00-0034791\",\"rusher_player_name\":\"N.Chubb\"}'"
      ]
     },
     "execution_count": 10,
     "metadata": {},
     "output_type": "execute_result"
    }
   ],
   "source": [
    "INPUT1"
   ]
  },
  {
   "cell_type": "code",
   "execution_count": null,
   "id": "032f72f0",
   "metadata": {},
   "outputs": [],
   "source": []
  }
 ],
 "metadata": {
  "kernelspec": {
   "display_name": "Python 3 (ipykernel)",
   "language": "python",
   "name": "python3"
  },
  "language_info": {
   "codemirror_mode": {
    "name": "ipython",
    "version": 3
   },
   "file_extension": ".py",
   "mimetype": "text/x-python",
   "name": "python",
   "nbconvert_exporter": "python",
   "pygments_lexer": "ipython3",
   "version": "3.9.13"
  }
 },
 "nbformat": 4,
 "nbformat_minor": 5
}
